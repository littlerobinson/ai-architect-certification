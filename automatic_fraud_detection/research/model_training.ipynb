{
 "cells": [
  {
   "cell_type": "code",
   "execution_count": 2,
   "metadata": {},
   "outputs": [],
   "source": [
    "# import polars as pl\n",
    "import pandas as pd\n",
    "\n",
    "import seaborn as sns\n",
    "import matplotlib.pyplot as plt"
   ]
  },
  {
   "cell_type": "code",
   "execution_count": 5,
   "metadata": {},
   "outputs": [],
   "source": [
    "fraud_df = pd.read_csv(\"../data/fraudTest.zip\")"
   ]
  },
  {
   "cell_type": "code",
   "execution_count": 6,
   "metadata": {},
   "outputs": [
    {
     "data": {
      "application/vnd.microsoft.datawrangler.viewer.v0+json": {
       "columns": [
        {
         "name": "index",
         "rawType": "int64",
         "type": "integer"
        },
        {
         "name": "Unnamed: 0",
         "rawType": "int64",
         "type": "integer"
        },
        {
         "name": "trans_date_trans_time",
         "rawType": "object",
         "type": "string"
        },
        {
         "name": "cc_num",
         "rawType": "int64",
         "type": "integer"
        },
        {
         "name": "merchant",
         "rawType": "object",
         "type": "string"
        },
        {
         "name": "category",
         "rawType": "object",
         "type": "string"
        },
        {
         "name": "amt",
         "rawType": "float64",
         "type": "float"
        },
        {
         "name": "first",
         "rawType": "object",
         "type": "string"
        },
        {
         "name": "last",
         "rawType": "object",
         "type": "string"
        },
        {
         "name": "gender",
         "rawType": "object",
         "type": "string"
        },
        {
         "name": "street",
         "rawType": "object",
         "type": "string"
        },
        {
         "name": "city",
         "rawType": "object",
         "type": "string"
        },
        {
         "name": "state",
         "rawType": "object",
         "type": "string"
        },
        {
         "name": "zip",
         "rawType": "int64",
         "type": "integer"
        },
        {
         "name": "lat",
         "rawType": "float64",
         "type": "float"
        },
        {
         "name": "long",
         "rawType": "float64",
         "type": "float"
        },
        {
         "name": "city_pop",
         "rawType": "int64",
         "type": "integer"
        },
        {
         "name": "job",
         "rawType": "object",
         "type": "string"
        },
        {
         "name": "dob",
         "rawType": "object",
         "type": "string"
        },
        {
         "name": "trans_num",
         "rawType": "object",
         "type": "string"
        },
        {
         "name": "unix_time",
         "rawType": "int64",
         "type": "integer"
        },
        {
         "name": "merch_lat",
         "rawType": "float64",
         "type": "float"
        },
        {
         "name": "merch_long",
         "rawType": "float64",
         "type": "float"
        },
        {
         "name": "is_fraud",
         "rawType": "int64",
         "type": "integer"
        }
       ],
       "conversionMethod": "pd.DataFrame",
       "ref": "aea0838b-1750-490f-9d46-68c62f51021d",
       "rows": [
        [
         "0",
         "0",
         "2020-06-21 12:14:25",
         "2291163933867244",
         "fraud_Kirlin and Sons",
         "personal_care",
         "2.86",
         "Jeff",
         "Elliott",
         "M",
         "351 Darlene Green",
         "Columbia",
         "SC",
         "29209",
         "33.9659",
         "-80.9355",
         "333497",
         "Mechanical engineer",
         "1968-03-19",
         "2da90c7d74bd46a0caf3777415b3ebd3",
         "1371816865",
         "33.986391",
         "-81.200714",
         "0"
        ],
        [
         "1",
         "1",
         "2020-06-21 12:14:33",
         "3573030041201292",
         "fraud_Sporer-Keebler",
         "personal_care",
         "29.84",
         "Joanne",
         "Williams",
         "F",
         "3638 Marsh Union",
         "Altonah",
         "UT",
         "84002",
         "40.3207",
         "-110.436",
         "302",
         "Sales professional, IT",
         "1990-01-17",
         "324cc204407e99f51b0d6ca0055005e7",
         "1371816873",
         "39.450498",
         "-109.960431",
         "0"
        ],
        [
         "2",
         "2",
         "2020-06-21 12:14:53",
         "3598215285024754",
         "fraud_Swaniawski, Nitzsche and Welch",
         "health_fitness",
         "41.28",
         "Ashley",
         "Lopez",
         "F",
         "9333 Valentine Point",
         "Bellmore",
         "NY",
         "11710",
         "40.6729",
         "-73.5365",
         "34496",
         "Librarian, public",
         "1970-10-21",
         "c81755dbbbea9d5c77f094348a7579be",
         "1371816893",
         "40.49581",
         "-74.196111",
         "0"
        ],
        [
         "3",
         "3",
         "2020-06-21 12:15:15",
         "3591919803438423",
         "fraud_Haley Group",
         "misc_pos",
         "60.05",
         "Brian",
         "Williams",
         "M",
         "32941 Krystal Mill Apt. 552",
         "Titusville",
         "FL",
         "32780",
         "28.5697",
         "-80.8191",
         "54767",
         "Set designer",
         "1987-07-25",
         "2159175b9efe66dc301f149d3d5abf8c",
         "1371816915",
         "28.812398",
         "-80.883061",
         "0"
        ],
        [
         "4",
         "4",
         "2020-06-21 12:15:17",
         "3526826139003047",
         "fraud_Johnston-Casper",
         "travel",
         "3.19",
         "Nathan",
         "Massey",
         "M",
         "5783 Evan Roads Apt. 465",
         "Falmouth",
         "MI",
         "49632",
         "44.2529",
         "-85.01700000000001",
         "1126",
         "Furniture designer",
         "1955-07-06",
         "57ff021bd3f328f8738bb535c302a31b",
         "1371816917",
         "44.959148",
         "-85.884734",
         "0"
        ],
        [
         "5",
         "5",
         "2020-06-21 12:15:37",
         "30407675418785",
         "fraud_Daugherty LLC",
         "kids_pets",
         "19.55",
         "Danielle",
         "Evans",
         "F",
         "76752 David Lodge Apt. 064",
         "Breesport",
         "NY",
         "14816",
         "42.1939",
         "-76.7361",
         "520",
         "Psychotherapist",
         "1991-10-13",
         "798db04aaceb4febd084f1a7c404da93",
         "1371816937",
         "41.747157",
         "-77.584197",
         "0"
        ],
        [
         "6",
         "6",
         "2020-06-21 12:15:44",
         "213180742685905",
         "fraud_Romaguera Ltd",
         "health_fitness",
         "133.93",
         "Kayla",
         "Sutton",
         "F",
         "010 Weaver Land",
         "Carlotta",
         "CA",
         "95528",
         "40.507",
         "-123.9743",
         "1139",
         "Therapist, occupational",
         "1951-01-15",
         "17003d7ce534440eadb10c4750e020e5",
         "1371816944",
         "41.499458",
         "-124.888729",
         "0"
        ],
        [
         "7",
         "7",
         "2020-06-21 12:15:50",
         "3589289942931264",
         "fraud_Reichel LLC",
         "personal_care",
         "10.37",
         "Paula",
         "Estrada",
         "F",
         "350 Stacy Glens",
         "Spencer",
         "SD",
         "57374",
         "43.7557",
         "-97.5936",
         "343",
         "Development worker, international aid",
         "1972-03-05",
         "8be473af4f05fc6146ea55ace73e7ca2",
         "1371816950",
         "44.495498",
         "-97.728453",
         "0"
        ],
        [
         "8",
         "8",
         "2020-06-21 12:16:10",
         "3596357274378601",
         "fraud_Goyette, Howell and Collier",
         "shopping_pos",
         "4.37",
         "David",
         "Everett",
         "M",
         "4138 David Fall",
         "Morrisdale",
         "PA",
         "16858",
         "41.0001",
         "-78.2357",
         "3688",
         "Advice worker",
         "1973-05-27",
         "71a1da150d1ce510193d7622e08e784e",
         "1371816970",
         "41.546067",
         "-78.120238",
         "0"
        ],
        [
         "9",
         "9",
         "2020-06-21 12:16:11",
         "3546897637165774",
         "fraud_Kilback Group",
         "food_dining",
         "66.54",
         "Kayla",
         "Obrien",
         "F",
         "7921 Robert Port Suite 343",
         "Prairie Hill",
         "TX",
         "76678",
         "31.6591",
         "-96.8094",
         "263",
         "Barrister",
         "1956-05-30",
         "a7915132c7c4240996ba03a47f81e3bd",
         "1371816971",
         "31.782919",
         "-96.366185",
         "0"
        ],
        [
         "10",
         "10",
         "2020-06-21 12:16:20",
         "2242542703101233",
         "fraud_Feil, Hilpert and Koss",
         "food_dining",
         "7.01",
         "Samuel",
         "Jenkins",
         "M",
         "43235 Mckenzie Views Apt. 837",
         "Westport",
         "KY",
         "40077",
         "38.4921",
         "-85.4524",
         "564",
         "Pensions consultant",
         "1996-04-10",
         "3b8e4d02d9e1a3bf97cf449eb0317f2c",
         "1371816980",
         "38.977546",
         "-84.727994",
         "0"
        ],
        [
         "11",
         "11",
         "2020-06-21 12:16:47",
         "571465035400",
         "fraud_Gottlieb Group",
         "kids_pets",
         "42.4",
         "Louis",
         "Fisher",
         "M",
         "45654 Hess Rest",
         "Fort Washakie",
         "WY",
         "82514",
         "43.0048",
         "-108.8964",
         "1645",
         "Freight forwarder",
         "1976-02-26",
         "fa3071565d94fb286cb0ed398c6d61d3",
         "1371817007",
         "42.687774",
         "-108.670054",
         "0"
        ],
        [
         "12",
         "12",
         "2020-06-21 12:17:21",
         "6593250708747804",
         "fraud_Connelly-Carter",
         "home",
         "2.91",
         "Melissa",
         "Meza",
         "F",
         "244 Abbott Parkway",
         "Loxahatchee",
         "FL",
         "33470",
         "26.7383",
         "-80.27600000000001",
         "26551",
         "Paramedic",
         "1977-01-04",
         "a21cb82e7d8fdbf4062f15c9422a4ca6",
         "1371817041",
         "26.07846",
         "-80.569932",
         "0"
        ],
        [
         "13",
         "13",
         "2020-06-21 12:18:27",
         "4988304376504",
         "fraud_Bechtelar-Rippin",
         "food_dining",
         "7.93",
         "William",
         "Thompson",
         "M",
         "977 Rita Grove Apt. 000",
         "Rock Tavern",
         "NY",
         "12575",
         "41.4575",
         "-74.1659",
         "2258",
         "Building surveyor",
         "1937-03-17",
         "d0d2b5cca5ae19e0a07dc7ef5d51e59e",
         "1371817107",
         "40.71168",
         "-73.668384",
         "0"
        ],
        [
         "14",
         "14",
         "2020-06-21 12:18:37",
         "6011504998544485",
         "fraud_Lubowitz-Walter",
         "kids_pets",
         "2.91",
         "Ashley",
         "Whitney",
         "F",
         "4038 Smith Avenue",
         "Jones",
         "AL",
         "36749",
         "32.5104",
         "-86.8138",
         "1089",
         "Materials engineer",
         "1971-11-02",
         "61dca41a9728ea5fd6db99efd59768f8",
         "1371817117",
         "32.721131",
         "-87.253846",
         "0"
        ],
        [
         "15",
         "15",
         "2020-06-21 12:18:41",
         "4570636521433188",
         "fraud_Welch, Rath and Koepp",
         "entertainment",
         "24.73",
         "Christine",
         "Leblanc",
         "F",
         "5097 Jodi Vista Suite 811",
         "Deltona",
         "FL",
         "32725",
         "28.8989",
         "-81.2473",
         "88735",
         "Commercial horticulturist",
         "1988-04-09",
         "ea11379e8aa1b08d584149d65770faee",
         "1371817121",
         "29.83155",
         "-80.926829",
         "0"
        ],
        [
         "16",
         "16",
         "2020-06-21 12:18:54",
         "4906628655840914250",
         "fraud_Hickle Group",
         "shopping_pos",
         "2.33",
         "Charles",
         "Moreno",
         "M",
         "838 Franklin Prairie Apt. 902",
         "Key West",
         "FL",
         "33040",
         "24.6557",
         "-81.3824",
         "32891",
         "Town planner",
         "1987-02-13",
         "00da72495351ce6bd9ecb75d51cca89b",
         "1371817134",
         "24.306325",
         "-81.065169",
         "0"
        ],
        [
         "17",
         "17",
         "2020-06-21 12:19:50",
         "4908846471916297",
         "fraud_Lang, Towne and Schuppe",
         "kids_pets",
         "16.6",
         "Lauren",
         "Torres",
         "F",
         "03030 White Lakes",
         "Grandview",
         "TX",
         "76050",
         "32.2779",
         "-97.2351",
         "5875",
         "Radiographer, therapeutic",
         "1992-07-24",
         "67288141e8206f6f49706c1cef5b75d3",
         "1371817190",
         "33.182349",
         "-97.919284",
         "0"
        ],
        [
         "18",
         "18",
         "2020-06-21 12:19:56",
         "4861310130652566408",
         "fraud_Morissette LLC",
         "entertainment",
         "80.11",
         "Ashley",
         "Cruz",
         "F",
         "65417 Walsh Radial Suite 691",
         "Saint Amant",
         "LA",
         "70774",
         "30.2385",
         "-90.8435",
         "10076",
         "Surveyor, rural practice",
         "1977-12-16",
         "71bb6ee81f9af4d2a38bf6af2b614708",
         "1371817196",
         "30.449990000000003",
         "-89.930996",
         "0"
        ],
        [
         "19",
         "19",
         "2020-06-21 12:20:13",
         "6538441737335434",
         "fraud_Prosacco LLC",
         "personal_care",
         "5.71",
         "Gina",
         "Grimes",
         "F",
         "444 Robert Mews",
         "Clarks Mills",
         "PA",
         "16114",
         "41.3851",
         "-80.1752",
         "606",
         "Energy manager",
         "1997-09-22",
         "2d7640ea4f3bcd520a3c33200c393dd8",
         "1371817213",
         "40.508064000000005",
         "-79.615158",
         "0"
        ],
        [
         "20",
         "20",
         "2020-06-21 12:20:34",
         "2283743876903625",
         "fraud_Corwin-Romaguera",
         "travel",
         "8.53",
         "Shannon",
         "Williams",
         "F",
         "9345 Spencer Junctions Suite 183",
         "Alpharetta",
         "GA",
         "30009",
         "34.077",
         "-84.3033",
         "165556",
         "Prison officer",
         "1997-12-27",
         "1650f4f052cc85af7bd417fa17d59ac5",
         "1371817234",
         "33.195225",
         "-84.11908299999999",
         "0"
        ],
        [
         "21",
         "21",
         "2020-06-21 12:20:42",
         "4560004149983868183",
         "fraud_Gottlieb Group",
         "kids_pets",
         "37.95",
         "Stacy",
         "Villegas",
         "F",
         "20581 Pena Walks",
         "Colorado Springs",
         "CO",
         "80951",
         "38.8881",
         "-104.6556",
         "525713",
         "Museum/gallery exhibitions officer",
         "1992-05-09",
         "b14cd1ccf78a409c664bf071872a4384",
         "1371817242",
         "39.844711",
         "-103.975632",
         "0"
        ],
        [
         "22",
         "22",
         "2020-06-21 12:20:57",
         "4562827002127",
         "fraud_Tillman LLC",
         "travel",
         "1.74",
         "Christopher",
         "Johnson",
         "M",
         "28711 Kristine Junction Suite 309",
         "Greenville",
         "OH",
         "45331",
         "40.0987",
         "-84.6342",
         "22930",
         "Media planner",
         "1971-11-26",
         "d8edb8556aad03a15e2d5702948a47fb",
         "1371817257",
         "40.117116",
         "-84.175021",
         "0"
        ],
        [
         "23",
         "23",
         "2020-06-21 12:21:46",
         "213153151785052",
         "fraud_Veum-Koelpin",
         "travel",
         "6.02",
         "Rebecca",
         "Conley",
         "F",
         "181 Moreno Light Apt. 215",
         "Tomahawk",
         "WI",
         "54487",
         "45.4963",
         "-89.7273",
         "9594",
         "Seismic interpreter",
         "1997-11-23",
         "79f931ffc97dfe9966cd7d09613fe308",
         "1371817306",
         "45.47444",
         "-89.539774",
         "0"
        ],
        [
         "24",
         "24",
         "2020-06-21 12:21:47",
         "372509258176510",
         "fraud_Watsica, Haag and Considine",
         "shopping_pos",
         "9.87",
         "Kristen",
         "Hanson",
         "F",
         "26544 Andrea Glen",
         "Goodrich",
         "MI",
         "48438",
         "42.9147",
         "-83.4845",
         "6951",
         "Learning disability nurse",
         "1985-06-18",
         "df862b772cfb9ca0d621c259df11a652",
         "1371817307",
         "43.702833",
         "-83.750248",
         "0"
        ],
        [
         "25",
         "25",
         "2020-06-21 12:23:08",
         "6011148190095209",
         "fraud_Leannon-Ward",
         "food_dining",
         "47.06",
         "Terri",
         "Bailey",
         "F",
         "508 Erin Mount",
         "Daly City",
         "CA",
         "94015",
         "37.6787",
         "-122.478",
         "107941",
         "Buyer, industrial",
         "1991-10-04",
         "3dfec697170c9155ba76464e03179724",
         "1371817388",
         "38.048242",
         "-123.12568",
         "0"
        ],
        [
         "26",
         "26",
         "2020-06-21 12:23:09",
         "6011917798331152",
         "fraud_Hintz, Bauch and Smith",
         "health_fitness",
         "1.7",
         "William",
         "Johnson",
         "M",
         "50843 Vincent Mission",
         "South Londonderry",
         "VT",
         "5155",
         "43.1699",
         "-72.8515",
         "828",
         "Scientific laboratory technician",
         "1957-08-30",
         "6c58a441ceeb7dc623316c6a68158d29",
         "1371817389",
         "42.390565",
         "-71.932418",
         "0"
        ],
        [
         "27",
         "27",
         "2020-06-21 12:23:53",
         "3577663406369449",
         "fraud_Labadie LLC",
         "personal_care",
         "2.17",
         "Cody",
         "Hooper",
         "M",
         "7233 John Parks",
         "Lepanto",
         "AR",
         "72354",
         "35.6069",
         "-90.3359",
         "2470",
         "Counselling psychologist",
         "1968-10-06",
         "340ad023c64e8b7d2164ca3e53620186",
         "1371817433",
         "36.581541",
         "-89.68051700000001",
         "0"
        ],
        [
         "28",
         "28",
         "2020-06-21 12:24:11",
         "3502377050801561",
         "fraud_Eichmann, Hayes and Treutel",
         "travel",
         "6.21",
         "Kathleen",
         "Martin",
         "F",
         "659 Nicole Cove Suite 560",
         "New Waverly",
         "TX",
         "77358",
         "30.5354",
         "-95.4532",
         "4993",
         "Scientist, biomedical",
         "1948-11-30",
         "9662b7fede7772f80331fd0abbc7909d",
         "1371817451",
         "31.432355",
         "-95.537859",
         "0"
        ],
        [
         "29",
         "29",
         "2020-06-21 12:24:16",
         "180040027502291",
         "fraud_Leffler-Goldner",
         "personal_care",
         "24.44",
         "Mary",
         "Schmidt",
         "F",
         "022 Moore Island",
         "New York City",
         "NY",
         "10162",
         "40.7699",
         "-73.9511",
         "1577385",
         "Audiological scientist",
         "1957-12-29",
         "efbea5fb8c846843c13f224379ba249e",
         "1371817456",
         "40.951475",
         "-74.065226",
         "0"
        ],
        [
         "30",
         "30",
         "2020-06-21 12:25:09",
         "379897244598068",
         "fraud_Kautzer and Sons",
         "personal_care",
         "176.23",
         "Frank",
         "Key",
         "M",
         "5537 Jessica Plaza",
         "Pewee Valley",
         "KY",
         "40056",
         "38.3039",
         "-85.4834",
         "3263",
         "Stage manager",
         "1930-02-28",
         "3f5587dd43e45910ba221bc3a4dfdd3f",
         "1371817509",
         "38.585316",
         "-86.10818499999999",
         "0"
        ],
        [
         "31",
         "31",
         "2020-06-21 12:26:10",
         "180048185037117",
         "fraud_Ernser-Feest",
         "home",
         "134.39",
         "Mary",
         "Wall",
         "F",
         "2481 Mills Lock",
         "Plainfield",
         "NJ",
         "7060",
         "40.6152",
         "-74.415",
         "71485",
         "Leisure centre manager",
         "1974-07-19",
         "bc7699cb759a26aa5dd58d4124febf8d",
         "1371817570",
         "40.196876",
         "-74.407686",
         "0"
        ],
        [
         "32",
         "32",
         "2020-06-21 12:26:13",
         "4302475216404898",
         "fraud_Zemlak, Tillman and Cremin",
         "personal_care",
         "19.03",
         "Daniel",
         "Cain",
         "M",
         "384 Newman Forks Apt. 370",
         "Belmond",
         "IA",
         "50421",
         "42.8511",
         "-93.62",
         "3032",
         "Community pharmacist",
         "1964-08-08",
         "cd10a7d08e9262899109c06a8e180302",
         "1371817573",
         "42.322809",
         "-94.363655",
         "0"
        ],
        [
         "33",
         "33",
         "2020-06-21 12:26:23",
         "180036456789979",
         "fraud_Nienow PLC",
         "entertainment",
         "210.36",
         "Mackenzie",
         "Salazar",
         "F",
         "982 Melissa Lock",
         "Bagley",
         "WI",
         "53801",
         "42.9207",
         "-91.0685",
         "878",
         "Risk analyst",
         "1974-11-20",
         "902facfd912019350d63a3539990638e",
         "1371817583",
         "42.736666",
         "-90.09971",
         "0"
        ],
        [
         "34",
         "34",
         "2020-06-21 12:26:25",
         "180065479077096",
         "fraud_Lynch-Wisozk",
         "home",
         "52.81",
         "Krystal",
         "Gamble",
         "F",
         "47152 Clayton Burg",
         "Manchester",
         "MD",
         "21102",
         "39.6747",
         "-76.8941",
         "11751",
         "Clinical research associate",
         "1964-02-15",
         "0ad27a9cf7fcb1e0774a86709cb248f1",
         "1371817585",
         "39.289186",
         "-77.113659",
         "0"
        ],
        [
         "35",
         "35",
         "2020-06-21 12:26:26",
         "6517217825320610",
         "fraud_Feil, Hilpert and Koss",
         "food_dining",
         "82.32",
         "James",
         "Reese",
         "M",
         "26975 Richardson Mills Apt. 402",
         "Sontag",
         "MS",
         "39665",
         "31.6453",
         "-90.1801",
         "1196",
         "Librarian, academic",
         "1958-06-11",
         "5a13c85ba5d478ee2bed550c6ab71c1e",
         "1371817586",
         "31.422908000000003",
         "-90.012124",
         "0"
        ],
        [
         "36",
         "36",
         "2020-06-21 12:27:08",
         "4683520018489354",
         "fraud_Schiller Ltd",
         "personal_care",
         "26.31",
         "Charles",
         "Carrillo",
         "M",
         "17547 Stephen Turnpike Apt. 846",
         "Hawthorne",
         "CA",
         "90250",
         "33.9143",
         "-118.3493",
         "93193",
         "Editor, magazine features",
         "1995-04-19",
         "e91e10ae4ad160e1aee1054ea96de9ba",
         "1371817628",
         "33.949418",
         "-117.610248",
         "0"
        ],
        [
         "37",
         "37",
         "2020-06-21 12:27:22",
         "501899453424",
         "fraud_Hoppe-Parisian",
         "kids_pets",
         "134.6",
         "Jessica",
         "Dominguez",
         "F",
         "06393 Nancy Parkways Suite 855",
         "Gadsden",
         "AL",
         "35903",
         "33.9845",
         "-85.9077",
         "67082",
         "Ceramics designer",
         "1970-01-08",
         "cc3733b9ecedc1a7b0053bd0647cdaaa",
         "1371817642",
         "34.727266",
         "-86.883794",
         "0"
        ],
        [
         "38",
         "38",
         "2020-06-21 12:27:40",
         "6011348830550197",
         "fraud_Hoppe-Parisian",
         "kids_pets",
         "36.72",
         "Samuel",
         "Johnston",
         "M",
         "16285 Jessica Lights",
         "Birmingham",
         "AL",
         "35229",
         "33.4629",
         "-86.7904",
         "493806",
         "Musician",
         "1980-07-12",
         "60a92b482a0058d2769c1ab10c55cb25",
         "1371817660",
         "32.761156",
         "-85.903113",
         "0"
        ],
        [
         "39",
         "39",
         "2020-06-21 12:27:54",
         "213195754007681",
         "fraud_Brown-Greenholt",
         "entertainment",
         "105.78",
         "Zachary",
         "Allen",
         "M",
         "69252 Oconnor Alley Apt. 153",
         "Ollie",
         "IA",
         "52576",
         "41.2001",
         "-92.1354",
         "568",
         "Commercial horticulturist",
         "1969-07-24",
         "fc72537e1af1f675c8713aa1a36f3c53",
         "1371817674",
         "41.214609",
         "-92.226244",
         "0"
        ],
        [
         "40",
         "40",
         "2020-06-21 12:28:06",
         "2712209726293386",
         "fraud_Reilly LLC",
         "home",
         "39.95",
         "Jenna",
         "Brooks",
         "F",
         "50872 Alex Plain Suite 088",
         "Baton Rouge",
         "LA",
         "70808",
         "30.4066",
         "-91.1468",
         "378909",
         "Designer, furniture",
         "1977-02-22",
         "fb32dada5c853d60e84278eaae707ee2",
         "1371817686",
         "30.382414",
         "-90.923894",
         "0"
        ],
        [
         "41",
         "41",
         "2020-06-21 12:28:23",
         "503874407318",
         "fraud_Moore, Williamson and Emmerich",
         "home",
         "47.81",
         "Andrew",
         "Mcgee",
         "M",
         "4130 Tiffany Glen Apt. 562",
         "San Antonio",
         "TX",
         "78248",
         "29.5894",
         "-98.5201",
         "1595797",
         "Exhibition designer",
         "1975-12-28",
         "4ffb7174155b877c4d18d1d86e71e813",
         "1371817703",
         "30.50995",
         "-99.374201",
         "0"
        ],
        [
         "42",
         "42",
         "2020-06-21 12:28:39",
         "676369110710",
         "fraud_Rau-Robel",
         "kids_pets",
         "18.96",
         "David",
         "Wolfe",
         "M",
         "81261 Garcia Underpass Suite 741",
         "Southfield",
         "MI",
         "48034",
         "42.4969",
         "-83.2911",
         "75830",
         "Engineer, automotive",
         "1974-12-28",
         "14dd61cec0b9be2d29aff70f605964ab",
         "1371817719",
         "42.186473",
         "-84.041557",
         "0"
        ],
        [
         "43",
         "43",
         "2020-06-21 12:29:25",
         "4783226709001",
         "fraud_Fadel, Mertz and Rippin",
         "entertainment",
         "46.67",
         "Jessica",
         "Garcia",
         "F",
         "13108 Jennifer Passage",
         "Mc Cracken",
         "KS",
         "67556",
         "38.5957",
         "-99.554",
         "320",
         "Film/video editor",
         "1961-04-22",
         "822cd909aeb6a351637b5f9ba9866f19",
         "1371817765",
         "39.456658",
         "-99.569786",
         "0"
        ],
        [
         "44",
         "44",
         "2020-06-21 12:29:27",
         "375848982312810",
         "fraud_Crona and Sons",
         "kids_pets",
         "30.59",
         "Dale",
         "Smith",
         "M",
         "25036 Contreras Turnpike Suite 270",
         "Purmela",
         "TX",
         "76566",
         "31.4841",
         "-97.9903",
         "258",
         "Web designer",
         "1943-12-15",
         "5f947d9974aca9e08265898e26db1583",
         "1371817767",
         "32.053228000000004",
         "-97.160999",
         "0"
        ],
        [
         "45",
         "45",
         "2020-06-21 12:29:30",
         "30270432095985",
         "fraud_Bahringer, Bergnaum and Quitzon",
         "home",
         "3.94",
         "Lisa",
         "Lin",
         "F",
         "908 Brooks Brook",
         "Lomax",
         "IL",
         "61454",
         "40.6761",
         "-91.0391",
         "725",
         "Environmental consultant",
         "1972-11-28",
         "4326b0d0ee56d328d40269e79a68ea30",
         "1371817770",
         "40.922923",
         "-91.977219",
         "0"
        ],
        [
         "46",
         "46",
         "2020-06-21 12:29:33",
         "6011149206456997",
         "fraud_Koss, Hansen and Lueilwitz",
         "home",
         "84.11",
         "Jeffrey",
         "White",
         "M",
         "8617 Holmes Terrace Suite 651",
         "Tuscarora",
         "MD",
         "21790",
         "39.2667",
         "-77.5101",
         "100",
         "Production assistant, television",
         "1979-12-11",
         "ce73a1c97d13e160112f3142781300ac",
         "1371817773",
         "39.535382",
         "-77.064747",
         "0"
        ],
        [
         "47",
         "47",
         "2020-06-21 12:29:36",
         "4110266553600176127",
         "fraud_Yost, Schamberger and Windler",
         "kids_pets",
         "31.19",
         "Sandra",
         "Schwartz",
         "F",
         "3789 Mark Walks",
         "Sunflower",
         "MS",
         "38778",
         "33.5567",
         "-90.5451",
         "1686",
         "Education officer, community",
         "1986-11-06",
         "e7b73a4e22392a7800afdca8c230878f",
         "1371817776",
         "33.693106",
         "-89.59474399999999",
         "0"
        ],
        [
         "48",
         "48",
         "2020-06-21 12:29:46",
         "675990301623",
         "fraud_Armstrong, Walter and Gottlieb",
         "food_dining",
         "4.91",
         "Amanda",
         "Spencer",
         "F",
         "6682 Green Forks",
         "Ogdensburg",
         "NJ",
         "7439",
         "41.0767",
         "-74.5982",
         "2456",
         "Senior tax professional/tax inspector",
         "1994-03-13",
         "def4f0ac7d3e4f02f33462a25632ef6c",
         "1371817786",
         "41.061214",
         "-73.99798100000001",
         "0"
        ],
        [
         "49",
         "49",
         "2020-06-21 12:29:56",
         "377026671291680",
         "fraud_Friesen Ltd",
         "health_fitness",
         "5.36",
         "Jackie",
         "Davis",
         "F",
         "1898 Parker Fork Apt. 057",
         "Redford",
         "MO",
         "63665",
         "37.3272",
         "-91.0243",
         "241",
         "Investment analyst",
         "1974-10-27",
         "0920f8e36028f404b48385209a995113",
         "1371817796",
         "38.211238",
         "-90.421871",
         "0"
        ]
       ],
       "shape": {
        "columns": 23,
        "rows": 555719
       }
      },
      "text/html": [
       "<div>\n",
       "<style scoped>\n",
       "    .dataframe tbody tr th:only-of-type {\n",
       "        vertical-align: middle;\n",
       "    }\n",
       "\n",
       "    .dataframe tbody tr th {\n",
       "        vertical-align: top;\n",
       "    }\n",
       "\n",
       "    .dataframe thead th {\n",
       "        text-align: right;\n",
       "    }\n",
       "</style>\n",
       "<table border=\"1\" class=\"dataframe\">\n",
       "  <thead>\n",
       "    <tr style=\"text-align: right;\">\n",
       "      <th></th>\n",
       "      <th>Unnamed: 0</th>\n",
       "      <th>trans_date_trans_time</th>\n",
       "      <th>cc_num</th>\n",
       "      <th>merchant</th>\n",
       "      <th>category</th>\n",
       "      <th>amt</th>\n",
       "      <th>first</th>\n",
       "      <th>last</th>\n",
       "      <th>gender</th>\n",
       "      <th>street</th>\n",
       "      <th>...</th>\n",
       "      <th>lat</th>\n",
       "      <th>long</th>\n",
       "      <th>city_pop</th>\n",
       "      <th>job</th>\n",
       "      <th>dob</th>\n",
       "      <th>trans_num</th>\n",
       "      <th>unix_time</th>\n",
       "      <th>merch_lat</th>\n",
       "      <th>merch_long</th>\n",
       "      <th>is_fraud</th>\n",
       "    </tr>\n",
       "  </thead>\n",
       "  <tbody>\n",
       "    <tr>\n",
       "      <th>0</th>\n",
       "      <td>0</td>\n",
       "      <td>2020-06-21 12:14:25</td>\n",
       "      <td>2291163933867244</td>\n",
       "      <td>fraud_Kirlin and Sons</td>\n",
       "      <td>personal_care</td>\n",
       "      <td>2.86</td>\n",
       "      <td>Jeff</td>\n",
       "      <td>Elliott</td>\n",
       "      <td>M</td>\n",
       "      <td>351 Darlene Green</td>\n",
       "      <td>...</td>\n",
       "      <td>33.9659</td>\n",
       "      <td>-80.9355</td>\n",
       "      <td>333497</td>\n",
       "      <td>Mechanical engineer</td>\n",
       "      <td>1968-03-19</td>\n",
       "      <td>2da90c7d74bd46a0caf3777415b3ebd3</td>\n",
       "      <td>1371816865</td>\n",
       "      <td>33.986391</td>\n",
       "      <td>-81.200714</td>\n",
       "      <td>0</td>\n",
       "    </tr>\n",
       "    <tr>\n",
       "      <th>1</th>\n",
       "      <td>1</td>\n",
       "      <td>2020-06-21 12:14:33</td>\n",
       "      <td>3573030041201292</td>\n",
       "      <td>fraud_Sporer-Keebler</td>\n",
       "      <td>personal_care</td>\n",
       "      <td>29.84</td>\n",
       "      <td>Joanne</td>\n",
       "      <td>Williams</td>\n",
       "      <td>F</td>\n",
       "      <td>3638 Marsh Union</td>\n",
       "      <td>...</td>\n",
       "      <td>40.3207</td>\n",
       "      <td>-110.4360</td>\n",
       "      <td>302</td>\n",
       "      <td>Sales professional, IT</td>\n",
       "      <td>1990-01-17</td>\n",
       "      <td>324cc204407e99f51b0d6ca0055005e7</td>\n",
       "      <td>1371816873</td>\n",
       "      <td>39.450498</td>\n",
       "      <td>-109.960431</td>\n",
       "      <td>0</td>\n",
       "    </tr>\n",
       "    <tr>\n",
       "      <th>2</th>\n",
       "      <td>2</td>\n",
       "      <td>2020-06-21 12:14:53</td>\n",
       "      <td>3598215285024754</td>\n",
       "      <td>fraud_Swaniawski, Nitzsche and Welch</td>\n",
       "      <td>health_fitness</td>\n",
       "      <td>41.28</td>\n",
       "      <td>Ashley</td>\n",
       "      <td>Lopez</td>\n",
       "      <td>F</td>\n",
       "      <td>9333 Valentine Point</td>\n",
       "      <td>...</td>\n",
       "      <td>40.6729</td>\n",
       "      <td>-73.5365</td>\n",
       "      <td>34496</td>\n",
       "      <td>Librarian, public</td>\n",
       "      <td>1970-10-21</td>\n",
       "      <td>c81755dbbbea9d5c77f094348a7579be</td>\n",
       "      <td>1371816893</td>\n",
       "      <td>40.495810</td>\n",
       "      <td>-74.196111</td>\n",
       "      <td>0</td>\n",
       "    </tr>\n",
       "    <tr>\n",
       "      <th>3</th>\n",
       "      <td>3</td>\n",
       "      <td>2020-06-21 12:15:15</td>\n",
       "      <td>3591919803438423</td>\n",
       "      <td>fraud_Haley Group</td>\n",
       "      <td>misc_pos</td>\n",
       "      <td>60.05</td>\n",
       "      <td>Brian</td>\n",
       "      <td>Williams</td>\n",
       "      <td>M</td>\n",
       "      <td>32941 Krystal Mill Apt. 552</td>\n",
       "      <td>...</td>\n",
       "      <td>28.5697</td>\n",
       "      <td>-80.8191</td>\n",
       "      <td>54767</td>\n",
       "      <td>Set designer</td>\n",
       "      <td>1987-07-25</td>\n",
       "      <td>2159175b9efe66dc301f149d3d5abf8c</td>\n",
       "      <td>1371816915</td>\n",
       "      <td>28.812398</td>\n",
       "      <td>-80.883061</td>\n",
       "      <td>0</td>\n",
       "    </tr>\n",
       "    <tr>\n",
       "      <th>4</th>\n",
       "      <td>4</td>\n",
       "      <td>2020-06-21 12:15:17</td>\n",
       "      <td>3526826139003047</td>\n",
       "      <td>fraud_Johnston-Casper</td>\n",
       "      <td>travel</td>\n",
       "      <td>3.19</td>\n",
       "      <td>Nathan</td>\n",
       "      <td>Massey</td>\n",
       "      <td>M</td>\n",
       "      <td>5783 Evan Roads Apt. 465</td>\n",
       "      <td>...</td>\n",
       "      <td>44.2529</td>\n",
       "      <td>-85.0170</td>\n",
       "      <td>1126</td>\n",
       "      <td>Furniture designer</td>\n",
       "      <td>1955-07-06</td>\n",
       "      <td>57ff021bd3f328f8738bb535c302a31b</td>\n",
       "      <td>1371816917</td>\n",
       "      <td>44.959148</td>\n",
       "      <td>-85.884734</td>\n",
       "      <td>0</td>\n",
       "    </tr>\n",
       "    <tr>\n",
       "      <th>...</th>\n",
       "      <td>...</td>\n",
       "      <td>...</td>\n",
       "      <td>...</td>\n",
       "      <td>...</td>\n",
       "      <td>...</td>\n",
       "      <td>...</td>\n",
       "      <td>...</td>\n",
       "      <td>...</td>\n",
       "      <td>...</td>\n",
       "      <td>...</td>\n",
       "      <td>...</td>\n",
       "      <td>...</td>\n",
       "      <td>...</td>\n",
       "      <td>...</td>\n",
       "      <td>...</td>\n",
       "      <td>...</td>\n",
       "      <td>...</td>\n",
       "      <td>...</td>\n",
       "      <td>...</td>\n",
       "      <td>...</td>\n",
       "      <td>...</td>\n",
       "    </tr>\n",
       "    <tr>\n",
       "      <th>555714</th>\n",
       "      <td>555714</td>\n",
       "      <td>2020-12-31 23:59:07</td>\n",
       "      <td>30560609640617</td>\n",
       "      <td>fraud_Reilly and Sons</td>\n",
       "      <td>health_fitness</td>\n",
       "      <td>43.77</td>\n",
       "      <td>Michael</td>\n",
       "      <td>Olson</td>\n",
       "      <td>M</td>\n",
       "      <td>558 Michael Estates</td>\n",
       "      <td>...</td>\n",
       "      <td>40.4931</td>\n",
       "      <td>-91.8912</td>\n",
       "      <td>519</td>\n",
       "      <td>Town planner</td>\n",
       "      <td>1966-02-13</td>\n",
       "      <td>9b1f753c79894c9f4b71f04581835ada</td>\n",
       "      <td>1388534347</td>\n",
       "      <td>39.946837</td>\n",
       "      <td>-91.333331</td>\n",
       "      <td>0</td>\n",
       "    </tr>\n",
       "    <tr>\n",
       "      <th>555715</th>\n",
       "      <td>555715</td>\n",
       "      <td>2020-12-31 23:59:09</td>\n",
       "      <td>3556613125071656</td>\n",
       "      <td>fraud_Hoppe-Parisian</td>\n",
       "      <td>kids_pets</td>\n",
       "      <td>111.84</td>\n",
       "      <td>Jose</td>\n",
       "      <td>Vasquez</td>\n",
       "      <td>M</td>\n",
       "      <td>572 Davis Mountains</td>\n",
       "      <td>...</td>\n",
       "      <td>29.0393</td>\n",
       "      <td>-95.4401</td>\n",
       "      <td>28739</td>\n",
       "      <td>Futures trader</td>\n",
       "      <td>1999-12-27</td>\n",
       "      <td>2090647dac2c89a1d86c514c427f5b91</td>\n",
       "      <td>1388534349</td>\n",
       "      <td>29.661049</td>\n",
       "      <td>-96.186633</td>\n",
       "      <td>0</td>\n",
       "    </tr>\n",
       "    <tr>\n",
       "      <th>555716</th>\n",
       "      <td>555716</td>\n",
       "      <td>2020-12-31 23:59:15</td>\n",
       "      <td>6011724471098086</td>\n",
       "      <td>fraud_Rau-Robel</td>\n",
       "      <td>kids_pets</td>\n",
       "      <td>86.88</td>\n",
       "      <td>Ann</td>\n",
       "      <td>Lawson</td>\n",
       "      <td>F</td>\n",
       "      <td>144 Evans Islands Apt. 683</td>\n",
       "      <td>...</td>\n",
       "      <td>46.1966</td>\n",
       "      <td>-118.9017</td>\n",
       "      <td>3684</td>\n",
       "      <td>Musician</td>\n",
       "      <td>1981-11-29</td>\n",
       "      <td>6c5b7c8add471975aa0fec023b2e8408</td>\n",
       "      <td>1388534355</td>\n",
       "      <td>46.658340</td>\n",
       "      <td>-119.715054</td>\n",
       "      <td>0</td>\n",
       "    </tr>\n",
       "    <tr>\n",
       "      <th>555717</th>\n",
       "      <td>555717</td>\n",
       "      <td>2020-12-31 23:59:24</td>\n",
       "      <td>4079773899158</td>\n",
       "      <td>fraud_Breitenberg LLC</td>\n",
       "      <td>travel</td>\n",
       "      <td>7.99</td>\n",
       "      <td>Eric</td>\n",
       "      <td>Preston</td>\n",
       "      <td>M</td>\n",
       "      <td>7020 Doyle Stream Apt. 951</td>\n",
       "      <td>...</td>\n",
       "      <td>44.6255</td>\n",
       "      <td>-116.4493</td>\n",
       "      <td>129</td>\n",
       "      <td>Cartographer</td>\n",
       "      <td>1965-12-15</td>\n",
       "      <td>14392d723bb7737606b2700ac791b7aa</td>\n",
       "      <td>1388534364</td>\n",
       "      <td>44.470525</td>\n",
       "      <td>-117.080888</td>\n",
       "      <td>0</td>\n",
       "    </tr>\n",
       "    <tr>\n",
       "      <th>555718</th>\n",
       "      <td>555718</td>\n",
       "      <td>2020-12-31 23:59:34</td>\n",
       "      <td>4170689372027579</td>\n",
       "      <td>fraud_Dare-Marvin</td>\n",
       "      <td>entertainment</td>\n",
       "      <td>38.13</td>\n",
       "      <td>Samuel</td>\n",
       "      <td>Frey</td>\n",
       "      <td>M</td>\n",
       "      <td>830 Myers Plaza Apt. 384</td>\n",
       "      <td>...</td>\n",
       "      <td>35.6665</td>\n",
       "      <td>-97.4798</td>\n",
       "      <td>116001</td>\n",
       "      <td>Media buyer</td>\n",
       "      <td>1993-05-10</td>\n",
       "      <td>1765bb45b3aa3224b4cdcb6e7a96cee3</td>\n",
       "      <td>1388534374</td>\n",
       "      <td>36.210097</td>\n",
       "      <td>-97.036372</td>\n",
       "      <td>0</td>\n",
       "    </tr>\n",
       "  </tbody>\n",
       "</table>\n",
       "<p>555719 rows × 23 columns</p>\n",
       "</div>"
      ],
      "text/plain": [
       "        Unnamed: 0 trans_date_trans_time            cc_num  \\\n",
       "0                0   2020-06-21 12:14:25  2291163933867244   \n",
       "1                1   2020-06-21 12:14:33  3573030041201292   \n",
       "2                2   2020-06-21 12:14:53  3598215285024754   \n",
       "3                3   2020-06-21 12:15:15  3591919803438423   \n",
       "4                4   2020-06-21 12:15:17  3526826139003047   \n",
       "...            ...                   ...               ...   \n",
       "555714      555714   2020-12-31 23:59:07    30560609640617   \n",
       "555715      555715   2020-12-31 23:59:09  3556613125071656   \n",
       "555716      555716   2020-12-31 23:59:15  6011724471098086   \n",
       "555717      555717   2020-12-31 23:59:24     4079773899158   \n",
       "555718      555718   2020-12-31 23:59:34  4170689372027579   \n",
       "\n",
       "                                    merchant        category     amt    first  \\\n",
       "0                      fraud_Kirlin and Sons   personal_care    2.86     Jeff   \n",
       "1                       fraud_Sporer-Keebler   personal_care   29.84   Joanne   \n",
       "2       fraud_Swaniawski, Nitzsche and Welch  health_fitness   41.28   Ashley   \n",
       "3                          fraud_Haley Group        misc_pos   60.05    Brian   \n",
       "4                      fraud_Johnston-Casper          travel    3.19   Nathan   \n",
       "...                                      ...             ...     ...      ...   \n",
       "555714                 fraud_Reilly and Sons  health_fitness   43.77  Michael   \n",
       "555715                  fraud_Hoppe-Parisian       kids_pets  111.84     Jose   \n",
       "555716                       fraud_Rau-Robel       kids_pets   86.88      Ann   \n",
       "555717                 fraud_Breitenberg LLC          travel    7.99     Eric   \n",
       "555718                     fraud_Dare-Marvin   entertainment   38.13   Samuel   \n",
       "\n",
       "            last gender                       street  ...      lat      long  \\\n",
       "0        Elliott      M            351 Darlene Green  ...  33.9659  -80.9355   \n",
       "1       Williams      F             3638 Marsh Union  ...  40.3207 -110.4360   \n",
       "2          Lopez      F         9333 Valentine Point  ...  40.6729  -73.5365   \n",
       "3       Williams      M  32941 Krystal Mill Apt. 552  ...  28.5697  -80.8191   \n",
       "4         Massey      M     5783 Evan Roads Apt. 465  ...  44.2529  -85.0170   \n",
       "...          ...    ...                          ...  ...      ...       ...   \n",
       "555714     Olson      M          558 Michael Estates  ...  40.4931  -91.8912   \n",
       "555715   Vasquez      M          572 Davis Mountains  ...  29.0393  -95.4401   \n",
       "555716    Lawson      F   144 Evans Islands Apt. 683  ...  46.1966 -118.9017   \n",
       "555717   Preston      M   7020 Doyle Stream Apt. 951  ...  44.6255 -116.4493   \n",
       "555718      Frey      M     830 Myers Plaza Apt. 384  ...  35.6665  -97.4798   \n",
       "\n",
       "        city_pop                     job         dob  \\\n",
       "0         333497     Mechanical engineer  1968-03-19   \n",
       "1            302  Sales professional, IT  1990-01-17   \n",
       "2          34496       Librarian, public  1970-10-21   \n",
       "3          54767            Set designer  1987-07-25   \n",
       "4           1126      Furniture designer  1955-07-06   \n",
       "...          ...                     ...         ...   \n",
       "555714       519            Town planner  1966-02-13   \n",
       "555715     28739          Futures trader  1999-12-27   \n",
       "555716      3684                Musician  1981-11-29   \n",
       "555717       129            Cartographer  1965-12-15   \n",
       "555718    116001             Media buyer  1993-05-10   \n",
       "\n",
       "                               trans_num   unix_time  merch_lat  merch_long  \\\n",
       "0       2da90c7d74bd46a0caf3777415b3ebd3  1371816865  33.986391  -81.200714   \n",
       "1       324cc204407e99f51b0d6ca0055005e7  1371816873  39.450498 -109.960431   \n",
       "2       c81755dbbbea9d5c77f094348a7579be  1371816893  40.495810  -74.196111   \n",
       "3       2159175b9efe66dc301f149d3d5abf8c  1371816915  28.812398  -80.883061   \n",
       "4       57ff021bd3f328f8738bb535c302a31b  1371816917  44.959148  -85.884734   \n",
       "...                                  ...         ...        ...         ...   \n",
       "555714  9b1f753c79894c9f4b71f04581835ada  1388534347  39.946837  -91.333331   \n",
       "555715  2090647dac2c89a1d86c514c427f5b91  1388534349  29.661049  -96.186633   \n",
       "555716  6c5b7c8add471975aa0fec023b2e8408  1388534355  46.658340 -119.715054   \n",
       "555717  14392d723bb7737606b2700ac791b7aa  1388534364  44.470525 -117.080888   \n",
       "555718  1765bb45b3aa3224b4cdcb6e7a96cee3  1388534374  36.210097  -97.036372   \n",
       "\n",
       "        is_fraud  \n",
       "0              0  \n",
       "1              0  \n",
       "2              0  \n",
       "3              0  \n",
       "4              0  \n",
       "...          ...  \n",
       "555714         0  \n",
       "555715         0  \n",
       "555716         0  \n",
       "555717         0  \n",
       "555718         0  \n",
       "\n",
       "[555719 rows x 23 columns]"
      ]
     },
     "metadata": {},
     "output_type": "display_data"
    }
   ],
   "source": [
    "display(fraud_df)"
   ]
  },
  {
   "cell_type": "code",
   "execution_count": 7,
   "metadata": {},
   "outputs": [
    {
     "data": {
      "application/vnd.microsoft.datawrangler.viewer.v0+json": {
       "columns": [
        {
         "name": "index",
         "rawType": "int64",
         "type": "integer"
        },
        {
         "name": "Unnamed: 0",
         "rawType": "int64",
         "type": "integer"
        },
        {
         "name": "trans_date_trans_time",
         "rawType": "object",
         "type": "string"
        },
        {
         "name": "cc_num",
         "rawType": "int64",
         "type": "integer"
        },
        {
         "name": "merchant",
         "rawType": "object",
         "type": "string"
        },
        {
         "name": "category",
         "rawType": "object",
         "type": "string"
        },
        {
         "name": "amt",
         "rawType": "float64",
         "type": "float"
        },
        {
         "name": "first",
         "rawType": "object",
         "type": "string"
        },
        {
         "name": "last",
         "rawType": "object",
         "type": "string"
        },
        {
         "name": "gender",
         "rawType": "object",
         "type": "string"
        },
        {
         "name": "street",
         "rawType": "object",
         "type": "string"
        },
        {
         "name": "city",
         "rawType": "object",
         "type": "string"
        },
        {
         "name": "state",
         "rawType": "object",
         "type": "string"
        },
        {
         "name": "zip",
         "rawType": "int64",
         "type": "integer"
        },
        {
         "name": "lat",
         "rawType": "float64",
         "type": "float"
        },
        {
         "name": "long",
         "rawType": "float64",
         "type": "float"
        },
        {
         "name": "city_pop",
         "rawType": "int64",
         "type": "integer"
        },
        {
         "name": "job",
         "rawType": "object",
         "type": "string"
        },
        {
         "name": "dob",
         "rawType": "object",
         "type": "string"
        },
        {
         "name": "trans_num",
         "rawType": "object",
         "type": "string"
        },
        {
         "name": "unix_time",
         "rawType": "int64",
         "type": "integer"
        },
        {
         "name": "merch_lat",
         "rawType": "float64",
         "type": "float"
        },
        {
         "name": "merch_long",
         "rawType": "float64",
         "type": "float"
        },
        {
         "name": "is_fraud",
         "rawType": "int64",
         "type": "integer"
        }
       ],
       "conversionMethod": "pd.DataFrame",
       "ref": "1c676bdf-fc7e-4e43-b766-c6f3dd112a63",
       "rows": [
        [
         "154515",
         "154515",
         "2020-08-14 13:43:02",
         "3587044315915002",
         "fraud_Graham and Sons",
         "health_fitness",
         "75.69",
         "Christian",
         "Roman",
         "M",
         "495 Fisher Throughway",
         "Grand Junction",
         "TN",
         "38039",
         "35.0659",
         "-89.1534",
         "1804",
         "Clothing/textile technologist",
         "1974-10-15",
         "8c2608e46c3e990bd2b5c16a221c8ebc",
         "1376487782",
         "35.945228",
         "-89.11421700000001",
         "0"
        ]
       ],
       "shape": {
        "columns": 23,
        "rows": 1
       }
      },
      "text/html": [
       "<div>\n",
       "<style scoped>\n",
       "    .dataframe tbody tr th:only-of-type {\n",
       "        vertical-align: middle;\n",
       "    }\n",
       "\n",
       "    .dataframe tbody tr th {\n",
       "        vertical-align: top;\n",
       "    }\n",
       "\n",
       "    .dataframe thead th {\n",
       "        text-align: right;\n",
       "    }\n",
       "</style>\n",
       "<table border=\"1\" class=\"dataframe\">\n",
       "  <thead>\n",
       "    <tr style=\"text-align: right;\">\n",
       "      <th></th>\n",
       "      <th>Unnamed: 0</th>\n",
       "      <th>trans_date_trans_time</th>\n",
       "      <th>cc_num</th>\n",
       "      <th>merchant</th>\n",
       "      <th>category</th>\n",
       "      <th>amt</th>\n",
       "      <th>first</th>\n",
       "      <th>last</th>\n",
       "      <th>gender</th>\n",
       "      <th>street</th>\n",
       "      <th>...</th>\n",
       "      <th>lat</th>\n",
       "      <th>long</th>\n",
       "      <th>city_pop</th>\n",
       "      <th>job</th>\n",
       "      <th>dob</th>\n",
       "      <th>trans_num</th>\n",
       "      <th>unix_time</th>\n",
       "      <th>merch_lat</th>\n",
       "      <th>merch_long</th>\n",
       "      <th>is_fraud</th>\n",
       "    </tr>\n",
       "  </thead>\n",
       "  <tbody>\n",
       "    <tr>\n",
       "      <th>154515</th>\n",
       "      <td>154515</td>\n",
       "      <td>2020-08-14 13:43:02</td>\n",
       "      <td>3587044315915002</td>\n",
       "      <td>fraud_Graham and Sons</td>\n",
       "      <td>health_fitness</td>\n",
       "      <td>75.69</td>\n",
       "      <td>Christian</td>\n",
       "      <td>Roman</td>\n",
       "      <td>M</td>\n",
       "      <td>495 Fisher Throughway</td>\n",
       "      <td>...</td>\n",
       "      <td>35.0659</td>\n",
       "      <td>-89.1534</td>\n",
       "      <td>1804</td>\n",
       "      <td>Clothing/textile technologist</td>\n",
       "      <td>1974-10-15</td>\n",
       "      <td>8c2608e46c3e990bd2b5c16a221c8ebc</td>\n",
       "      <td>1376487782</td>\n",
       "      <td>35.945228</td>\n",
       "      <td>-89.114217</td>\n",
       "      <td>0</td>\n",
       "    </tr>\n",
       "  </tbody>\n",
       "</table>\n",
       "<p>1 rows × 23 columns</p>\n",
       "</div>"
      ],
      "text/plain": [
       "        Unnamed: 0 trans_date_trans_time            cc_num  \\\n",
       "154515      154515   2020-08-14 13:43:02  3587044315915002   \n",
       "\n",
       "                     merchant        category    amt      first   last gender  \\\n",
       "154515  fraud_Graham and Sons  health_fitness  75.69  Christian  Roman      M   \n",
       "\n",
       "                       street  ...      lat     long  city_pop  \\\n",
       "154515  495 Fisher Throughway  ...  35.0659 -89.1534      1804   \n",
       "\n",
       "                                  job         dob  \\\n",
       "154515  Clothing/textile technologist  1974-10-15   \n",
       "\n",
       "                               trans_num   unix_time  merch_lat merch_long  \\\n",
       "154515  8c2608e46c3e990bd2b5c16a221c8ebc  1376487782  35.945228 -89.114217   \n",
       "\n",
       "        is_fraud  \n",
       "154515         0  \n",
       "\n",
       "[1 rows x 23 columns]"
      ]
     },
     "execution_count": 7,
     "metadata": {},
     "output_type": "execute_result"
    }
   ],
   "source": [
    "fraud_df[fraud_df['trans_num'] == \"8c2608e46c3e990bd2b5c16a221c8ebc\"]"
   ]
  },
  {
   "cell_type": "code",
   "execution_count": 3,
   "metadata": {},
   "outputs": [],
   "source": [
    "payments_202503211727 = pd.read_csv(\"payments_202503211727.csv\")"
   ]
  },
  {
   "cell_type": "code",
   "execution_count": 4,
   "metadata": {},
   "outputs": [
    {
     "data": {
      "application/vnd.microsoft.datawrangler.viewer.v0+json": {
       "columns": [
        {
         "name": "index",
         "rawType": "int64",
         "type": "integer"
        },
        {
         "name": "cc_num",
         "rawType": "int64",
         "type": "integer"
        },
        {
         "name": "merchant",
         "rawType": "object",
         "type": "string"
        },
        {
         "name": "category",
         "rawType": "object",
         "type": "string"
        },
        {
         "name": "amount",
         "rawType": "float64",
         "type": "float"
        },
        {
         "name": "first_name",
         "rawType": "object",
         "type": "string"
        },
        {
         "name": "last_name",
         "rawType": "object",
         "type": "string"
        },
        {
         "name": "gender",
         "rawType": "object",
         "type": "string"
        },
        {
         "name": "street",
         "rawType": "object",
         "type": "string"
        },
        {
         "name": "city",
         "rawType": "object",
         "type": "string"
        },
        {
         "name": "state",
         "rawType": "object",
         "type": "string"
        },
        {
         "name": "zip",
         "rawType": "int64",
         "type": "integer"
        },
        {
         "name": "lat",
         "rawType": "float64",
         "type": "float"
        },
        {
         "name": "long",
         "rawType": "float64",
         "type": "float"
        },
        {
         "name": "city_pop",
         "rawType": "int64",
         "type": "integer"
        },
        {
         "name": "job",
         "rawType": "object",
         "type": "string"
        },
        {
         "name": "dob",
         "rawType": "object",
         "type": "string"
        },
        {
         "name": "trans_num",
         "rawType": "object",
         "type": "string"
        },
        {
         "name": "merch_lat",
         "rawType": "float64",
         "type": "float"
        },
        {
         "name": "merch_long",
         "rawType": "float64",
         "type": "float"
        },
        {
         "name": "is_fraud_from_api",
         "rawType": "bool",
         "type": "boolean"
        },
        {
         "name": "is_fraud",
         "rawType": "float64",
         "type": "float"
        },
        {
         "name": "cur_time",
         "rawType": "int64",
         "type": "integer"
        }
       ],
       "conversionMethod": "pd.DataFrame",
       "ref": "b7fb8577-7342-4251-85e7-abc1766be0e8",
       "rows": [
        [
         "0",
         "3587044315915002",
         "fraud_Graham and Sons",
         "health_fitness",
         "75.69",
         "Christian",
         "Roman",
         "M",
         "495 Fisher Throughway",
         "Grand Junction",
         "TN",
         "38039",
         "35.0659",
         "-89.1534",
         "1804",
         "Clothing/textile technologist",
         "1974-10-15",
         "8c2608e46c3e990bd2b5c16a221c8ebc",
         "35.945228",
         "-89.114217",
         "False",
         null,
         "1742317306832"
        ],
        [
         "1",
         "3543591270174051",
         "fraud_Kutch-Hegmann",
         "grocery_net",
         "64.62",
         "Margaret",
         "Lam",
         "F",
         "6911 Nicholas Keys Apt. 237",
         "Armagh",
         "PA",
         "15920",
         "40.4603",
         "-79.0097",
         "922",
         "Early years teacher",
         "1972-10-04",
         "8c15843666cec579aa651c4e5d36afe5",
         "41.077469",
         "-79.122389",
         "False",
         null,
         "1742317373160"
        ],
        [
         "2",
         "2512312531485080",
         "fraud_Schmeler Inc",
         "misc_pos",
         "4.0",
         "John",
         "Mccormick",
         "M",
         "79414 Clark Lakes Suite 966",
         "Warren",
         "MI",
         "48088",
         "42.5164",
         "-82.9832",
         "134056",
         "Producer, radio",
         "1956-10-08",
         "889755a57c9a683f474f5ebdd32577d7",
         "42.341869",
         "-82.54018",
         "False",
         null,
         "1742317439853"
        ],
        [
         "3",
         "372509258176510",
         "fraud_Bins-Tillman",
         "entertainment",
         "177.25",
         "Kristen",
         "Hanson",
         "F",
         "26544 Andrea Glen",
         "Goodrich",
         "MI",
         "48438",
         "42.9147",
         "-83.4845",
         "6951",
         "Learning disability nurse",
         "1985-06-18",
         "63d893e59bf9e4db0011a71b3454e5b4",
         "43.380697",
         "-84.446064",
         "False",
         null,
         "1742317506015"
        ],
        [
         "4",
         "4642894980163",
         "fraud_Schaefer, Maggio and Daugherty",
         "gas_transport",
         "62.21",
         "Eddie",
         "Mendez",
         "M",
         "1831 Faith View Suite 653",
         "Clarinda",
         "IA",
         "51632",
         "40.7491",
         "-95.038",
         "7297",
         "IT trainer",
         "1990-07-13",
         "9d2f8bcdcbb08e2ada672f3aa54a90d3",
         "40.926376",
         "-94.949716",
         "False",
         null,
         "1742317572172"
        ],
        [
         "5",
         "372520049757633",
         "fraud_Volkman PLC",
         "food_dining",
         "7.27",
         "Lori",
         "Ramirez",
         "F",
         "4293 Ramirez Squares",
         "Ranier",
         "MN",
         "56668",
         "48.6031",
         "-93.2977",
         "136",
         "Ceramics designer",
         "2000-02-20",
         "c9248c6eb607dbfdb6b239d1e6b99333",
         "48.547231",
         "-93.377367",
         "False",
         null,
         "1742317640667"
        ],
        [
         "6",
         "503874407318",
         "fraud_Huels-Nolan",
         "gas_transport",
         "69.81",
         "Andrew",
         "Mcgee",
         "M",
         "4130 Tiffany Glen Apt. 562",
         "San Antonio",
         "TX",
         "78248",
         "29.5894",
         "-98.5201",
         "1595797",
         "Exhibition designer",
         "1975-12-28",
         "3ad19d84ef966fbb7ff04c75f7b48eb2",
         "30.239336",
         "-98.902418",
         "False",
         null,
         "1742317707130"
        ],
        [
         "7",
         "2242542703101233",
         "fraud_Brown-Greenholt",
         "entertainment",
         "115.85",
         "Samuel",
         "Jenkins",
         "M",
         "43235 Mckenzie Views Apt. 837",
         "Westport",
         "KY",
         "40077",
         "38.4921",
         "-85.4524",
         "564",
         "Pensions consultant",
         "1996-04-10",
         "6d3559f7d6a5686b4bc98af81894dcf6",
         "38.002512",
         "-84.836117",
         "False",
         null,
         "1742317773559"
        ],
        [
         "8",
         "375534208663984",
         "fraud_Thiel-Thiel",
         "entertainment",
         "77.43",
         "Tyler",
         "Garcia",
         "M",
         "408 Bradley Rest",
         "Doe Hill",
         "VA",
         "24433",
         "38.4207",
         "-79.4629",
         "99",
         "Dance movement psychotherapist",
         "1986-03-28",
         "93dc39a72a18c622b12786bd334cc0c2",
         "38.305775",
         "-80.003153",
         "False",
         null,
         "1742317839834"
        ],
        [
         "9",
         "4364010865167176",
         "fraud_Koss, McLaughlin and Mayer",
         "food_dining",
         "1.17",
         "Gary",
         "Martinez",
         "M",
         "03512 Jackson Ports",
         "Reno",
         "NV",
         "89512",
         "39.5483",
         "-119.7957",
         "276896",
         "Immunologist",
         "1997-03-12",
         "43f35261c1804d6600604af0837fa411",
         "38.603154",
         "-119.185838",
         "False",
         null,
         "1742317905901"
        ],
        [
         "10",
         "36913587729122",
         "fraud_Heathcote, Yost and Kertzmann",
         "shopping_net",
         "4.29",
         "Ana",
         "Mccormick",
         "F",
         "4503 Patricia Route",
         "Meridian",
         "ID",
         "83646",
         "43.6498",
         "-116.4306",
         "84106",
         "Intelligence analyst",
         "1971-02-11",
         "b7c9922bd604749877f719b425555854",
         "43.333189",
         "-117.416045",
         "False",
         null,
         "1742317972038"
        ],
        [
         "11",
         "4060579726528237",
         "fraud_Deckow-Dare",
         "food_dining",
         "89.28",
         "Steven",
         "Sanders",
         "M",
         "25955 Amy Via",
         "Ozawkie",
         "KS",
         "66070",
         "39.2136",
         "-95.4404",
         "2661",
         "Theatre director",
         "1948-11-14",
         "ee99c8fc53c25cdd5919c92362ab92c9",
         "39.195492",
         "-94.666449",
         "False",
         null,
         "1742318038945"
        ],
        [
         "12",
         "4265776278887457",
         "fraud_Mosciski, Ziemann and Farrell",
         "shopping_net",
         "2.14",
         "Christine",
         "Best",
         "F",
         "68248 Deanna Land",
         "Enola",
         "AR",
         "72047",
         "35.2087",
         "-92.2123",
         "969",
         "Physicist, medical",
         "1954-01-05",
         "1b2de16f68d1846e1a2b3cb4f57440e4",
         "34.638072",
         "-93.05609",
         "False",
         null,
         "1742318105949"
        ],
        [
         "13",
         "30266994494236",
         "fraud_Heller-Langosh",
         "gas_transport",
         "74.57",
         "Sarah",
         "Foster",
         "F",
         "77872 Andrea Glen Apt. 543",
         "Ford",
         "VA",
         "23850",
         "37.1349",
         "-77.7364",
         "1051",
         "Chief Operating Officer",
         "1976-11-21",
         "3b5ca8c55308d5ef3d8cd55ca6f9bfea",
         "36.529686",
         "-77.965522",
         "False",
         null,
         "1742318172687"
        ],
        [
         "14",
         "3564182536169293",
         "fraud_Lockman, West and Runte",
         "grocery_pos",
         "159.45",
         "Brenda",
         "Johnson",
         "F",
         "56160 Nicholas Isle",
         "Norwich",
         "OH",
         "43767",
         "39.9934",
         "-81.8024",
         "1443",
         "Research scientist (medical)",
         "1962-03-04",
         "05322d8a301cd45675f63835649c65d9",
         "39.360408",
         "-82.031519",
         "False",
         null,
         "1742318239047"
        ],
        [
         "15",
         "30082025922891",
         "fraud_Hackett Group",
         "travel",
         "6.01",
         "Kathleen",
         "Thompson",
         "F",
         "199 Patterson Fords Apt. 132",
         "Naples",
         "FL",
         "34112",
         "26.1184",
         "-81.7361",
         "276002",
         "Pilot, airline",
         "1934-06-23",
         "4a9b713805a5dfb0c91394f59ec4e207",
         "25.936654",
         "-81.924682",
         "False",
         null,
         "1742318306649"
        ],
        [
         "16",
         "4476840372112",
         "fraud_Ortiz Group",
         "grocery_net",
         "62.28",
         "Steven",
         "Walters",
         "M",
         "3206 Hall Divide Suite 282",
         "Woodville",
         "AL",
         "35776",
         "34.6689",
         "-86.2296",
         "3395",
         "Editor, commissioning",
         "1979-01-21",
         "e5122edf3d39bb83de6e570aa9461f21",
         "34.867732",
         "-85.465295",
         "False",
         null,
         "1742318373394"
        ],
        [
         "17",
         "4874017206859125",
         "fraud_Dietrich-Fadel",
         "health_fitness",
         "21.82",
         "Lauren",
         "Williams",
         "F",
         "065 Jones Stravenue",
         "Lake Oswego",
         "OR",
         "97034",
         "45.4093",
         "-122.6847",
         "42817",
         "Planning and development surveyor",
         "1982-05-28",
         "88978e4f9aedca112a6eb913dfbcaa87",
         "45.526814",
         "-122.473574",
         "False",
         null,
         "1742318439817"
        ],
        [
         "18",
         "30290551782700",
         "fraud_Wuckert, Wintheiser and Friesen",
         "home",
         "35.45",
         "John",
         "Clarke",
         "M",
         "27909 Peter Motorway",
         "Cadiz",
         "KY",
         "42211",
         "36.802",
         "-87.8286",
         "13422",
         "Commissioning editor",
         "1961-09-03",
         "e29e878b47000630362be0d53479f185",
         "36.735399",
         "-88.724759",
         "False",
         null,
         "1742318506042"
        ],
        [
         "19",
         "581293083266",
         "fraud_Dibbert-Green",
         "entertainment",
         "61.93",
         "William",
         "Thomas",
         "M",
         "39227 Mcpherson Shoals",
         "Lahoma",
         "OK",
         "73754",
         "36.385",
         "-98.0727",
         "1078",
         "Podiatrist",
         "1989-10-06",
         "7a8fcff003e8e4b2fd47ac557584b1ae",
         "35.59989",
         "-97.796309",
         "False",
         null,
         "1742318573415"
        ],
        [
         "20",
         "4900628639996",
         "fraud_Okuneva, Schneider and Rau",
         "shopping_pos",
         "11.04",
         "Michael",
         "Johnson",
         "M",
         "094 Owens Underpass",
         "Norwalk",
         "CA",
         "90650",
         "33.9056",
         "-118.0818",
         "105549",
         "Firefighter",
         "1973-09-22",
         "a9e6362219c102245b8f9cad97a2b496",
         "34.658451",
         "-117.650761",
         "False",
         null,
         "1742318639750"
        ],
        [
         "21",
         "374930071163758",
         "fraud_Schuppe-Schuppe",
         "food_dining",
         "7.24",
         "Daniel",
         "Escobar",
         "M",
         "61390 Hayes Port",
         "Romulus",
         "MI",
         "48174",
         "42.2203",
         "-83.3583",
         "31515",
         "Police officer",
         "1971-11-05",
         "66a04ff80c0255f37359e7ffaf33e267",
         "42.550356",
         "-83.484376",
         "False",
         null,
         "1742318706389"
        ],
        [
         "22",
         "345933964507467",
         "fraud_Quitzon, Green and Bashirian",
         "shopping_pos",
         "2.37",
         "Carol",
         "Dillon",
         "F",
         "27479 Reeves Dale",
         "Whaleyville",
         "MD",
         "21872",
         "38.4121",
         "-75.2811",
         "718",
         "Regulatory affairs officer",
         "1985-03-19",
         "72c42c076c4e040ee656267739e3535c",
         "37.754309",
         "-74.812511",
         "False",
         null,
         "1742318773335"
        ],
        [
         "23",
         "213199865312311",
         "fraud_Greenholt, O'Hara and Balistreri",
         "shopping_net",
         "14.6",
         "Christopher",
         "Miller",
         "M",
         "493 Fitzgerald Fields Suite 454",
         "Varnell",
         "GA",
         "30756",
         "34.9298",
         "-84.9885",
         "74",
         "Pensions consultant",
         "1944-05-14",
         "5df0fce285a8319f2f917c214f51e3f4",
         "34.961383",
         "-84.569569",
         "False",
         null,
         "1742318839847"
        ],
        [
         "24",
         "3500969075198072",
         "fraud_Goodwin-Nitzsche",
         "grocery_pos",
         "44.86",
         "Kenneth",
         "Sanchez",
         "M",
         "0110 Ashley Forest",
         "Tekoa",
         "WA",
         "99033",
         "47.2271",
         "-117.0819",
         "895",
         "Clothing/textile technologist",
         "1999-05-31",
         "412fb79c5b7780baffabcd6622de23ed",
         "46.248411",
         "-118.007972",
         "False",
         null,
         "1742318907783"
        ],
        [
         "25",
         "4181833256558613886",
         "fraud_Roberts, Daniel and Macejkovic",
         "kids_pets",
         "101.52",
         "Jessica",
         "Potter",
         "F",
         "7600 Stephen Course Suite 031",
         "Red River",
         "NM",
         "87558",
         "36.6659",
         "-105.4694",
         "606",
         "Surveyor, land/geomatics",
         "1988-09-06",
         "8812642f3f3b3adc5ede017e5de1dfc9",
         "36.425879",
         "-106.08287",
         "False",
         null,
         "1742318974339"
        ],
        [
         "26",
         "4178097073221156",
         "fraud_Deckow-Dare",
         "food_dining",
         "75.06",
         "Jill",
         "Flores",
         "F",
         "639 Cruz Islands",
         "Baroda",
         "MI",
         "49101",
         "41.9488",
         "-86.4913",
         "3104",
         "Horticulturist, commercial",
         "1981-03-29",
         "2e56091e805204ca6f83406d4f42458c",
         "41.474823",
         "-86.118874",
         "False",
         null,
         "1742319040418"
        ],
        [
         "27",
         "377026671291680",
         "fraud_Kuhic LLC",
         "shopping_net",
         "5.86",
         "Jackie",
         "Davis",
         "F",
         "1898 Parker Fork Apt. 057",
         "Redford",
         "MO",
         "63665",
         "37.3272",
         "-91.0243",
         "241",
         "Investment analyst",
         "1974-10-27",
         "4ee48dccfdf3f699c63eef9c069ee3c2",
         "37.529178",
         "-90.904394",
         "False",
         null,
         "1742319106738"
        ],
        [
         "28",
         "639023984367",
         "fraud_Moore, Williamson and Emmerich",
         "home",
         "45.57",
         "Destiny",
         "Lowe",
         "F",
         "79472 Stevens Trace Apt. 120",
         "Hannawa Falls",
         "NY",
         "13647",
         "44.6087",
         "-74.9732",
         "69",
         "Chief Executive Officer",
         "1991-06-05",
         "36bb0cde6d73c6d0e71835b14e6775a1",
         "43.667081",
         "-75.232838",
         "False",
         null,
         "1742319172884"
        ],
        [
         "29",
         "2222001896600109",
         "fraud_Graham and Sons",
         "health_fitness",
         "137.48",
         "Susan",
         "Hernandez",
         "F",
         "2193 Osborne Run Apt. 789",
         "Moro",
         "IL",
         "62067",
         "38.9318",
         "-89.9618",
         "2401",
         "Buyer, industrial",
         "1972-01-03",
         "57a78b8516f677d38db1706e24b6eb89",
         "39.378332",
         "-89.686733",
         "False",
         null,
         "1742319239466"
        ],
        [
         "30",
         "180067151859700",
         "fraud_Schiller Ltd",
         "personal_care",
         "7.13",
         "Karen",
         "Ryan",
         "F",
         "82468 Michelle Village Suite 556",
         "Joliet",
         "IL",
         "60432",
         "41.5378",
         "-88.0572",
         "128354",
         "Teacher, secondary school",
         "1992-01-20",
         "a5395794beebd3e5d114e6d414647873",
         "42.417356",
         "-87.583589",
         "False",
         null,
         "1742319305645"
        ],
        [
         "31",
         "3553629419254918",
         "fraud_Pfeffer and Sons",
         "shopping_pos",
         "6.91",
         "Sharon",
         "Johnson",
         "F",
         "7202 Jeffrey Mills",
         "Conway",
         "WA",
         "98238",
         "48.34",
         "-122.3456",
         "85",
         "Research officer, political party",
         "1984-09-01",
         "4af499436c7e25e7b22b6ebb066dde5e",
         "48.706382",
         "-121.367945",
         "False",
         null,
         "1742319372245"
        ],
        [
         "32",
         "180072527505094",
         "fraud_Gerhold LLC",
         "home",
         "49.63",
         "Cody",
         "Miller",
         "M",
         "25748 John Wells",
         "Mooresville",
         "NC",
         "28117",
         "35.584",
         "-80.8685",
         "69793",
         "Control and instrumentation engineer",
         "1953-12-08",
         "8bc873e19490dda45ef07d59b82f47d1",
         "35.124511",
         "-81.505434",
         "False",
         null,
         "1742319438584"
        ],
        [
         "33",
         "30230540139182",
         "fraud_Stoltenberg-Beatty",
         "shopping_pos",
         "133.13",
         "Hayden",
         "Sanders",
         "M",
         "8465 Reed Green Suite 559",
         "Montandon",
         "PA",
         "17850",
         "40.9661",
         "-76.8575",
         "645",
         "Orthoptist",
         "1974-05-18",
         "f7d3cdf2cd6f913801afa7435a57aa2d",
         "41.917918",
         "-77.194498",
         "False",
         null,
         "1742319505765"
        ],
        [
         "34",
         "3551512895305309",
         "fraud_Huels-Hahn",
         "gas_transport",
         "74.15",
         "Erika",
         "Anderson",
         "F",
         "3786 Hale Corners",
         "Rochester",
         "KY",
         "42273",
         "37.2048",
         "-86.8592",
         "443",
         "Development worker, international aid",
         "1947-07-15",
         "84e5fc12fc58999445da36e6a5ca12c3",
         "36.933016",
         "-86.637801",
         "False",
         null,
         "1742319572200"
        ],
        [
         "35",
         "4474324669797121",
         "fraud_Terry-Huel",
         "shopping_net",
         "1.23",
         "Matthew",
         "Russell",
         "M",
         "168 Michael Coves Suite 343",
         "June Lake",
         "CA",
         "93529",
         "37.7773",
         "-119.0825",
         "633",
         "Health service manager",
         "1927-09-09",
         "77686d9272b5b65c950d33cbd50d46a5",
         "38.687355",
         "-119.435872",
         "False",
         null,
         "1742319638688"
        ],
        [
         "36",
         "4181833256558613886",
         "fraud_Hettinger, McCullough and Fay",
         "home",
         "7.67",
         "Jessica",
         "Potter",
         "F",
         "7600 Stephen Course Suite 031",
         "Red River",
         "NM",
         "87558",
         "36.6659",
         "-105.4694",
         "606",
         "Surveyor, land/geomatics",
         "1988-09-06",
         "338686040abfa1e40082ef4da48b510c",
         "36.067754",
         "-104.77584",
         "False",
         null,
         "1742319705167"
        ],
        [
         "37",
         "581686439828",
         "fraud_Connelly-Carter",
         "home",
         "71.74",
         "Larry",
         "House",
         "M",
         "911 Sabrina Trafficway",
         "Cochranton",
         "PA",
         "16314",
         "41.5205",
         "-80.0573",
         "5507",
         "Retail merchandiser",
         "1973-07-28",
         "97df165a4a54c23fc01f95addbaf55e5",
         "40.563885",
         "-80.43578",
         "False",
         null,
         "1742319771379"
        ],
        [
         "38",
         "3551217896304745",
         "fraud_Roob LLC",
         "grocery_net",
         "37.87",
         "Sara",
         "Harris",
         "F",
         "597 Jenny Ford Apt. 543",
         "Tupper Lake",
         "NY",
         "12986",
         "44.232",
         "-74.4905",
         "6120",
         "Chartered loss adjuster",
         "1976-10-09",
         "e54dc8f623f51a9d0ebfe005ce11015c",
         "44.383307",
         "-74.541581",
         "False",
         null,
         "1742319837702"
        ],
        [
         "39",
         "5456776410929288",
         "fraud_Heller PLC",
         "health_fitness",
         "22.86",
         "Taylor",
         "Khan",
         "F",
         "658 Diane Glen Apt. 677",
         "North Washington",
         "PA",
         "16048",
         "41.0472",
         "-79.8089",
         "139",
         "Patent attorney",
         "1954-05-25",
         "767c149a5fa35619d6927ae7b3539cfa",
         "40.740323",
         "-78.94615",
         "False",
         null,
         "1742319903755"
        ],
        [
         "40",
         "213174467670432",
         "fraud_Tillman, Dickinson and Labadie",
         "gas_transport",
         "45.81",
         "James",
         "Bishop",
         "M",
         "7055 Fernandez Estates Apt. 676",
         "Cecilton",
         "MD",
         "21913",
         "39.4015",
         "-75.8654",
         "663",
         "Podiatrist",
         "1969-01-14",
         "05d4fcd5b07b6881670ac5553d0e81b9",
         "38.799843",
         "-74.986557",
         "False",
         null,
         "1742319969972"
        ],
        [
         "41",
         "4292902571056973207",
         "fraud_Bernhard, Grant and Langworth",
         "shopping_pos",
         "137.71",
         "Jeffrey",
         "Smith",
         "M",
         "135 Joseph Mountains",
         "Sula",
         "MT",
         "59871",
         "45.8433",
         "-113.8748",
         "218",
         "Therapist, horticultural",
         "1995-08-16",
         "a072a58f70045a37902413897368b87a",
         "45.973965",
         "-113.842728",
         "False",
         null,
         "1742320036229"
        ],
        [
         "42",
         "4642894980163",
         "fraud_O'Keefe-Hudson",
         "grocery_pos",
         "50.58",
         "Eddie",
         "Mendez",
         "M",
         "1831 Faith View Suite 653",
         "Clarinda",
         "IA",
         "51632",
         "40.7491",
         "-95.038",
         "7297",
         "IT trainer",
         "1990-07-13",
         "2f84fba4c4bbc2ae59e7cc0ca0b80523",
         "41.28666",
         "-94.858991",
         "False",
         null,
         "1742320103344"
        ],
        [
         "43",
         "30029052116970",
         "fraud_Barrows PLC",
         "shopping_pos",
         "2.0",
         "Curtis",
         "Young",
         "M",
         "4319 Watson Shoals Suite 658",
         "Falconer",
         "NY",
         "14733",
         "42.1239",
         "-79.1895",
         "3833",
         "Metallurgist",
         "1970-10-09",
         "c244d4cc00bf67433843345b9d94717c",
         "41.907813",
         "-78.225683",
         "False",
         null,
         "1742320169958"
        ],
        [
         "44",
         "6573561108825071",
         "fraud_Swaniawski, Lowe and Robel",
         "shopping_pos",
         "9.02",
         "Kristina",
         "Lewis",
         "F",
         "5449 Brandi Heights Apt. 111",
         "Tulsa",
         "OK",
         "74130",
         "36.2395",
         "-95.9596",
         "413574",
         "Bookseller",
         "1968-06-18",
         "a7a95c22d4fe2b0d9eb33dafa9abf51d",
         "35.925863",
         "-96.227872",
         "False",
         null,
         "1742320236307"
        ],
        [
         "45",
         "6011999606625827",
         "fraud_Ruecker, Beer and Collier",
         "shopping_net",
         "6.29",
         "Ronald",
         "Carson",
         "M",
         "870 Rocha Drive",
         "Harrington Park",
         "NJ",
         "7640",
         "40.9918",
         "-73.98",
         "4664",
         "Radiographer, diagnostic",
         "1965-06-30",
         "5d98a66cd45f889cd27c8acceed608c7",
         "41.341034",
         "-74.814962",
         "False",
         null,
         "1742320302629"
        ],
        [
         "46",
         "30197398657930",
         "fraud_Ferry, Reichel and DuBuque",
         "grocery_net",
         "89.45",
         "April",
         "Johnson",
         "F",
         "9727 Deleon Mountain",
         "Creedmoor",
         "NC",
         "27522",
         "36.1124",
         "-78.6476",
         "12335",
         "Chief Strategy Officer",
         "1987-09-19",
         "a3b141979a5e534a409bba4bf4699358",
         "35.944585",
         "-79.426235",
         "False",
         null,
         "1742320368858"
        ],
        [
         "47",
         "4424338559877976",
         "fraud_Haley Group",
         "misc_pos",
         "1.42",
         "Denise",
         "Barnett",
         "F",
         "23220 Eaton Harbors",
         "Kirby",
         "OH",
         "43330",
         "40.813",
         "-83.4196",
         "118",
         "Private music teacher",
         "1957-11-12",
         "cfe8c1881b543102e968194506e70320",
         "39.98221",
         "-83.705708",
         "False",
         null,
         "1742320435210"
        ],
        [
         "48",
         "4989847570577635369",
         "fraud_Douglas, Schneider and Turner",
         "shopping_pos",
         "28.3",
         "Vanessa",
         "Anderson",
         "F",
         "21178 Brittney Locks",
         "Prosperity",
         "SC",
         "29127",
         "34.1832",
         "-81.5324",
         "8333",
         "Archaeologist",
         "1994-07-09",
         "450b4773be212266e6724ebf3a322586",
         "34.945624",
         "-80.723904",
         "False",
         null,
         "1742320501723"
        ],
        [
         "49",
         "38588538868506",
         "fraud_Christiansen, Goyette and Schamberger",
         "gas_transport",
         "63.23",
         "Jacqueline",
         "Curry",
         "F",
         "3047 Jeff Place",
         "Marathon",
         "TX",
         "79842",
         "30.1886",
         "-103.2214",
         "498",
         "Lexicographer",
         "1990-11-23",
         "cbdebdfdfb6ff59c92defcb563c4394f",
         "30.541345",
         "-103.686202",
         "False",
         null,
         "1742320567963"
        ]
       ],
       "shape": {
        "columns": 22,
        "rows": 617
       }
      },
      "text/html": [
       "<div>\n",
       "<style scoped>\n",
       "    .dataframe tbody tr th:only-of-type {\n",
       "        vertical-align: middle;\n",
       "    }\n",
       "\n",
       "    .dataframe tbody tr th {\n",
       "        vertical-align: top;\n",
       "    }\n",
       "\n",
       "    .dataframe thead th {\n",
       "        text-align: right;\n",
       "    }\n",
       "</style>\n",
       "<table border=\"1\" class=\"dataframe\">\n",
       "  <thead>\n",
       "    <tr style=\"text-align: right;\">\n",
       "      <th></th>\n",
       "      <th>cc_num</th>\n",
       "      <th>merchant</th>\n",
       "      <th>category</th>\n",
       "      <th>amount</th>\n",
       "      <th>first_name</th>\n",
       "      <th>last_name</th>\n",
       "      <th>gender</th>\n",
       "      <th>street</th>\n",
       "      <th>city</th>\n",
       "      <th>state</th>\n",
       "      <th>...</th>\n",
       "      <th>long</th>\n",
       "      <th>city_pop</th>\n",
       "      <th>job</th>\n",
       "      <th>dob</th>\n",
       "      <th>trans_num</th>\n",
       "      <th>merch_lat</th>\n",
       "      <th>merch_long</th>\n",
       "      <th>is_fraud_from_api</th>\n",
       "      <th>is_fraud</th>\n",
       "      <th>cur_time</th>\n",
       "    </tr>\n",
       "  </thead>\n",
       "  <tbody>\n",
       "    <tr>\n",
       "      <th>0</th>\n",
       "      <td>3587044315915002</td>\n",
       "      <td>fraud_Graham and Sons</td>\n",
       "      <td>health_fitness</td>\n",
       "      <td>75.69</td>\n",
       "      <td>Christian</td>\n",
       "      <td>Roman</td>\n",
       "      <td>M</td>\n",
       "      <td>495 Fisher Throughway</td>\n",
       "      <td>Grand Junction</td>\n",
       "      <td>TN</td>\n",
       "      <td>...</td>\n",
       "      <td>-89.1534</td>\n",
       "      <td>1804</td>\n",
       "      <td>Clothing/textile technologist</td>\n",
       "      <td>1974-10-15</td>\n",
       "      <td>8c2608e46c3e990bd2b5c16a221c8ebc</td>\n",
       "      <td>35.945228</td>\n",
       "      <td>-89.114217</td>\n",
       "      <td>False</td>\n",
       "      <td>NaN</td>\n",
       "      <td>1742317306832</td>\n",
       "    </tr>\n",
       "    <tr>\n",
       "      <th>1</th>\n",
       "      <td>3543591270174051</td>\n",
       "      <td>fraud_Kutch-Hegmann</td>\n",
       "      <td>grocery_net</td>\n",
       "      <td>64.62</td>\n",
       "      <td>Margaret</td>\n",
       "      <td>Lam</td>\n",
       "      <td>F</td>\n",
       "      <td>6911 Nicholas Keys Apt. 237</td>\n",
       "      <td>Armagh</td>\n",
       "      <td>PA</td>\n",
       "      <td>...</td>\n",
       "      <td>-79.0097</td>\n",
       "      <td>922</td>\n",
       "      <td>Early years teacher</td>\n",
       "      <td>1972-10-04</td>\n",
       "      <td>8c15843666cec579aa651c4e5d36afe5</td>\n",
       "      <td>41.077469</td>\n",
       "      <td>-79.122389</td>\n",
       "      <td>False</td>\n",
       "      <td>NaN</td>\n",
       "      <td>1742317373160</td>\n",
       "    </tr>\n",
       "    <tr>\n",
       "      <th>2</th>\n",
       "      <td>2512312531485080</td>\n",
       "      <td>fraud_Schmeler Inc</td>\n",
       "      <td>misc_pos</td>\n",
       "      <td>4.00</td>\n",
       "      <td>John</td>\n",
       "      <td>Mccormick</td>\n",
       "      <td>M</td>\n",
       "      <td>79414 Clark Lakes Suite 966</td>\n",
       "      <td>Warren</td>\n",
       "      <td>MI</td>\n",
       "      <td>...</td>\n",
       "      <td>-82.9832</td>\n",
       "      <td>134056</td>\n",
       "      <td>Producer, radio</td>\n",
       "      <td>1956-10-08</td>\n",
       "      <td>889755a57c9a683f474f5ebdd32577d7</td>\n",
       "      <td>42.341869</td>\n",
       "      <td>-82.540180</td>\n",
       "      <td>False</td>\n",
       "      <td>NaN</td>\n",
       "      <td>1742317439853</td>\n",
       "    </tr>\n",
       "    <tr>\n",
       "      <th>3</th>\n",
       "      <td>372509258176510</td>\n",
       "      <td>fraud_Bins-Tillman</td>\n",
       "      <td>entertainment</td>\n",
       "      <td>177.25</td>\n",
       "      <td>Kristen</td>\n",
       "      <td>Hanson</td>\n",
       "      <td>F</td>\n",
       "      <td>26544 Andrea Glen</td>\n",
       "      <td>Goodrich</td>\n",
       "      <td>MI</td>\n",
       "      <td>...</td>\n",
       "      <td>-83.4845</td>\n",
       "      <td>6951</td>\n",
       "      <td>Learning disability nurse</td>\n",
       "      <td>1985-06-18</td>\n",
       "      <td>63d893e59bf9e4db0011a71b3454e5b4</td>\n",
       "      <td>43.380697</td>\n",
       "      <td>-84.446064</td>\n",
       "      <td>False</td>\n",
       "      <td>NaN</td>\n",
       "      <td>1742317506015</td>\n",
       "    </tr>\n",
       "    <tr>\n",
       "      <th>4</th>\n",
       "      <td>4642894980163</td>\n",
       "      <td>fraud_Schaefer, Maggio and Daugherty</td>\n",
       "      <td>gas_transport</td>\n",
       "      <td>62.21</td>\n",
       "      <td>Eddie</td>\n",
       "      <td>Mendez</td>\n",
       "      <td>M</td>\n",
       "      <td>1831 Faith View Suite 653</td>\n",
       "      <td>Clarinda</td>\n",
       "      <td>IA</td>\n",
       "      <td>...</td>\n",
       "      <td>-95.0380</td>\n",
       "      <td>7297</td>\n",
       "      <td>IT trainer</td>\n",
       "      <td>1990-07-13</td>\n",
       "      <td>9d2f8bcdcbb08e2ada672f3aa54a90d3</td>\n",
       "      <td>40.926376</td>\n",
       "      <td>-94.949716</td>\n",
       "      <td>False</td>\n",
       "      <td>NaN</td>\n",
       "      <td>1742317572172</td>\n",
       "    </tr>\n",
       "    <tr>\n",
       "      <th>...</th>\n",
       "      <td>...</td>\n",
       "      <td>...</td>\n",
       "      <td>...</td>\n",
       "      <td>...</td>\n",
       "      <td>...</td>\n",
       "      <td>...</td>\n",
       "      <td>...</td>\n",
       "      <td>...</td>\n",
       "      <td>...</td>\n",
       "      <td>...</td>\n",
       "      <td>...</td>\n",
       "      <td>...</td>\n",
       "      <td>...</td>\n",
       "      <td>...</td>\n",
       "      <td>...</td>\n",
       "      <td>...</td>\n",
       "      <td>...</td>\n",
       "      <td>...</td>\n",
       "      <td>...</td>\n",
       "      <td>...</td>\n",
       "      <td>...</td>\n",
       "    </tr>\n",
       "    <tr>\n",
       "      <th>612</th>\n",
       "      <td>30033162392091</td>\n",
       "      <td>fraud_Beier-Hyatt</td>\n",
       "      <td>shopping_pos</td>\n",
       "      <td>147.05</td>\n",
       "      <td>Kevin</td>\n",
       "      <td>Summers</td>\n",
       "      <td>M</td>\n",
       "      <td>7302 Samantha Mission</td>\n",
       "      <td>Carroll</td>\n",
       "      <td>NE</td>\n",
       "      <td>...</td>\n",
       "      <td>-97.1926</td>\n",
       "      <td>566</td>\n",
       "      <td>Metallurgist</td>\n",
       "      <td>1975-01-26</td>\n",
       "      <td>eac66c7339705f8fae880ec143f3c4be</td>\n",
       "      <td>41.836884</td>\n",
       "      <td>-98.168069</td>\n",
       "      <td>False</td>\n",
       "      <td>NaN</td>\n",
       "      <td>1742402376099</td>\n",
       "    </tr>\n",
       "    <tr>\n",
       "      <th>613</th>\n",
       "      <td>4716561796955522</td>\n",
       "      <td>fraud_Metz-Boehm</td>\n",
       "      <td>shopping_pos</td>\n",
       "      <td>1.75</td>\n",
       "      <td>Lauren</td>\n",
       "      <td>Anderson</td>\n",
       "      <td>F</td>\n",
       "      <td>11014 Chad Lake Apt. 573</td>\n",
       "      <td>Heart Butte</td>\n",
       "      <td>MT</td>\n",
       "      <td>...</td>\n",
       "      <td>-112.8456</td>\n",
       "      <td>743</td>\n",
       "      <td>Water engineer</td>\n",
       "      <td>1972-05-04</td>\n",
       "      <td>82cea9d1e1d071126ed14bbb132cf4ed</td>\n",
       "      <td>49.141308</td>\n",
       "      <td>-112.592031</td>\n",
       "      <td>False</td>\n",
       "      <td>NaN</td>\n",
       "      <td>1742402442267</td>\n",
       "    </tr>\n",
       "    <tr>\n",
       "      <th>614</th>\n",
       "      <td>5410056176712193</td>\n",
       "      <td>fraud_Spinka Inc</td>\n",
       "      <td>grocery_net</td>\n",
       "      <td>50.74</td>\n",
       "      <td>Jeffrey</td>\n",
       "      <td>Krause</td>\n",
       "      <td>M</td>\n",
       "      <td>4742 Alexandria Mountain</td>\n",
       "      <td>New Franken</td>\n",
       "      <td>WI</td>\n",
       "      <td>...</td>\n",
       "      <td>-87.8235</td>\n",
       "      <td>4306</td>\n",
       "      <td>Art therapist</td>\n",
       "      <td>1989-10-19</td>\n",
       "      <td>df922e0c459e8971d6499cb82de320c5</td>\n",
       "      <td>44.358951</td>\n",
       "      <td>-88.163255</td>\n",
       "      <td>False</td>\n",
       "      <td>NaN</td>\n",
       "      <td>1742402511039</td>\n",
       "    </tr>\n",
       "    <tr>\n",
       "      <th>615</th>\n",
       "      <td>2720012583106919</td>\n",
       "      <td>fraud_Nitzsche, Kessler and Wolff</td>\n",
       "      <td>shopping_pos</td>\n",
       "      <td>114.97</td>\n",
       "      <td>Joseph</td>\n",
       "      <td>Murray</td>\n",
       "      <td>M</td>\n",
       "      <td>42933 Ryan Underpass</td>\n",
       "      <td>Manderson</td>\n",
       "      <td>SD</td>\n",
       "      <td>...</td>\n",
       "      <td>-102.5411</td>\n",
       "      <td>1126</td>\n",
       "      <td>Volunteer coordinator</td>\n",
       "      <td>1980-08-18</td>\n",
       "      <td>0cfcc30bd0ab9e6a19eefa0d8d3f99b2</td>\n",
       "      <td>44.305041</td>\n",
       "      <td>-102.938295</td>\n",
       "      <td>False</td>\n",
       "      <td>NaN</td>\n",
       "      <td>1742402577498</td>\n",
       "    </tr>\n",
       "    <tr>\n",
       "      <th>616</th>\n",
       "      <td>3585740823295298</td>\n",
       "      <td>fraud_Lehner, Reichert and Mills</td>\n",
       "      <td>misc_pos</td>\n",
       "      <td>1.82</td>\n",
       "      <td>James</td>\n",
       "      <td>Greene</td>\n",
       "      <td>M</td>\n",
       "      <td>082 Hernandez Bypass Apt. 886</td>\n",
       "      <td>Quanah</td>\n",
       "      <td>TX</td>\n",
       "      <td>...</td>\n",
       "      <td>-99.7494</td>\n",
       "      <td>3202</td>\n",
       "      <td>Librarian, public</td>\n",
       "      <td>1998-03-18</td>\n",
       "      <td>8a3d0b0fced50d9918d48f0da02a5610</td>\n",
       "      <td>33.736956</td>\n",
       "      <td>-99.616339</td>\n",
       "      <td>False</td>\n",
       "      <td>NaN</td>\n",
       "      <td>1742402646010</td>\n",
       "    </tr>\n",
       "  </tbody>\n",
       "</table>\n",
       "<p>617 rows × 22 columns</p>\n",
       "</div>"
      ],
      "text/plain": [
       "               cc_num                              merchant        category  \\\n",
       "0    3587044315915002                 fraud_Graham and Sons  health_fitness   \n",
       "1    3543591270174051                   fraud_Kutch-Hegmann     grocery_net   \n",
       "2    2512312531485080                    fraud_Schmeler Inc        misc_pos   \n",
       "3     372509258176510                    fraud_Bins-Tillman   entertainment   \n",
       "4       4642894980163  fraud_Schaefer, Maggio and Daugherty   gas_transport   \n",
       "..                ...                                   ...             ...   \n",
       "612    30033162392091                     fraud_Beier-Hyatt    shopping_pos   \n",
       "613  4716561796955522                      fraud_Metz-Boehm    shopping_pos   \n",
       "614  5410056176712193                      fraud_Spinka Inc     grocery_net   \n",
       "615  2720012583106919     fraud_Nitzsche, Kessler and Wolff    shopping_pos   \n",
       "616  3585740823295298      fraud_Lehner, Reichert and Mills        misc_pos   \n",
       "\n",
       "     amount first_name  last_name gender                         street  \\\n",
       "0     75.69  Christian      Roman      M          495 Fisher Throughway   \n",
       "1     64.62   Margaret        Lam      F    6911 Nicholas Keys Apt. 237   \n",
       "2      4.00       John  Mccormick      M    79414 Clark Lakes Suite 966   \n",
       "3    177.25    Kristen     Hanson      F              26544 Andrea Glen   \n",
       "4     62.21      Eddie     Mendez      M      1831 Faith View Suite 653   \n",
       "..      ...        ...        ...    ...                            ...   \n",
       "612  147.05      Kevin    Summers      M          7302 Samantha Mission   \n",
       "613    1.75     Lauren   Anderson      F       11014 Chad Lake Apt. 573   \n",
       "614   50.74    Jeffrey     Krause      M       4742 Alexandria Mountain   \n",
       "615  114.97     Joseph     Murray      M           42933 Ryan Underpass   \n",
       "616    1.82      James     Greene      M  082 Hernandez Bypass Apt. 886   \n",
       "\n",
       "               city state  ...      long  city_pop  \\\n",
       "0    Grand Junction    TN  ...  -89.1534      1804   \n",
       "1            Armagh    PA  ...  -79.0097       922   \n",
       "2            Warren    MI  ...  -82.9832    134056   \n",
       "3          Goodrich    MI  ...  -83.4845      6951   \n",
       "4          Clarinda    IA  ...  -95.0380      7297   \n",
       "..              ...   ...  ...       ...       ...   \n",
       "612         Carroll    NE  ...  -97.1926       566   \n",
       "613     Heart Butte    MT  ... -112.8456       743   \n",
       "614     New Franken    WI  ...  -87.8235      4306   \n",
       "615       Manderson    SD  ... -102.5411      1126   \n",
       "616          Quanah    TX  ...  -99.7494      3202   \n",
       "\n",
       "                               job         dob  \\\n",
       "0    Clothing/textile technologist  1974-10-15   \n",
       "1              Early years teacher  1972-10-04   \n",
       "2                  Producer, radio  1956-10-08   \n",
       "3        Learning disability nurse  1985-06-18   \n",
       "4                       IT trainer  1990-07-13   \n",
       "..                             ...         ...   \n",
       "612                   Metallurgist  1975-01-26   \n",
       "613                 Water engineer  1972-05-04   \n",
       "614                  Art therapist  1989-10-19   \n",
       "615          Volunteer coordinator  1980-08-18   \n",
       "616              Librarian, public  1998-03-18   \n",
       "\n",
       "                            trans_num  merch_lat  merch_long  \\\n",
       "0    8c2608e46c3e990bd2b5c16a221c8ebc  35.945228  -89.114217   \n",
       "1    8c15843666cec579aa651c4e5d36afe5  41.077469  -79.122389   \n",
       "2    889755a57c9a683f474f5ebdd32577d7  42.341869  -82.540180   \n",
       "3    63d893e59bf9e4db0011a71b3454e5b4  43.380697  -84.446064   \n",
       "4    9d2f8bcdcbb08e2ada672f3aa54a90d3  40.926376  -94.949716   \n",
       "..                                ...        ...         ...   \n",
       "612  eac66c7339705f8fae880ec143f3c4be  41.836884  -98.168069   \n",
       "613  82cea9d1e1d071126ed14bbb132cf4ed  49.141308 -112.592031   \n",
       "614  df922e0c459e8971d6499cb82de320c5  44.358951  -88.163255   \n",
       "615  0cfcc30bd0ab9e6a19eefa0d8d3f99b2  44.305041 -102.938295   \n",
       "616  8a3d0b0fced50d9918d48f0da02a5610  33.736956  -99.616339   \n",
       "\n",
       "     is_fraud_from_api  is_fraud       cur_time  \n",
       "0                False       NaN  1742317306832  \n",
       "1                False       NaN  1742317373160  \n",
       "2                False       NaN  1742317439853  \n",
       "3                False       NaN  1742317506015  \n",
       "4                False       NaN  1742317572172  \n",
       "..                 ...       ...            ...  \n",
       "612              False       NaN  1742402376099  \n",
       "613              False       NaN  1742402442267  \n",
       "614              False       NaN  1742402511039  \n",
       "615              False       NaN  1742402577498  \n",
       "616              False       NaN  1742402646010  \n",
       "\n",
       "[617 rows x 22 columns]"
      ]
     },
     "metadata": {},
     "output_type": "display_data"
    }
   ],
   "source": [
    "display(payments_202503211727)"
   ]
  },
  {
   "cell_type": "code",
   "execution_count": 4,
   "metadata": {},
   "outputs": [
    {
     "data": {
      "text/plain": [
       "Index(['Unnamed: 0', 'trans_date_trans_time', 'cc_num', 'merchant', 'category',\n",
       "       'amt', 'first', 'last', 'gender', 'street', 'city', 'state', 'zip',\n",
       "       'lat', 'long', 'city_pop', 'job', 'dob', 'trans_num', 'unix_time',\n",
       "       'merch_lat', 'merch_long', 'is_fraud'],\n",
       "      dtype='object')"
      ]
     },
     "metadata": {},
     "output_type": "display_data"
    }
   ],
   "source": [
    "display(fraud_df.columns)"
   ]
  },
  {
   "cell_type": "code",
   "execution_count": 5,
   "metadata": {},
   "outputs": [
    {
     "name": "stdout",
     "output_type": "stream",
     "text": [
      "Decribe ===================\n"
     ]
    },
    {
     "data": {
      "application/vnd.microsoft.datawrangler.viewer.v0+json": {
       "columns": [
        {
         "name": "index",
         "rawType": "object",
         "type": "string"
        },
        {
         "name": "Unnamed: 0",
         "rawType": "float64",
         "type": "float"
        },
        {
         "name": "cc_num",
         "rawType": "float64",
         "type": "float"
        },
        {
         "name": "amt",
         "rawType": "float64",
         "type": "float"
        },
        {
         "name": "zip",
         "rawType": "float64",
         "type": "float"
        },
        {
         "name": "lat",
         "rawType": "float64",
         "type": "float"
        },
        {
         "name": "long",
         "rawType": "float64",
         "type": "float"
        },
        {
         "name": "city_pop",
         "rawType": "float64",
         "type": "float"
        },
        {
         "name": "unix_time",
         "rawType": "float64",
         "type": "float"
        },
        {
         "name": "merch_lat",
         "rawType": "float64",
         "type": "float"
        },
        {
         "name": "merch_long",
         "rawType": "float64",
         "type": "float"
        },
        {
         "name": "is_fraud",
         "rawType": "float64",
         "type": "float"
        }
       ],
       "conversionMethod": "pd.DataFrame",
       "ref": "054083de-e65d-4069-bdf3-15e8adf7626f",
       "rows": [
        [
         "count",
         "555719.0",
         "555719.0",
         "555719.0",
         "555719.0",
         "555719.0",
         "555719.0",
         "555719.0",
         "555719.0",
         "555719.0",
         "555719.0",
         "555719.0"
        ],
        [
         "mean",
         "277859.0",
         "4.178386955287641e+17",
         "69.39281023322938",
         "48842.62801523792",
         "38.54325282129998",
         "-90.23132507832197",
         "88221.88791817447",
         "1380678865.1667802",
         "38.54279777803892",
         "-90.23138049244673",
         "0.0038598644278853163"
        ],
        [
         "std",
         "160422.4014593972",
         "1.3098366229806126e+18",
         "156.74594135531504",
         "26855.283327564375",
         "5.061336211107396",
         "13.721779747818575",
         "300390.8920609944",
         "5201104.065916182",
         "5.095829265180007",
         "13.733070748105233",
         "0.06200784461178394"
        ],
        [
         "min",
         "0.0",
         "60416207185.0",
         "1.0",
         "1257.0",
         "20.0271",
         "-165.6723",
         "23.0",
         "1371816865.0",
         "19.027422",
         "-166.671575",
         "0.0"
        ],
        [
         "25%",
         "138929.5",
         "180042946491150.0",
         "9.63",
         "26292.0",
         "34.6689",
         "-96.798",
         "741.0",
         "1376028627.5",
         "34.7553015",
         "-96.90512949999999",
         "0.0"
        ],
        [
         "50%",
         "277859.0",
         "3521417320836166.0",
         "47.29",
         "48174.0",
         "39.3716",
         "-87.4769",
         "2408.0",
         "1380761988.0",
         "39.376593",
         "-87.445204",
         "0.0"
        ],
        [
         "75%",
         "416788.5",
         "4635330563105903.0",
         "83.01",
         "72011.0",
         "41.8948",
         "-80.1752",
         "19685.0",
         "1385866984.0",
         "41.954162999999994",
         "-80.264637",
         "0.0"
        ],
        [
         "max",
         "555718.0",
         "4.992346398065154e+18",
         "22768.11",
         "99921.0",
         "65.6899",
         "-67.9503",
         "2906700.0",
         "1388534374.0",
         "66.67929699999999",
         "-66.952026",
         "1.0"
        ]
       ],
       "shape": {
        "columns": 11,
        "rows": 8
       }
      },
      "text/html": [
       "<div>\n",
       "<style scoped>\n",
       "    .dataframe tbody tr th:only-of-type {\n",
       "        vertical-align: middle;\n",
       "    }\n",
       "\n",
       "    .dataframe tbody tr th {\n",
       "        vertical-align: top;\n",
       "    }\n",
       "\n",
       "    .dataframe thead th {\n",
       "        text-align: right;\n",
       "    }\n",
       "</style>\n",
       "<table border=\"1\" class=\"dataframe\">\n",
       "  <thead>\n",
       "    <tr style=\"text-align: right;\">\n",
       "      <th></th>\n",
       "      <th>Unnamed: 0</th>\n",
       "      <th>cc_num</th>\n",
       "      <th>amt</th>\n",
       "      <th>zip</th>\n",
       "      <th>lat</th>\n",
       "      <th>long</th>\n",
       "      <th>city_pop</th>\n",
       "      <th>unix_time</th>\n",
       "      <th>merch_lat</th>\n",
       "      <th>merch_long</th>\n",
       "      <th>is_fraud</th>\n",
       "    </tr>\n",
       "  </thead>\n",
       "  <tbody>\n",
       "    <tr>\n",
       "      <th>count</th>\n",
       "      <td>555719.000000</td>\n",
       "      <td>5.557190e+05</td>\n",
       "      <td>555719.000000</td>\n",
       "      <td>555719.000000</td>\n",
       "      <td>555719.000000</td>\n",
       "      <td>555719.000000</td>\n",
       "      <td>5.557190e+05</td>\n",
       "      <td>5.557190e+05</td>\n",
       "      <td>555719.000000</td>\n",
       "      <td>555719.000000</td>\n",
       "      <td>555719.000000</td>\n",
       "    </tr>\n",
       "    <tr>\n",
       "      <th>mean</th>\n",
       "      <td>277859.000000</td>\n",
       "      <td>4.178387e+17</td>\n",
       "      <td>69.392810</td>\n",
       "      <td>48842.628015</td>\n",
       "      <td>38.543253</td>\n",
       "      <td>-90.231325</td>\n",
       "      <td>8.822189e+04</td>\n",
       "      <td>1.380679e+09</td>\n",
       "      <td>38.542798</td>\n",
       "      <td>-90.231380</td>\n",
       "      <td>0.003860</td>\n",
       "    </tr>\n",
       "    <tr>\n",
       "      <th>std</th>\n",
       "      <td>160422.401459</td>\n",
       "      <td>1.309837e+18</td>\n",
       "      <td>156.745941</td>\n",
       "      <td>26855.283328</td>\n",
       "      <td>5.061336</td>\n",
       "      <td>13.721780</td>\n",
       "      <td>3.003909e+05</td>\n",
       "      <td>5.201104e+06</td>\n",
       "      <td>5.095829</td>\n",
       "      <td>13.733071</td>\n",
       "      <td>0.062008</td>\n",
       "    </tr>\n",
       "    <tr>\n",
       "      <th>min</th>\n",
       "      <td>0.000000</td>\n",
       "      <td>6.041621e+10</td>\n",
       "      <td>1.000000</td>\n",
       "      <td>1257.000000</td>\n",
       "      <td>20.027100</td>\n",
       "      <td>-165.672300</td>\n",
       "      <td>2.300000e+01</td>\n",
       "      <td>1.371817e+09</td>\n",
       "      <td>19.027422</td>\n",
       "      <td>-166.671575</td>\n",
       "      <td>0.000000</td>\n",
       "    </tr>\n",
       "    <tr>\n",
       "      <th>25%</th>\n",
       "      <td>138929.500000</td>\n",
       "      <td>1.800429e+14</td>\n",
       "      <td>9.630000</td>\n",
       "      <td>26292.000000</td>\n",
       "      <td>34.668900</td>\n",
       "      <td>-96.798000</td>\n",
       "      <td>7.410000e+02</td>\n",
       "      <td>1.376029e+09</td>\n",
       "      <td>34.755302</td>\n",
       "      <td>-96.905129</td>\n",
       "      <td>0.000000</td>\n",
       "    </tr>\n",
       "    <tr>\n",
       "      <th>50%</th>\n",
       "      <td>277859.000000</td>\n",
       "      <td>3.521417e+15</td>\n",
       "      <td>47.290000</td>\n",
       "      <td>48174.000000</td>\n",
       "      <td>39.371600</td>\n",
       "      <td>-87.476900</td>\n",
       "      <td>2.408000e+03</td>\n",
       "      <td>1.380762e+09</td>\n",
       "      <td>39.376593</td>\n",
       "      <td>-87.445204</td>\n",
       "      <td>0.000000</td>\n",
       "    </tr>\n",
       "    <tr>\n",
       "      <th>75%</th>\n",
       "      <td>416788.500000</td>\n",
       "      <td>4.635331e+15</td>\n",
       "      <td>83.010000</td>\n",
       "      <td>72011.000000</td>\n",
       "      <td>41.894800</td>\n",
       "      <td>-80.175200</td>\n",
       "      <td>1.968500e+04</td>\n",
       "      <td>1.385867e+09</td>\n",
       "      <td>41.954163</td>\n",
       "      <td>-80.264637</td>\n",
       "      <td>0.000000</td>\n",
       "    </tr>\n",
       "    <tr>\n",
       "      <th>max</th>\n",
       "      <td>555718.000000</td>\n",
       "      <td>4.992346e+18</td>\n",
       "      <td>22768.110000</td>\n",
       "      <td>99921.000000</td>\n",
       "      <td>65.689900</td>\n",
       "      <td>-67.950300</td>\n",
       "      <td>2.906700e+06</td>\n",
       "      <td>1.388534e+09</td>\n",
       "      <td>66.679297</td>\n",
       "      <td>-66.952026</td>\n",
       "      <td>1.000000</td>\n",
       "    </tr>\n",
       "  </tbody>\n",
       "</table>\n",
       "</div>"
      ],
      "text/plain": [
       "          Unnamed: 0        cc_num            amt            zip  \\\n",
       "count  555719.000000  5.557190e+05  555719.000000  555719.000000   \n",
       "mean   277859.000000  4.178387e+17      69.392810   48842.628015   \n",
       "std    160422.401459  1.309837e+18     156.745941   26855.283328   \n",
       "min         0.000000  6.041621e+10       1.000000    1257.000000   \n",
       "25%    138929.500000  1.800429e+14       9.630000   26292.000000   \n",
       "50%    277859.000000  3.521417e+15      47.290000   48174.000000   \n",
       "75%    416788.500000  4.635331e+15      83.010000   72011.000000   \n",
       "max    555718.000000  4.992346e+18   22768.110000   99921.000000   \n",
       "\n",
       "                 lat           long      city_pop     unix_time  \\\n",
       "count  555719.000000  555719.000000  5.557190e+05  5.557190e+05   \n",
       "mean       38.543253     -90.231325  8.822189e+04  1.380679e+09   \n",
       "std         5.061336      13.721780  3.003909e+05  5.201104e+06   \n",
       "min        20.027100    -165.672300  2.300000e+01  1.371817e+09   \n",
       "25%        34.668900     -96.798000  7.410000e+02  1.376029e+09   \n",
       "50%        39.371600     -87.476900  2.408000e+03  1.380762e+09   \n",
       "75%        41.894800     -80.175200  1.968500e+04  1.385867e+09   \n",
       "max        65.689900     -67.950300  2.906700e+06  1.388534e+09   \n",
       "\n",
       "           merch_lat     merch_long       is_fraud  \n",
       "count  555719.000000  555719.000000  555719.000000  \n",
       "mean       38.542798     -90.231380       0.003860  \n",
       "std         5.095829      13.733071       0.062008  \n",
       "min        19.027422    -166.671575       0.000000  \n",
       "25%        34.755302     -96.905129       0.000000  \n",
       "50%        39.376593     -87.445204       0.000000  \n",
       "75%        41.954163     -80.264637       0.000000  \n",
       "max        66.679297     -66.952026       1.000000  "
      ]
     },
     "metadata": {},
     "output_type": "display_data"
    },
    {
     "name": "stdout",
     "output_type": "stream",
     "text": [
      "Valeurs manquantes ===================\n"
     ]
    },
    {
     "data": {
      "text/plain": [
       "Unnamed: 0               0\n",
       "trans_date_trans_time    0\n",
       "cc_num                   0\n",
       "merchant                 0\n",
       "category                 0\n",
       "amt                      0\n",
       "first                    0\n",
       "last                     0\n",
       "gender                   0\n",
       "street                   0\n",
       "city                     0\n",
       "state                    0\n",
       "zip                      0\n",
       "lat                      0\n",
       "long                     0\n",
       "city_pop                 0\n",
       "job                      0\n",
       "dob                      0\n",
       "trans_num                0\n",
       "unix_time                0\n",
       "merch_lat                0\n",
       "merch_long               0\n",
       "is_fraud                 0\n",
       "dtype: int64"
      ]
     },
     "metadata": {},
     "output_type": "display_data"
    },
    {
     "name": "stdout",
     "output_type": "stream",
     "text": [
      "Distribution des valeurs unique ===================\n"
     ]
    },
    {
     "data": {
      "text/plain": [
       "Unnamed: 0               555719\n",
       "trans_date_trans_time    544760\n",
       "cc_num                      924\n",
       "merchant                    693\n",
       "category                     14\n",
       "amt                       37256\n",
       "first                       341\n",
       "last                        471\n",
       "gender                        2\n",
       "street                      924\n",
       "city                        849\n",
       "state                        50\n",
       "zip                         912\n",
       "lat                         910\n",
       "long                        910\n",
       "city_pop                    835\n",
       "job                         478\n",
       "dob                         910\n",
       "trans_num                555719\n",
       "unix_time                544760\n",
       "merch_lat                546490\n",
       "merch_long               551770\n",
       "is_fraud                      2\n",
       "dtype: int64"
      ]
     },
     "metadata": {},
     "output_type": "display_data"
    }
   ],
   "source": [
    "print(\"Decribe ===================\")\n",
    "display(fraud_df.describe())\n",
    "print(\"Valeurs manquantes ===================\")\n",
    "display(fraud_df.isnull().sum())\n",
    "print(\"Distribution des valeurs unique ===================\")\n",
    "display(fraud_df.nunique())\n"
   ]
  },
  {
   "cell_type": "code",
   "execution_count": 6,
   "metadata": {},
   "outputs": [],
   "source": [
    "# Drop des colonnes ID et unix_time\n",
    "fraud_df = fraud_df.drop(fraud_df.columns[0], axis=1)\n",
    "fraud_df = fraud_df.drop(columns=[\"unix_time\"]) "
   ]
  },
  {
   "cell_type": "code",
   "execution_count": 7,
   "metadata": {},
   "outputs": [
    {
     "name": "stdout",
     "output_type": "stream",
     "text": [
      "Corrélation entre les variables numériques ===================\n"
     ]
    },
    {
     "data": {
      "image/png": "[encoded data removed]",
      "text/plain": [
       "<Figure size 1000x600 with 2 Axes>"
      ]
     },
     "metadata": {},
     "output_type": "display_data"
    }
   ],
   "source": [
    "print(\"Corrélation entre les variables numériques ===================\")\n",
    "numerical_columns = fraud_df.select_dtypes(include=['number']).columns\n",
    "categorical_columns = fraud_df.select_dtypes(exclude=['number']).columns\n",
    "\n",
    "df_numerical = fraud_df[numerical_columns]\n",
    "df_categorical = fraud_df[categorical_columns]\n",
    "\n",
    "\n",
    "plt.figure(figsize=(10,6))\n",
    "sns.heatmap(df_numerical.corr(), annot=True, cmap='coolwarm')\n",
    "plt.show()"
   ]
  },
  {
   "cell_type": "code",
   "execution_count": 8,
   "metadata": {},
   "outputs": [],
   "source": [
    "# Entrainement du modèle\n",
    "\n",
    "target_column = \"is_fraud\"\n",
    "\n",
    "X = fraud_df.drop(columns=[target_column])  # Toutes les colonnes sauf la cible\n",
    "y = fraud_df[target_column]  # La variable cible\n",
    "\n",
    "numerical_columns = X.select_dtypes(include=['number']).columns\n",
    "categorical_columns = X.select_dtypes(exclude=['number']).columns"
   ]
  },
  {
   "cell_type": "code",
   "execution_count": 9,
   "metadata": {},
   "outputs": [],
   "source": [
    "# Transformer les variables numériques et catégoriques\n",
    "from sklearn.compose import ColumnTransformer\n",
    "from sklearn.discriminant_analysis import StandardScaler\n",
    "from sklearn.preprocessing import OneHotEncoder\n",
    "\n",
    "\n",
    "preprocessor = ColumnTransformer([\n",
    "    (\"num\", StandardScaler(), numerical_columns),\n",
    "    (\"cat\", OneHotEncoder(handle_unknown=\"ignore\"), categorical_columns)\n",
    "])"
   ]
  },
  {
   "cell_type": "code",
   "execution_count": 10,
   "metadata": {},
   "outputs": [],
   "source": [
    "# Construire le pipeline\n",
    "from sklearn.ensemble import RandomForestClassifier\n",
    "from sklearn.pipeline import Pipeline\n",
    "\n",
    "\n",
    "pipeline = Pipeline([\n",
    "    (\"preprocessing\", preprocessor),\n",
    "    (\"classifier\", RandomForestClassifier(n_estimators=20, random_state=42))\n",
    "])"
   ]
  },
  {
   "cell_type": "code",
   "execution_count": 11,
   "metadata": {},
   "outputs": [],
   "source": [
    "from sklearn.model_selection import train_test_split\n",
    "\n",
    "\n",
    "X_train, X_test, y_train, y_test = train_test_split(X, y, test_size=0.2, random_state=42, stratify=y)"
   ]
  },
  {
   "cell_type": "code",
   "execution_count": 12,
   "metadata": {},
   "outputs": [
    {
     "data": {
      "text/html": [
       "<style>#sk-container-id-1 {\n",
       "  /* Definition of color scheme common for light and dark mode */\n",
       "  --sklearn-color-text: #000;\n",
       "  --sklearn-color-text-muted: #666;\n",
       "  --sklearn-color-line: gray;\n",
       "  /* Definition of color scheme for unfitted estimators */\n",
       "  --sklearn-color-unfitted-level-0: #fff5e6;\n",
       "  --sklearn-color-unfitted-level-1: #f6e4d2;\n",
       "  --sklearn-color-unfitted-level-2: #ffe0b3;\n",
       "  --sklearn-color-unfitted-level-3: chocolate;\n",
       "  /* Definition of color scheme for fitted estimators */\n",
       "  --sklearn-color-fitted-level-0: #f0f8ff;\n",
       "  --sklearn-color-fitted-level-1: #d4ebff;\n",
       "  --sklearn-color-fitted-level-2: #b3dbfd;\n",
       "  --sklearn-color-fitted-level-3: cornflowerblue;\n",
       "\n",
       "  /* Specific color for light theme */\n",
       "  --sklearn-color-text-on-default-background: var(--sg-text-color, var(--theme-code-foreground, var(--jp-content-font-color1, black)));\n",
       "  --sklearn-color-background: var(--sg-background-color, var(--theme-background, var(--jp-layout-color0, white)));\n",
       "  --sklearn-color-border-box: var(--sg-text-color, var(--theme-code-foreground, var(--jp-content-font-color1, black)));\n",
       "  --sklearn-color-icon: #696969;\n",
       "\n",
       "  @media (prefers-color-scheme: dark) {\n",
       "    /* Redefinition of color scheme for dark theme */\n",
       "    --sklearn-color-text-on-default-background: var(--sg-text-color, var(--theme-code-foreground, var(--jp-content-font-color1, white)));\n",
       "    --sklearn-color-background: var(--sg-background-color, var(--theme-background, var(--jp-layout-color0, #111)));\n",
       "    --sklearn-color-border-box: var(--sg-text-color, var(--theme-code-foreground, var(--jp-content-font-color1, white)));\n",
       "    --sklearn-color-icon: #878787;\n",
       "  }\n",
       "}\n",
       "\n",
       "#sk-container-id-1 {\n",
       "  color: var(--sklearn-color-text);\n",
       "}\n",
       "\n",
       "#sk-container-id-1 pre {\n",
       "  padding: 0;\n",
       "}\n",
       "\n",
       "#sk-container-id-1 input.sk-hidden--visually {\n",
       "  border: 0;\n",
       "  clip: rect(1px 1px 1px 1px);\n",
       "  clip: rect(1px, 1px, 1px, 1px);\n",
       "  height: 1px;\n",
       "  margin: -1px;\n",
       "  overflow: hidden;\n",
       "  padding: 0;\n",
       "  position: absolute;\n",
       "  width: 1px;\n",
       "}\n",
       "\n",
       "#sk-container-id-1 div.sk-dashed-wrapped {\n",
       "  border: 1px dashed var(--sklearn-color-line);\n",
       "  margin: 0 0.4em 0.5em 0.4em;\n",
       "  box-sizing: border-box;\n",
       "  padding-bottom: 0.4em;\n",
       "  background-color: var(--sklearn-color-background);\n",
       "}\n",
       "\n",
       "#sk-container-id-1 div.sk-container {\n",
       "  /* jupyter's `normalize.less` sets `[hidden] { display: none; }`\n",
       "     but bootstrap.min.css set `[hidden] { display: none !important; }`\n",
       "     so we also need the `!important` here to be able to override the\n",
       "     default hidden behavior on the sphinx rendered scikit-learn.org.\n",
       "     See: https://github.com/scikit-learn/scikit-learn/issues/21755 */\n",
       "  display: inline-block !important;\n",
       "  position: relative;\n",
       "}\n",
       "\n",
       "#sk-container-id-1 div.sk-text-repr-fallback {\n",
       "  display: none;\n",
       "}\n",
       "\n",
       "div.sk-parallel-item,\n",
       "div.sk-serial,\n",
       "div.sk-item {\n",
       "  /* draw centered vertical line to link estimators */\n",
       "  background-image: linear-gradient(var(--sklearn-color-text-on-default-background), var(--sklearn-color-text-on-default-background));\n",
       "  background-size: 2px 100%;\n",
       "  background-repeat: no-repeat;\n",
       "  background-position: center center;\n",
       "}\n",
       "\n",
       "/* Parallel-specific style estimator block */\n",
       "\n",
       "#sk-container-id-1 div.sk-parallel-item::after {\n",
       "  content: \"\";\n",
       "  width: 100%;\n",
       "  border-bottom: 2px solid var(--sklearn-color-text-on-default-background);\n",
       "  flex-grow: 1;\n",
       "}\n",
       "\n",
       "#sk-container-id-1 div.sk-parallel {\n",
       "  display: flex;\n",
       "  align-items: stretch;\n",
       "  justify-content: center;\n",
       "  background-color: var(--sklearn-color-background);\n",
       "  position: relative;\n",
       "}\n",
       "\n",
       "#sk-container-id-1 div.sk-parallel-item {\n",
       "  display: flex;\n",
       "  flex-direction: column;\n",
       "}\n",
       "\n",
       "#sk-container-id-1 div.sk-parallel-item:first-child::after {\n",
       "  align-self: flex-end;\n",
       "  width: 50%;\n",
       "}\n",
       "\n",
       "#sk-container-id-1 div.sk-parallel-item:last-child::after {\n",
       "  align-self: flex-start;\n",
       "  width: 50%;\n",
       "}\n",
       "\n",
       "#sk-container-id-1 div.sk-parallel-item:only-child::after {\n",
       "  width: 0;\n",
       "}\n",
       "\n",
       "/* Serial-specific style estimator block */\n",
       "\n",
       "#sk-container-id-1 div.sk-serial {\n",
       "  display: flex;\n",
       "  flex-direction: column;\n",
       "  align-items: center;\n",
       "  background-color: var(--sklearn-color-background);\n",
       "  padding-right: 1em;\n",
       "  padding-left: 1em;\n",
       "}\n",
       "\n",
       "\n",
       "/* Toggleable style: style used for estimator/Pipeline/ColumnTransformer box that is\n",
       "clickable and can be expanded/collapsed.\n",
       "- Pipeline and ColumnTransformer use this feature and define the default style\n",
       "- Estimators will overwrite some part of the style using the `sk-estimator` class\n",
       "*/\n",
       "\n",
       "/* Pipeline and ColumnTransformer style (default) */\n",
       "\n",
       "#sk-container-id-1 div.sk-toggleable {\n",
       "  /* Default theme specific background. It is overwritten whether we have a\n",
       "  specific estimator or a Pipeline/ColumnTransformer */\n",
       "  background-color: var(--sklearn-color-background);\n",
       "}\n",
       "\n",
       "/* Toggleable label */\n",
       "#sk-container-id-1 label.sk-toggleable__label {\n",
       "  cursor: pointer;\n",
       "  display: flex;\n",
       "  width: 100%;\n",
       "  margin-bottom: 0;\n",
       "  padding: 0.5em;\n",
       "  box-sizing: border-box;\n",
       "  text-align: center;\n",
       "  align-items: start;\n",
       "  justify-content: space-between;\n",
       "  gap: 0.5em;\n",
       "}\n",
       "\n",
       "#sk-container-id-1 label.sk-toggleable__label .caption {\n",
       "  font-size: 0.6rem;\n",
       "  font-weight: lighter;\n",
       "  color: var(--sklearn-color-text-muted);\n",
       "}\n",
       "\n",
       "#sk-container-id-1 label.sk-toggleable__label-arrow:before {\n",
       "  /* Arrow on the left of the label */\n",
       "  content: \"▸\";\n",
       "  float: left;\n",
       "  margin-right: 0.25em;\n",
       "  color: var(--sklearn-color-icon);\n",
       "}\n",
       "\n",
       "#sk-container-id-1 label.sk-toggleable__label-arrow:hover:before {\n",
       "  color: var(--sklearn-color-text);\n",
       "}\n",
       "\n",
       "/* Toggleable content - dropdown */\n",
       "\n",
       "#sk-container-id-1 div.sk-toggleable__content {\n",
       "  max-height: 0;\n",
       "  max-width: 0;\n",
       "  overflow: hidden;\n",
       "  text-align: left;\n",
       "  /* unfitted */\n",
       "  background-color: var(--sklearn-color-unfitted-level-0);\n",
       "}\n",
       "\n",
       "#sk-container-id-1 div.sk-toggleable__content.fitted {\n",
       "  /* fitted */\n",
       "  background-color: var(--sklearn-color-fitted-level-0);\n",
       "}\n",
       "\n",
       "#sk-container-id-1 div.sk-toggleable__content pre {\n",
       "  margin: 0.2em;\n",
       "  border-radius: 0.25em;\n",
       "  color: var(--sklearn-color-text);\n",
       "  /* unfitted */\n",
       "  background-color: var(--sklearn-color-unfitted-level-0);\n",
       "}\n",
       "\n",
       "#sk-container-id-1 div.sk-toggleable__content.fitted pre {\n",
       "  /* unfitted */\n",
       "  background-color: var(--sklearn-color-fitted-level-0);\n",
       "}\n",
       "\n",
       "#sk-container-id-1 input.sk-toggleable__control:checked~div.sk-toggleable__content {\n",
       "  /* Expand drop-down */\n",
       "  max-height: 200px;\n",
       "  max-width: 100%;\n",
       "  overflow: auto;\n",
       "}\n",
       "\n",
       "#sk-container-id-1 input.sk-toggleable__control:checked~label.sk-toggleable__label-arrow:before {\n",
       "  content: \"▾\";\n",
       "}\n",
       "\n",
       "/* Pipeline/ColumnTransformer-specific style */\n",
       "\n",
       "#sk-container-id-1 div.sk-label input.sk-toggleable__control:checked~label.sk-toggleable__label {\n",
       "  color: var(--sklearn-color-text);\n",
       "  background-color: var(--sklearn-color-unfitted-level-2);\n",
       "}\n",
       "\n",
       "#sk-container-id-1 div.sk-label.fitted input.sk-toggleable__control:checked~label.sk-toggleable__label {\n",
       "  background-color: var(--sklearn-color-fitted-level-2);\n",
       "}\n",
       "\n",
       "/* Estimator-specific style */\n",
       "\n",
       "/* Colorize estimator box */\n",
       "#sk-container-id-1 div.sk-estimator input.sk-toggleable__control:checked~label.sk-toggleable__label {\n",
       "  /* unfitted */\n",
       "  background-color: var(--sklearn-color-unfitted-level-2);\n",
       "}\n",
       "\n",
       "#sk-container-id-1 div.sk-estimator.fitted input.sk-toggleable__control:checked~label.sk-toggleable__label {\n",
       "  /* fitted */\n",
       "  background-color: var(--sklearn-color-fitted-level-2);\n",
       "}\n",
       "\n",
       "#sk-container-id-1 div.sk-label label.sk-toggleable__label,\n",
       "#sk-container-id-1 div.sk-label label {\n",
       "  /* The background is the default theme color */\n",
       "  color: var(--sklearn-color-text-on-default-background);\n",
       "}\n",
       "\n",
       "/* On hover, darken the color of the background */\n",
       "#sk-container-id-1 div.sk-label:hover label.sk-toggleable__label {\n",
       "  color: var(--sklearn-color-text);\n",
       "  background-color: var(--sklearn-color-unfitted-level-2);\n",
       "}\n",
       "\n",
       "/* Label box, darken color on hover, fitted */\n",
       "#sk-container-id-1 div.sk-label.fitted:hover label.sk-toggleable__label.fitted {\n",
       "  color: var(--sklearn-color-text);\n",
       "  background-color: var(--sklearn-color-fitted-level-2);\n",
       "}\n",
       "\n",
       "/* Estimator label */\n",
       "\n",
       "#sk-container-id-1 div.sk-label label {\n",
       "  font-family: monospace;\n",
       "  font-weight: bold;\n",
       "  display: inline-block;\n",
       "  line-height: 1.2em;\n",
       "}\n",
       "\n",
       "#sk-container-id-1 div.sk-label-container {\n",
       "  text-align: center;\n",
       "}\n",
       "\n",
       "/* Estimator-specific */\n",
       "#sk-container-id-1 div.sk-estimator {\n",
       "  font-family: monospace;\n",
       "  border: 1px dotted var(--sklearn-color-border-box);\n",
       "  border-radius: 0.25em;\n",
       "  box-sizing: border-box;\n",
       "  margin-bottom: 0.5em;\n",
       "  /* unfitted */\n",
       "  background-color: var(--sklearn-color-unfitted-level-0);\n",
       "}\n",
       "\n",
       "#sk-container-id-1 div.sk-estimator.fitted {\n",
       "  /* fitted */\n",
       "  background-color: var(--sklearn-color-fitted-level-0);\n",
       "}\n",
       "\n",
       "/* on hover */\n",
       "#sk-container-id-1 div.sk-estimator:hover {\n",
       "  /* unfitted */\n",
       "  background-color: var(--sklearn-color-unfitted-level-2);\n",
       "}\n",
       "\n",
       "#sk-container-id-1 div.sk-estimator.fitted:hover {\n",
       "  /* fitted */\n",
       "  background-color: var(--sklearn-color-fitted-level-2);\n",
       "}\n",
       "\n",
       "/* Specification for estimator info (e.g. \"i\" and \"?\") */\n",
       "\n",
       "/* Common style for \"i\" and \"?\" */\n",
       "\n",
       ".sk-estimator-doc-link,\n",
       "a:link.sk-estimator-doc-link,\n",
       "a:visited.sk-estimator-doc-link {\n",
       "  float: right;\n",
       "  font-size: smaller;\n",
       "  line-height: 1em;\n",
       "  font-family: monospace;\n",
       "  background-color: var(--sklearn-color-background);\n",
       "  border-radius: 1em;\n",
       "  height: 1em;\n",
       "  width: 1em;\n",
       "  text-decoration: none !important;\n",
       "  margin-left: 0.5em;\n",
       "  text-align: center;\n",
       "  /* unfitted */\n",
       "  border: var(--sklearn-color-unfitted-level-1) 1pt solid;\n",
       "  color: var(--sklearn-color-unfitted-level-1);\n",
       "}\n",
       "\n",
       ".sk-estimator-doc-link.fitted,\n",
       "a:link.sk-estimator-doc-link.fitted,\n",
       "a:visited.sk-estimator-doc-link.fitted {\n",
       "  /* fitted */\n",
       "  border: var(--sklearn-color-fitted-level-1) 1pt solid;\n",
       "  color: var(--sklearn-color-fitted-level-1);\n",
       "}\n",
       "\n",
       "/* On hover */\n",
       "div.sk-estimator:hover .sk-estimator-doc-link:hover,\n",
       ".sk-estimator-doc-link:hover,\n",
       "div.sk-label-container:hover .sk-estimator-doc-link:hover,\n",
       ".sk-estimator-doc-link:hover {\n",
       "  /* unfitted */\n",
       "  background-color: var(--sklearn-color-unfitted-level-3);\n",
       "  color: var(--sklearn-color-background);\n",
       "  text-decoration: none;\n",
       "}\n",
       "\n",
       "div.sk-estimator.fitted:hover .sk-estimator-doc-link.fitted:hover,\n",
       ".sk-estimator-doc-link.fitted:hover,\n",
       "div.sk-label-container:hover .sk-estimator-doc-link.fitted:hover,\n",
       ".sk-estimator-doc-link.fitted:hover {\n",
       "  /* fitted */\n",
       "  background-color: var(--sklearn-color-fitted-level-3);\n",
       "  color: var(--sklearn-color-background);\n",
       "  text-decoration: none;\n",
       "}\n",
       "\n",
       "/* Span, style for the box shown on hovering the info icon */\n",
       ".sk-estimator-doc-link span {\n",
       "  display: none;\n",
       "  z-index: 9999;\n",
       "  position: relative;\n",
       "  font-weight: normal;\n",
       "  right: .2ex;\n",
       "  padding: .5ex;\n",
       "  margin: .5ex;\n",
       "  width: min-content;\n",
       "  min-width: 20ex;\n",
       "  max-width: 50ex;\n",
       "  color: var(--sklearn-color-text);\n",
       "  box-shadow: 2pt 2pt 4pt #999;\n",
       "  /* unfitted */\n",
       "  background: var(--sklearn-color-unfitted-level-0);\n",
       "  border: .5pt solid var(--sklearn-color-unfitted-level-3);\n",
       "}\n",
       "\n",
       ".sk-estimator-doc-link.fitted span {\n",
       "  /* fitted */\n",
       "  background: var(--sklearn-color-fitted-level-0);\n",
       "  border: var(--sklearn-color-fitted-level-3);\n",
       "}\n",
       "\n",
       ".sk-estimator-doc-link:hover span {\n",
       "  display: block;\n",
       "}\n",
       "\n",
       "/* \"?\"-specific style due to the `<a>` HTML tag */\n",
       "\n",
       "#sk-container-id-1 a.estimator_doc_link {\n",
       "  float: right;\n",
       "  font-size: 1rem;\n",
       "  line-height: 1em;\n",
       "  font-family: monospace;\n",
       "  background-color: var(--sklearn-color-background);\n",
       "  border-radius: 1rem;\n",
       "  height: 1rem;\n",
       "  width: 1rem;\n",
       "  text-decoration: none;\n",
       "  /* unfitted */\n",
       "  color: var(--sklearn-color-unfitted-level-1);\n",
       "  border: var(--sklearn-color-unfitted-level-1) 1pt solid;\n",
       "}\n",
       "\n",
       "#sk-container-id-1 a.estimator_doc_link.fitted {\n",
       "  /* fitted */\n",
       "  border: var(--sklearn-color-fitted-level-1) 1pt solid;\n",
       "  color: var(--sklearn-color-fitted-level-1);\n",
       "}\n",
       "\n",
       "/* On hover */\n",
       "#sk-container-id-1 a.estimator_doc_link:hover {\n",
       "  /* unfitted */\n",
       "  background-color: var(--sklearn-color-unfitted-level-3);\n",
       "  color: var(--sklearn-color-background);\n",
       "  text-decoration: none;\n",
       "}\n",
       "\n",
       "#sk-container-id-1 a.estimator_doc_link.fitted:hover {\n",
       "  /* fitted */\n",
       "  background-color: var(--sklearn-color-fitted-level-3);\n",
       "}\n",
       "</style><div id=\"sk-container-id-1\" class=\"sk-top-container\"><div class=\"sk-text-repr-fallback\"><pre>Pipeline(steps=[(&#x27;preprocessing&#x27;,\n",
       "                 ColumnTransformer(transformers=[(&#x27;num&#x27;, StandardScaler(),\n",
       "                                                  Index([&#x27;cc_num&#x27;, &#x27;amt&#x27;, &#x27;zip&#x27;, &#x27;lat&#x27;, &#x27;long&#x27;, &#x27;city_pop&#x27;, &#x27;merch_lat&#x27;,\n",
       "       &#x27;merch_long&#x27;],\n",
       "      dtype=&#x27;object&#x27;)),\n",
       "                                                 (&#x27;cat&#x27;,\n",
       "                                                  OneHotEncoder(handle_unknown=&#x27;ignore&#x27;),\n",
       "                                                  Index([&#x27;trans_date_trans_time&#x27;, &#x27;merchant&#x27;, &#x27;category&#x27;, &#x27;first&#x27;, &#x27;last&#x27;,\n",
       "       &#x27;gender&#x27;, &#x27;street&#x27;, &#x27;city&#x27;, &#x27;state&#x27;, &#x27;job&#x27;, &#x27;dob&#x27;, &#x27;trans_num&#x27;],\n",
       "      dtype=&#x27;object&#x27;))])),\n",
       "                (&#x27;classifier&#x27;,\n",
       "                 RandomForestClassifier(n_estimators=20, random_state=42))])</pre><b>In a Jupyter environment, please rerun this cell to show the HTML representation or trust the notebook. <br />On GitHub, the HTML representation is unable to render, please try loading this page with nbviewer.org.</b></div><div class=\"sk-container\" hidden><div class=\"sk-item sk-dashed-wrapped\"><div class=\"sk-label-container\"><div class=\"sk-label fitted sk-toggleable\"><input class=\"sk-toggleable__control sk-hidden--visually\" id=\"sk-estimator-id-1\" type=\"checkbox\" ><label for=\"sk-estimator-id-1\" class=\"sk-toggleable__label fitted sk-toggleable__label-arrow\"><div><div>Pipeline</div></div><div><a class=\"sk-estimator-doc-link fitted\" rel=\"noreferrer\" target=\"_blank\" href=\"https://scikit-learn.org/1.6/modules/generated/sklearn.pipeline.Pipeline.html\">?<span>Documentation for Pipeline</span></a><span class=\"sk-estimator-doc-link fitted\">i<span>Fitted</span></span></div></label><div class=\"sk-toggleable__content fitted\"><pre>Pipeline(steps=[(&#x27;preprocessing&#x27;,\n",
       "                 ColumnTransformer(transformers=[(&#x27;num&#x27;, StandardScaler(),\n",
       "                                                  Index([&#x27;cc_num&#x27;, &#x27;amt&#x27;, &#x27;zip&#x27;, &#x27;lat&#x27;, &#x27;long&#x27;, &#x27;city_pop&#x27;, &#x27;merch_lat&#x27;,\n",
       "       &#x27;merch_long&#x27;],\n",
       "      dtype=&#x27;object&#x27;)),\n",
       "                                                 (&#x27;cat&#x27;,\n",
       "                                                  OneHotEncoder(handle_unknown=&#x27;ignore&#x27;),\n",
       "                                                  Index([&#x27;trans_date_trans_time&#x27;, &#x27;merchant&#x27;, &#x27;category&#x27;, &#x27;first&#x27;, &#x27;last&#x27;,\n",
       "       &#x27;gender&#x27;, &#x27;street&#x27;, &#x27;city&#x27;, &#x27;state&#x27;, &#x27;job&#x27;, &#x27;dob&#x27;, &#x27;trans_num&#x27;],\n",
       "      dtype=&#x27;object&#x27;))])),\n",
       "                (&#x27;classifier&#x27;,\n",
       "                 RandomForestClassifier(n_estimators=20, random_state=42))])</pre></div> </div></div><div class=\"sk-serial\"><div class=\"sk-item sk-dashed-wrapped\"><div class=\"sk-label-container\"><div class=\"sk-label fitted sk-toggleable\"><input class=\"sk-toggleable__control sk-hidden--visually\" id=\"sk-estimator-id-2\" type=\"checkbox\" ><label for=\"sk-estimator-id-2\" class=\"sk-toggleable__label fitted sk-toggleable__label-arrow\"><div><div>preprocessing: ColumnTransformer</div></div><div><a class=\"sk-estimator-doc-link fitted\" rel=\"noreferrer\" target=\"_blank\" href=\"https://scikit-learn.org/1.6/modules/generated/sklearn.compose.ColumnTransformer.html\">?<span>Documentation for preprocessing: ColumnTransformer</span></a></div></label><div class=\"sk-toggleable__content fitted\"><pre>ColumnTransformer(transformers=[(&#x27;num&#x27;, StandardScaler(),\n",
       "                                 Index([&#x27;cc_num&#x27;, &#x27;amt&#x27;, &#x27;zip&#x27;, &#x27;lat&#x27;, &#x27;long&#x27;, &#x27;city_pop&#x27;, &#x27;merch_lat&#x27;,\n",
       "       &#x27;merch_long&#x27;],\n",
       "      dtype=&#x27;object&#x27;)),\n",
       "                                (&#x27;cat&#x27;, OneHotEncoder(handle_unknown=&#x27;ignore&#x27;),\n",
       "                                 Index([&#x27;trans_date_trans_time&#x27;, &#x27;merchant&#x27;, &#x27;category&#x27;, &#x27;first&#x27;, &#x27;last&#x27;,\n",
       "       &#x27;gender&#x27;, &#x27;street&#x27;, &#x27;city&#x27;, &#x27;state&#x27;, &#x27;job&#x27;, &#x27;dob&#x27;, &#x27;trans_num&#x27;],\n",
       "      dtype=&#x27;object&#x27;))])</pre></div> </div></div><div class=\"sk-parallel\"><div class=\"sk-parallel-item\"><div class=\"sk-item\"><div class=\"sk-label-container\"><div class=\"sk-label fitted sk-toggleable\"><input class=\"sk-toggleable__control sk-hidden--visually\" id=\"sk-estimator-id-3\" type=\"checkbox\" ><label for=\"sk-estimator-id-3\" class=\"sk-toggleable__label fitted sk-toggleable__label-arrow\"><div><div>num</div></div></label><div class=\"sk-toggleable__content fitted\"><pre>Index([&#x27;cc_num&#x27;, &#x27;amt&#x27;, &#x27;zip&#x27;, &#x27;lat&#x27;, &#x27;long&#x27;, &#x27;city_pop&#x27;, &#x27;merch_lat&#x27;,\n",
       "       &#x27;merch_long&#x27;],\n",
       "      dtype=&#x27;object&#x27;)</pre></div> </div></div><div class=\"sk-serial\"><div class=\"sk-item\"><div class=\"sk-estimator fitted sk-toggleable\"><input class=\"sk-toggleable__control sk-hidden--visually\" id=\"sk-estimator-id-4\" type=\"checkbox\" ><label for=\"sk-estimator-id-4\" class=\"sk-toggleable__label fitted sk-toggleable__label-arrow\"><div><div>StandardScaler</div></div><div><a class=\"sk-estimator-doc-link fitted\" rel=\"noreferrer\" target=\"_blank\" href=\"https://scikit-learn.org/1.6/modules/generated/sklearn.preprocessing.StandardScaler.html\">?<span>Documentation for StandardScaler</span></a></div></label><div class=\"sk-toggleable__content fitted\"><pre>StandardScaler()</pre></div> </div></div></div></div></div><div class=\"sk-parallel-item\"><div class=\"sk-item\"><div class=\"sk-label-container\"><div class=\"sk-label fitted sk-toggleable\"><input class=\"sk-toggleable__control sk-hidden--visually\" id=\"sk-estimator-id-5\" type=\"checkbox\" ><label for=\"sk-estimator-id-5\" class=\"sk-toggleable__label fitted sk-toggleable__label-arrow\"><div><div>cat</div></div></label><div class=\"sk-toggleable__content fitted\"><pre>Index([&#x27;trans_date_trans_time&#x27;, &#x27;merchant&#x27;, &#x27;category&#x27;, &#x27;first&#x27;, &#x27;last&#x27;,\n",
       "       &#x27;gender&#x27;, &#x27;street&#x27;, &#x27;city&#x27;, &#x27;state&#x27;, &#x27;job&#x27;, &#x27;dob&#x27;, &#x27;trans_num&#x27;],\n",
       "      dtype=&#x27;object&#x27;)</pre></div> </div></div><div class=\"sk-serial\"><div class=\"sk-item\"><div class=\"sk-estimator fitted sk-toggleable\"><input class=\"sk-toggleable__control sk-hidden--visually\" id=\"sk-estimator-id-6\" type=\"checkbox\" ><label for=\"sk-estimator-id-6\" class=\"sk-toggleable__label fitted sk-toggleable__label-arrow\"><div><div>OneHotEncoder</div></div><div><a class=\"sk-estimator-doc-link fitted\" rel=\"noreferrer\" target=\"_blank\" href=\"https://scikit-learn.org/1.6/modules/generated/sklearn.preprocessing.OneHotEncoder.html\">?<span>Documentation for OneHotEncoder</span></a></div></label><div class=\"sk-toggleable__content fitted\"><pre>OneHotEncoder(handle_unknown=&#x27;ignore&#x27;)</pre></div> </div></div></div></div></div></div></div><div class=\"sk-item\"><div class=\"sk-estimator fitted sk-toggleable\"><input class=\"sk-toggleable__control sk-hidden--visually\" id=\"sk-estimator-id-7\" type=\"checkbox\" ><label for=\"sk-estimator-id-7\" class=\"sk-toggleable__label fitted sk-toggleable__label-arrow\"><div><div>RandomForestClassifier</div></div><div><a class=\"sk-estimator-doc-link fitted\" rel=\"noreferrer\" target=\"_blank\" href=\"https://scikit-learn.org/1.6/modules/generated/sklearn.ensemble.RandomForestClassifier.html\">?<span>Documentation for RandomForestClassifier</span></a></div></label><div class=\"sk-toggleable__content fitted\"><pre>RandomForestClassifier(n_estimators=20, random_state=42)</pre></div> </div></div></div></div></div></div>"
      ],
      "text/plain": [
       "Pipeline(steps=[('preprocessing',\n",
       "                 ColumnTransformer(transformers=[('num', StandardScaler(),\n",
       "                                                  Index(['cc_num', 'amt', 'zip', 'lat', 'long', 'city_pop', 'merch_lat',\n",
       "       'merch_long'],\n",
       "      dtype='object')),\n",
       "                                                 ('cat',\n",
       "                                                  OneHotEncoder(handle_unknown='ignore'),\n",
       "                                                  Index(['trans_date_trans_time', 'merchant', 'category', 'first', 'last',\n",
       "       'gender', 'street', 'city', 'state', 'job', 'dob', 'trans_num'],\n",
       "      dtype='object'))])),\n",
       "                ('classifier',\n",
       "                 RandomForestClassifier(n_estimators=20, random_state=42))])"
      ]
     },
     "execution_count": 12,
     "metadata": {},
     "output_type": "execute_result"
    }
   ],
   "source": [
    "# Entrainer le modèle\n",
    "\n",
    "pipeline.fit(X_train, y_train)"
   ]
  },
  {
   "cell_type": "code",
   "execution_count": 13,
   "metadata": {},
   "outputs": [
    {
     "name": "stdout",
     "output_type": "stream",
     "text": [
      "Accuracy: 0.9966\n",
      "              precision    recall  f1-score   support\n",
      "\n",
      "           0       1.00      1.00      1.00    110715\n",
      "           1       0.98      0.11      0.20       429\n",
      "\n",
      "    accuracy                           1.00    111144\n",
      "   macro avg       0.99      0.56      0.60    111144\n",
      "weighted avg       1.00      1.00      1.00    111144\n",
      "\n"
     ]
    }
   ],
   "source": [
    "# Prédictions\n",
    "from sklearn.metrics import accuracy_score, classification_report\n",
    "\n",
    "\n",
    "y_pred = pipeline.predict(X_test)\n",
    "\n",
    "# Évaluer le modèle\n",
    "accuracy = accuracy_score(y_test, y_pred)\n",
    "print(f\"Accuracy: {accuracy:.4f}\")\n",
    "\n",
    "# Rapport détaillé\n",
    "print(classification_report(y_test, y_pred))"
   ]
  },
  {
   "cell_type": "code",
   "execution_count": 14,
   "metadata": {},
   "outputs": [
    {
     "name": "stderr",
     "output_type": "stream",
     "text": [
      "/var/folders/6j/sv8jppw10xn_17k56lbbjxj40000gn/T/ipykernel_2671/293202757.py:14: FutureWarning: \n",
      "\n",
      "Passing `palette` without assigning `hue` is deprecated and will be removed in v0.14.0. Assign the `y` variable to `hue` and set `legend=False` for the same effect.\n",
      "\n",
      "  sns.barplot(x=importances[:10], y=importances.index[:10], palette=\"viridis\")\n"
     ]
    },
    {
     "data": {
      "image/png": "[encoded data removed]",
      "text/plain": [
       "<Figure size 1000x600 with 1 Axes>"
      ]
     },
     "metadata": {},
     "output_type": "display_data"
    }
   ],
   "source": [
    "import matplotlib.pyplot as plt\n",
    "import seaborn as sns\n",
    "import pandas as pd\n",
    "\n",
    "# Récupérer les noms des features après transformation\n",
    "feature_names = numerical_columns.tolist() + \\\n",
    "                pipeline.named_steps[\"preprocessing\"].named_transformers_[\"cat\"].get_feature_names_out(categorical_columns).tolist()\n",
    "\n",
    "# Extraire l'importance des features\n",
    "importances = pd.Series(pipeline.named_steps[\"classifier\"].feature_importances_, index=feature_names).sort_values(ascending=False)\n",
    "\n",
    "# Afficher le graphique\n",
    "plt.figure(figsize=(10,6))\n",
    "sns.barplot(x=importances[:10], y=importances.index[:10], palette=\"viridis\")\n",
    "\n",
    "plt.title(\"Top 10 des Features Importantes\")\n",
    "plt.xlabel(\"Importance\")\n",
    "plt.ylabel(\"Feature\")\n",
    "plt.show()"
   ]
  },
  {
   "cell_type": "code",
   "execution_count": 15,
   "metadata": {},
   "outputs": [
    {
     "name": "stdout",
     "output_type": "stream",
     "text": [
      "Fitting 5 folds for each of 27 candidates, totalling 135 fits\n"
     ]
    },
    {
     "name": "stderr",
     "output_type": "stream",
     "text": [
      "/Users/alexandre/miniconda3/envs/datalab_env/lib/python3.13/site-packages/xgboost/core.py:158: UserWarning: [21:06:46] WARNING: /Users/runner/work/xgboost/xgboost/src/context.cc:196: XGBoost is not compiled with CUDA support.\n",
      "  warnings.warn(smsg, UserWarning)\n"
     ]
    },
    {
     "name": "stdout",
     "output_type": "stream",
     "text": [
      "[CV] END classifier__learning_rate=0.01, classifier__max_depth=3, classifier__n_estimators=50; total time=   7.9s\n"
     ]
    },
    {
     "name": "stderr",
     "output_type": "stream",
     "text": [
      "/Users/alexandre/miniconda3/envs/datalab_env/lib/python3.13/site-packages/xgboost/core.py:158: UserWarning: [21:06:54] WARNING: /Users/runner/work/xgboost/xgboost/src/context.cc:196: XGBoost is not compiled with CUDA support.\n",
      "  warnings.warn(smsg, UserWarning)\n"
     ]
    },
    {
     "name": "stdout",
     "output_type": "stream",
     "text": [
      "[CV] END classifier__learning_rate=0.01, classifier__max_depth=3, classifier__n_estimators=50; total time=   8.0s\n"
     ]
    },
    {
     "name": "stderr",
     "output_type": "stream",
     "text": [
      "/Users/alexandre/miniconda3/envs/datalab_env/lib/python3.13/site-packages/xgboost/core.py:158: UserWarning: [21:07:02] WARNING: /Users/runner/work/xgboost/xgboost/src/context.cc:196: XGBoost is not compiled with CUDA support.\n",
      "  warnings.warn(smsg, UserWarning)\n"
     ]
    },
    {
     "name": "stdout",
     "output_type": "stream",
     "text": [
      "[CV] END classifier__learning_rate=0.01, classifier__max_depth=3, classifier__n_estimators=50; total time=   7.7s\n"
     ]
    },
    {
     "name": "stderr",
     "output_type": "stream",
     "text": [
      "/Users/alexandre/miniconda3/envs/datalab_env/lib/python3.13/site-packages/xgboost/core.py:158: UserWarning: [21:07:09] WARNING: /Users/runner/work/xgboost/xgboost/src/context.cc:196: XGBoost is not compiled with CUDA support.\n",
      "  warnings.warn(smsg, UserWarning)\n"
     ]
    },
    {
     "name": "stdout",
     "output_type": "stream",
     "text": [
      "[CV] END classifier__learning_rate=0.01, classifier__max_depth=3, classifier__n_estimators=50; total time=   6.9s\n"
     ]
    },
    {
     "name": "stderr",
     "output_type": "stream",
     "text": [
      "/Users/alexandre/miniconda3/envs/datalab_env/lib/python3.13/site-packages/xgboost/core.py:158: UserWarning: [21:07:16] WARNING: /Users/runner/work/xgboost/xgboost/src/context.cc:196: XGBoost is not compiled with CUDA support.\n",
      "  warnings.warn(smsg, UserWarning)\n"
     ]
    },
    {
     "name": "stdout",
     "output_type": "stream",
     "text": [
      "[CV] END classifier__learning_rate=0.01, classifier__max_depth=3, classifier__n_estimators=50; total time=   7.7s\n"
     ]
    },
    {
     "name": "stderr",
     "output_type": "stream",
     "text": [
      "/Users/alexandre/miniconda3/envs/datalab_env/lib/python3.13/site-packages/xgboost/core.py:158: UserWarning: [21:07:24] WARNING: /Users/runner/work/xgboost/xgboost/src/context.cc:196: XGBoost is not compiled with CUDA support.\n",
      "  warnings.warn(smsg, UserWarning)\n"
     ]
    },
    {
     "name": "stdout",
     "output_type": "stream",
     "text": [
      "[CV] END classifier__learning_rate=0.01, classifier__max_depth=3, classifier__n_estimators=100; total time=   9.1s\n"
     ]
    },
    {
     "name": "stderr",
     "output_type": "stream",
     "text": [
      "/Users/alexandre/miniconda3/envs/datalab_env/lib/python3.13/site-packages/xgboost/core.py:158: UserWarning: [21:07:33] WARNING: /Users/runner/work/xgboost/xgboost/src/context.cc:196: XGBoost is not compiled with CUDA support.\n",
      "  warnings.warn(smsg, UserWarning)\n"
     ]
    },
    {
     "name": "stdout",
     "output_type": "stream",
     "text": [
      "[CV] END classifier__learning_rate=0.01, classifier__max_depth=3, classifier__n_estimators=100; total time=   9.4s\n"
     ]
    },
    {
     "name": "stderr",
     "output_type": "stream",
     "text": [
      "/Users/alexandre/miniconda3/envs/datalab_env/lib/python3.13/site-packages/xgboost/core.py:158: UserWarning: [21:07:43] WARNING: /Users/runner/work/xgboost/xgboost/src/context.cc:196: XGBoost is not compiled with CUDA support.\n",
      "  warnings.warn(smsg, UserWarning)\n"
     ]
    },
    {
     "name": "stdout",
     "output_type": "stream",
     "text": [
      "[CV] END classifier__learning_rate=0.01, classifier__max_depth=3, classifier__n_estimators=100; total time=   9.3s\n"
     ]
    },
    {
     "name": "stderr",
     "output_type": "stream",
     "text": [
      "/Users/alexandre/miniconda3/envs/datalab_env/lib/python3.13/site-packages/xgboost/core.py:158: UserWarning: [21:07:52] WARNING: /Users/runner/work/xgboost/xgboost/src/context.cc:196: XGBoost is not compiled with CUDA support.\n",
      "  warnings.warn(smsg, UserWarning)\n"
     ]
    },
    {
     "name": "stdout",
     "output_type": "stream",
     "text": [
      "[CV] END classifier__learning_rate=0.01, classifier__max_depth=3, classifier__n_estimators=100; total time=   9.3s\n"
     ]
    },
    {
     "name": "stderr",
     "output_type": "stream",
     "text": [
      "/Users/alexandre/miniconda3/envs/datalab_env/lib/python3.13/site-packages/xgboost/core.py:158: UserWarning: [21:08:01] WARNING: /Users/runner/work/xgboost/xgboost/src/context.cc:196: XGBoost is not compiled with CUDA support.\n",
      "  warnings.warn(smsg, UserWarning)\n"
     ]
    },
    {
     "name": "stdout",
     "output_type": "stream",
     "text": [
      "[CV] END classifier__learning_rate=0.01, classifier__max_depth=3, classifier__n_estimators=100; total time=   9.1s\n"
     ]
    },
    {
     "name": "stderr",
     "output_type": "stream",
     "text": [
      "/Users/alexandre/miniconda3/envs/datalab_env/lib/python3.13/site-packages/xgboost/core.py:158: UserWarning: [21:08:10] WARNING: /Users/runner/work/xgboost/xgboost/src/context.cc:196: XGBoost is not compiled with CUDA support.\n",
      "  warnings.warn(smsg, UserWarning)\n"
     ]
    },
    {
     "name": "stdout",
     "output_type": "stream",
     "text": [
      "[CV] END classifier__learning_rate=0.01, classifier__max_depth=3, classifier__n_estimators=200; total time=  12.0s\n"
     ]
    },
    {
     "name": "stderr",
     "output_type": "stream",
     "text": [
      "/Users/alexandre/miniconda3/envs/datalab_env/lib/python3.13/site-packages/xgboost/core.py:158: UserWarning: [21:08:22] WARNING: /Users/runner/work/xgboost/xgboost/src/context.cc:196: XGBoost is not compiled with CUDA support.\n",
      "  warnings.warn(smsg, UserWarning)\n"
     ]
    },
    {
     "name": "stdout",
     "output_type": "stream",
     "text": [
      "[CV] END classifier__learning_rate=0.01, classifier__max_depth=3, classifier__n_estimators=200; total time=  11.9s\n"
     ]
    },
    {
     "name": "stderr",
     "output_type": "stream",
     "text": [
      "/Users/alexandre/miniconda3/envs/datalab_env/lib/python3.13/site-packages/xgboost/core.py:158: UserWarning: [21:08:34] WARNING: /Users/runner/work/xgboost/xgboost/src/context.cc:196: XGBoost is not compiled with CUDA support.\n",
      "  warnings.warn(smsg, UserWarning)\n"
     ]
    },
    {
     "name": "stdout",
     "output_type": "stream",
     "text": [
      "[CV] END classifier__learning_rate=0.01, classifier__max_depth=3, classifier__n_estimators=200; total time=  11.8s\n"
     ]
    },
    {
     "name": "stderr",
     "output_type": "stream",
     "text": [
      "/Users/alexandre/miniconda3/envs/datalab_env/lib/python3.13/site-packages/xgboost/core.py:158: UserWarning: [21:08:46] WARNING: /Users/runner/work/xgboost/xgboost/src/context.cc:196: XGBoost is not compiled with CUDA support.\n",
      "  warnings.warn(smsg, UserWarning)\n"
     ]
    },
    {
     "name": "stdout",
     "output_type": "stream",
     "text": [
      "[CV] END classifier__learning_rate=0.01, classifier__max_depth=3, classifier__n_estimators=200; total time=  11.8s\n"
     ]
    },
    {
     "name": "stderr",
     "output_type": "stream",
     "text": [
      "/Users/alexandre/miniconda3/envs/datalab_env/lib/python3.13/site-packages/xgboost/core.py:158: UserWarning: [21:08:58] WARNING: /Users/runner/work/xgboost/xgboost/src/context.cc:196: XGBoost is not compiled with CUDA support.\n",
      "  warnings.warn(smsg, UserWarning)\n"
     ]
    },
    {
     "name": "stdout",
     "output_type": "stream",
     "text": [
      "[CV] END classifier__learning_rate=0.01, classifier__max_depth=3, classifier__n_estimators=200; total time=  12.0s\n"
     ]
    },
    {
     "name": "stderr",
     "output_type": "stream",
     "text": [
      "/Users/alexandre/miniconda3/envs/datalab_env/lib/python3.13/site-packages/xgboost/core.py:158: UserWarning: [21:09:10] WARNING: /Users/runner/work/xgboost/xgboost/src/context.cc:196: XGBoost is not compiled with CUDA support.\n",
      "  warnings.warn(smsg, UserWarning)\n"
     ]
    },
    {
     "name": "stdout",
     "output_type": "stream",
     "text": [
      "[CV] END classifier__learning_rate=0.01, classifier__max_depth=5, classifier__n_estimators=50; total time=  10.4s\n"
     ]
    },
    {
     "name": "stderr",
     "output_type": "stream",
     "text": [
      "/Users/alexandre/miniconda3/envs/datalab_env/lib/python3.13/site-packages/xgboost/core.py:158: UserWarning: [21:09:20] WARNING: /Users/runner/work/xgboost/xgboost/src/context.cc:196: XGBoost is not compiled with CUDA support.\n",
      "  warnings.warn(smsg, UserWarning)\n"
     ]
    },
    {
     "name": "stdout",
     "output_type": "stream",
     "text": [
      "[CV] END classifier__learning_rate=0.01, classifier__max_depth=5, classifier__n_estimators=50; total time=   9.8s\n"
     ]
    },
    {
     "name": "stderr",
     "output_type": "stream",
     "text": [
      "/Users/alexandre/miniconda3/envs/datalab_env/lib/python3.13/site-packages/xgboost/core.py:158: UserWarning: [21:09:30] WARNING: /Users/runner/work/xgboost/xgboost/src/context.cc:196: XGBoost is not compiled with CUDA support.\n",
      "  warnings.warn(smsg, UserWarning)\n"
     ]
    },
    {
     "name": "stdout",
     "output_type": "stream",
     "text": [
      "[CV] END classifier__learning_rate=0.01, classifier__max_depth=5, classifier__n_estimators=50; total time=   9.8s\n"
     ]
    },
    {
     "name": "stderr",
     "output_type": "stream",
     "text": [
      "/Users/alexandre/miniconda3/envs/datalab_env/lib/python3.13/site-packages/xgboost/core.py:158: UserWarning: [21:09:40] WARNING: /Users/runner/work/xgboost/xgboost/src/context.cc:196: XGBoost is not compiled with CUDA support.\n",
      "  warnings.warn(smsg, UserWarning)\n"
     ]
    },
    {
     "name": "stdout",
     "output_type": "stream",
     "text": [
      "[CV] END classifier__learning_rate=0.01, classifier__max_depth=5, classifier__n_estimators=50; total time=   9.9s\n"
     ]
    },
    {
     "name": "stderr",
     "output_type": "stream",
     "text": [
      "/Users/alexandre/miniconda3/envs/datalab_env/lib/python3.13/site-packages/xgboost/core.py:158: UserWarning: [21:09:50] WARNING: /Users/runner/work/xgboost/xgboost/src/context.cc:196: XGBoost is not compiled with CUDA support.\n",
      "  warnings.warn(smsg, UserWarning)\n"
     ]
    },
    {
     "name": "stdout",
     "output_type": "stream",
     "text": [
      "[CV] END classifier__learning_rate=0.01, classifier__max_depth=5, classifier__n_estimators=50; total time=  10.2s\n"
     ]
    },
    {
     "name": "stderr",
     "output_type": "stream",
     "text": [
      "/Users/alexandre/miniconda3/envs/datalab_env/lib/python3.13/site-packages/xgboost/core.py:158: UserWarning: [21:10:00] WARNING: /Users/runner/work/xgboost/xgboost/src/context.cc:196: XGBoost is not compiled with CUDA support.\n",
      "  warnings.warn(smsg, UserWarning)\n"
     ]
    },
    {
     "name": "stdout",
     "output_type": "stream",
     "text": [
      "[CV] END classifier__learning_rate=0.01, classifier__max_depth=5, classifier__n_estimators=100; total time=  14.8s\n"
     ]
    },
    {
     "name": "stderr",
     "output_type": "stream",
     "text": [
      "/Users/alexandre/miniconda3/envs/datalab_env/lib/python3.13/site-packages/xgboost/core.py:158: UserWarning: [21:10:15] WARNING: /Users/runner/work/xgboost/xgboost/src/context.cc:196: XGBoost is not compiled with CUDA support.\n",
      "  warnings.warn(smsg, UserWarning)\n"
     ]
    },
    {
     "name": "stdout",
     "output_type": "stream",
     "text": [
      "[CV] END classifier__learning_rate=0.01, classifier__max_depth=5, classifier__n_estimators=100; total time=  13.9s\n"
     ]
    },
    {
     "name": "stderr",
     "output_type": "stream",
     "text": [
      "/Users/alexandre/miniconda3/envs/datalab_env/lib/python3.13/site-packages/xgboost/core.py:158: UserWarning: [21:10:29] WARNING: /Users/runner/work/xgboost/xgboost/src/context.cc:196: XGBoost is not compiled with CUDA support.\n",
      "  warnings.warn(smsg, UserWarning)\n"
     ]
    },
    {
     "name": "stdout",
     "output_type": "stream",
     "text": [
      "[CV] END classifier__learning_rate=0.01, classifier__max_depth=5, classifier__n_estimators=100; total time=  14.1s\n"
     ]
    },
    {
     "name": "stderr",
     "output_type": "stream",
     "text": [
      "/Users/alexandre/miniconda3/envs/datalab_env/lib/python3.13/site-packages/xgboost/core.py:158: UserWarning: [21:10:43] WARNING: /Users/runner/work/xgboost/xgboost/src/context.cc:196: XGBoost is not compiled with CUDA support.\n",
      "  warnings.warn(smsg, UserWarning)\n"
     ]
    },
    {
     "name": "stdout",
     "output_type": "stream",
     "text": [
      "[CV] END classifier__learning_rate=0.01, classifier__max_depth=5, classifier__n_estimators=100; total time=  14.2s\n"
     ]
    },
    {
     "name": "stderr",
     "output_type": "stream",
     "text": [
      "/Users/alexandre/miniconda3/envs/datalab_env/lib/python3.13/site-packages/xgboost/core.py:158: UserWarning: [21:10:57] WARNING: /Users/runner/work/xgboost/xgboost/src/context.cc:196: XGBoost is not compiled with CUDA support.\n",
      "  warnings.warn(smsg, UserWarning)\n"
     ]
    },
    {
     "name": "stdout",
     "output_type": "stream",
     "text": [
      "[CV] END classifier__learning_rate=0.01, classifier__max_depth=5, classifier__n_estimators=100; total time=  14.3s\n"
     ]
    },
    {
     "name": "stderr",
     "output_type": "stream",
     "text": [
      "/Users/alexandre/miniconda3/envs/datalab_env/lib/python3.13/site-packages/xgboost/core.py:158: UserWarning: [21:11:12] WARNING: /Users/runner/work/xgboost/xgboost/src/context.cc:196: XGBoost is not compiled with CUDA support.\n",
      "  warnings.warn(smsg, UserWarning)\n"
     ]
    },
    {
     "name": "stdout",
     "output_type": "stream",
     "text": [
      "[CV] END classifier__learning_rate=0.01, classifier__max_depth=5, classifier__n_estimators=200; total time=  22.8s\n"
     ]
    },
    {
     "name": "stderr",
     "output_type": "stream",
     "text": [
      "/Users/alexandre/miniconda3/envs/datalab_env/lib/python3.13/site-packages/xgboost/core.py:158: UserWarning: [21:11:34] WARNING: /Users/runner/work/xgboost/xgboost/src/context.cc:196: XGBoost is not compiled with CUDA support.\n",
      "  warnings.warn(smsg, UserWarning)\n"
     ]
    },
    {
     "name": "stdout",
     "output_type": "stream",
     "text": [
      "[CV] END classifier__learning_rate=0.01, classifier__max_depth=5, classifier__n_estimators=200; total time=  24.1s\n"
     ]
    },
    {
     "name": "stderr",
     "output_type": "stream",
     "text": [
      "/Users/alexandre/miniconda3/envs/datalab_env/lib/python3.13/site-packages/xgboost/core.py:158: UserWarning: [21:11:59] WARNING: /Users/runner/work/xgboost/xgboost/src/context.cc:196: XGBoost is not compiled with CUDA support.\n",
      "  warnings.warn(smsg, UserWarning)\n"
     ]
    },
    {
     "name": "stdout",
     "output_type": "stream",
     "text": [
      "[CV] END classifier__learning_rate=0.01, classifier__max_depth=5, classifier__n_estimators=200; total time=  22.6s\n"
     ]
    },
    {
     "name": "stderr",
     "output_type": "stream",
     "text": [
      "/Users/alexandre/miniconda3/envs/datalab_env/lib/python3.13/site-packages/xgboost/core.py:158: UserWarning: [21:12:21] WARNING: /Users/runner/work/xgboost/xgboost/src/context.cc:196: XGBoost is not compiled with CUDA support.\n",
      "  warnings.warn(smsg, UserWarning)\n"
     ]
    },
    {
     "name": "stdout",
     "output_type": "stream",
     "text": [
      "[CV] END classifier__learning_rate=0.01, classifier__max_depth=5, classifier__n_estimators=200; total time=  22.8s\n"
     ]
    },
    {
     "name": "stderr",
     "output_type": "stream",
     "text": [
      "/Users/alexandre/miniconda3/envs/datalab_env/lib/python3.13/site-packages/xgboost/core.py:158: UserWarning: [21:12:44] WARNING: /Users/runner/work/xgboost/xgboost/src/context.cc:196: XGBoost is not compiled with CUDA support.\n",
      "  warnings.warn(smsg, UserWarning)\n"
     ]
    },
    {
     "name": "stdout",
     "output_type": "stream",
     "text": [
      "[CV] END classifier__learning_rate=0.01, classifier__max_depth=5, classifier__n_estimators=200; total time=  23.3s\n"
     ]
    },
    {
     "name": "stderr",
     "output_type": "stream",
     "text": [
      "/Users/alexandre/miniconda3/envs/datalab_env/lib/python3.13/site-packages/xgboost/core.py:158: UserWarning: [21:13:07] WARNING: /Users/runner/work/xgboost/xgboost/src/context.cc:196: XGBoost is not compiled with CUDA support.\n",
      "  warnings.warn(smsg, UserWarning)\n"
     ]
    },
    {
     "name": "stdout",
     "output_type": "stream",
     "text": [
      "[CV] END classifier__learning_rate=0.01, classifier__max_depth=7, classifier__n_estimators=50; total time=  17.4s\n"
     ]
    },
    {
     "name": "stderr",
     "output_type": "stream",
     "text": [
      "/Users/alexandre/miniconda3/envs/datalab_env/lib/python3.13/site-packages/xgboost/core.py:158: UserWarning: [21:13:25] WARNING: /Users/runner/work/xgboost/xgboost/src/context.cc:196: XGBoost is not compiled with CUDA support.\n",
      "  warnings.warn(smsg, UserWarning)\n"
     ]
    },
    {
     "name": "stdout",
     "output_type": "stream",
     "text": [
      "[CV] END classifier__learning_rate=0.01, classifier__max_depth=7, classifier__n_estimators=50; total time=  16.4s\n"
     ]
    },
    {
     "name": "stderr",
     "output_type": "stream",
     "text": [
      "/Users/alexandre/miniconda3/envs/datalab_env/lib/python3.13/site-packages/xgboost/core.py:158: UserWarning: [21:13:41] WARNING: /Users/runner/work/xgboost/xgboost/src/context.cc:196: XGBoost is not compiled with CUDA support.\n",
      "  warnings.warn(smsg, UserWarning)\n"
     ]
    },
    {
     "name": "stdout",
     "output_type": "stream",
     "text": [
      "[CV] END classifier__learning_rate=0.01, classifier__max_depth=7, classifier__n_estimators=50; total time=  16.1s\n"
     ]
    },
    {
     "name": "stderr",
     "output_type": "stream",
     "text": [
      "/Users/alexandre/miniconda3/envs/datalab_env/lib/python3.13/site-packages/xgboost/core.py:158: UserWarning: [21:13:57] WARNING: /Users/runner/work/xgboost/xgboost/src/context.cc:196: XGBoost is not compiled with CUDA support.\n",
      "  warnings.warn(smsg, UserWarning)\n"
     ]
    },
    {
     "name": "stdout",
     "output_type": "stream",
     "text": [
      "[CV] END classifier__learning_rate=0.01, classifier__max_depth=7, classifier__n_estimators=50; total time=  15.2s\n"
     ]
    },
    {
     "name": "stderr",
     "output_type": "stream",
     "text": [
      "/Users/alexandre/miniconda3/envs/datalab_env/lib/python3.13/site-packages/xgboost/core.py:158: UserWarning: [21:14:12] WARNING: /Users/runner/work/xgboost/xgboost/src/context.cc:196: XGBoost is not compiled with CUDA support.\n",
      "  warnings.warn(smsg, UserWarning)\n"
     ]
    },
    {
     "name": "stdout",
     "output_type": "stream",
     "text": [
      "[CV] END classifier__learning_rate=0.01, classifier__max_depth=7, classifier__n_estimators=50; total time=  16.1s\n"
     ]
    },
    {
     "name": "stderr",
     "output_type": "stream",
     "text": [
      "/Users/alexandre/miniconda3/envs/datalab_env/lib/python3.13/site-packages/xgboost/core.py:158: UserWarning: [21:14:28] WARNING: /Users/runner/work/xgboost/xgboost/src/context.cc:196: XGBoost is not compiled with CUDA support.\n",
      "  warnings.warn(smsg, UserWarning)\n"
     ]
    },
    {
     "name": "stdout",
     "output_type": "stream",
     "text": [
      "[CV] END classifier__learning_rate=0.01, classifier__max_depth=7, classifier__n_estimators=100; total time=  25.5s\n"
     ]
    },
    {
     "name": "stderr",
     "output_type": "stream",
     "text": [
      "/Users/alexandre/miniconda3/envs/datalab_env/lib/python3.13/site-packages/xgboost/core.py:158: UserWarning: [21:14:54] WARNING: /Users/runner/work/xgboost/xgboost/src/context.cc:196: XGBoost is not compiled with CUDA support.\n",
      "  warnings.warn(smsg, UserWarning)\n"
     ]
    },
    {
     "name": "stdout",
     "output_type": "stream",
     "text": [
      "[CV] END classifier__learning_rate=0.01, classifier__max_depth=7, classifier__n_estimators=100; total time=  25.8s\n"
     ]
    },
    {
     "name": "stderr",
     "output_type": "stream",
     "text": [
      "/Users/alexandre/miniconda3/envs/datalab_env/lib/python3.13/site-packages/xgboost/core.py:158: UserWarning: [21:15:20] WARNING: /Users/runner/work/xgboost/xgboost/src/context.cc:196: XGBoost is not compiled with CUDA support.\n",
      "  warnings.warn(smsg, UserWarning)\n"
     ]
    },
    {
     "name": "stdout",
     "output_type": "stream",
     "text": [
      "[CV] END classifier__learning_rate=0.01, classifier__max_depth=7, classifier__n_estimators=100; total time=  25.3s\n"
     ]
    },
    {
     "name": "stderr",
     "output_type": "stream",
     "text": [
      "/Users/alexandre/miniconda3/envs/datalab_env/lib/python3.13/site-packages/xgboost/core.py:158: UserWarning: [21:15:45] WARNING: /Users/runner/work/xgboost/xgboost/src/context.cc:196: XGBoost is not compiled with CUDA support.\n",
      "  warnings.warn(smsg, UserWarning)\n"
     ]
    },
    {
     "name": "stdout",
     "output_type": "stream",
     "text": [
      "[CV] END classifier__learning_rate=0.01, classifier__max_depth=7, classifier__n_estimators=100; total time=  24.3s\n"
     ]
    },
    {
     "name": "stderr",
     "output_type": "stream",
     "text": [
      "/Users/alexandre/miniconda3/envs/datalab_env/lib/python3.13/site-packages/xgboost/core.py:158: UserWarning: [21:16:09] WARNING: /Users/runner/work/xgboost/xgboost/src/context.cc:196: XGBoost is not compiled with CUDA support.\n",
      "  warnings.warn(smsg, UserWarning)\n"
     ]
    },
    {
     "name": "stdout",
     "output_type": "stream",
     "text": [
      "[CV] END classifier__learning_rate=0.01, classifier__max_depth=7, classifier__n_estimators=100; total time=  25.8s\n"
     ]
    },
    {
     "name": "stderr",
     "output_type": "stream",
     "text": [
      "/Users/alexandre/miniconda3/envs/datalab_env/lib/python3.13/site-packages/xgboost/core.py:158: UserWarning: [21:16:35] WARNING: /Users/runner/work/xgboost/xgboost/src/context.cc:196: XGBoost is not compiled with CUDA support.\n",
      "  warnings.warn(smsg, UserWarning)\n"
     ]
    },
    {
     "name": "stdout",
     "output_type": "stream",
     "text": [
      "[CV] END classifier__learning_rate=0.01, classifier__max_depth=7, classifier__n_estimators=200; total time=  45.0s\n"
     ]
    },
    {
     "name": "stderr",
     "output_type": "stream",
     "text": [
      "/Users/alexandre/miniconda3/envs/datalab_env/lib/python3.13/site-packages/xgboost/core.py:158: UserWarning: [21:17:20] WARNING: /Users/runner/work/xgboost/xgboost/src/context.cc:196: XGBoost is not compiled with CUDA support.\n",
      "  warnings.warn(smsg, UserWarning)\n"
     ]
    },
    {
     "name": "stdout",
     "output_type": "stream",
     "text": [
      "[CV] END classifier__learning_rate=0.01, classifier__max_depth=7, classifier__n_estimators=200; total time=  46.2s\n"
     ]
    },
    {
     "name": "stderr",
     "output_type": "stream",
     "text": [
      "/Users/alexandre/miniconda3/envs/datalab_env/lib/python3.13/site-packages/xgboost/core.py:158: UserWarning: [21:18:06] WARNING: /Users/runner/work/xgboost/xgboost/src/context.cc:196: XGBoost is not compiled with CUDA support.\n",
      "  warnings.warn(smsg, UserWarning)\n"
     ]
    },
    {
     "name": "stdout",
     "output_type": "stream",
     "text": [
      "[CV] END classifier__learning_rate=0.01, classifier__max_depth=7, classifier__n_estimators=200; total time=  43.7s\n"
     ]
    },
    {
     "name": "stderr",
     "output_type": "stream",
     "text": [
      "/Users/alexandre/miniconda3/envs/datalab_env/lib/python3.13/site-packages/xgboost/core.py:158: UserWarning: [21:18:50] WARNING: /Users/runner/work/xgboost/xgboost/src/context.cc:196: XGBoost is not compiled with CUDA support.\n",
      "  warnings.warn(smsg, UserWarning)\n"
     ]
    },
    {
     "name": "stdout",
     "output_type": "stream",
     "text": [
      "[CV] END classifier__learning_rate=0.01, classifier__max_depth=7, classifier__n_estimators=200; total time= 1.6min\n"
     ]
    },
    {
     "name": "stderr",
     "output_type": "stream",
     "text": [
      "/Users/alexandre/miniconda3/envs/datalab_env/lib/python3.13/site-packages/xgboost/core.py:158: UserWarning: [21:20:25] WARNING: /Users/runner/work/xgboost/xgboost/src/context.cc:196: XGBoost is not compiled with CUDA support.\n",
      "  warnings.warn(smsg, UserWarning)\n"
     ]
    },
    {
     "name": "stdout",
     "output_type": "stream",
     "text": [
      "[CV] END classifier__learning_rate=0.01, classifier__max_depth=7, classifier__n_estimators=200; total time=  44.5s\n"
     ]
    },
    {
     "name": "stderr",
     "output_type": "stream",
     "text": [
      "/Users/alexandre/miniconda3/envs/datalab_env/lib/python3.13/site-packages/xgboost/core.py:158: UserWarning: [21:21:10] WARNING: /Users/runner/work/xgboost/xgboost/src/context.cc:196: XGBoost is not compiled with CUDA support.\n",
      "  warnings.warn(smsg, UserWarning)\n"
     ]
    },
    {
     "name": "stdout",
     "output_type": "stream",
     "text": [
      "[CV] END classifier__learning_rate=0.1, classifier__max_depth=3, classifier__n_estimators=50; total time=   8.1s\n"
     ]
    },
    {
     "name": "stderr",
     "output_type": "stream",
     "text": [
      "/Users/alexandre/miniconda3/envs/datalab_env/lib/python3.13/site-packages/xgboost/core.py:158: UserWarning: [21:21:18] WARNING: /Users/runner/work/xgboost/xgboost/src/context.cc:196: XGBoost is not compiled with CUDA support.\n",
      "  warnings.warn(smsg, UserWarning)\n"
     ]
    },
    {
     "name": "stdout",
     "output_type": "stream",
     "text": [
      "[CV] END classifier__learning_rate=0.1, classifier__max_depth=3, classifier__n_estimators=50; total time=   8.1s\n"
     ]
    },
    {
     "name": "stderr",
     "output_type": "stream",
     "text": [
      "/Users/alexandre/miniconda3/envs/datalab_env/lib/python3.13/site-packages/xgboost/core.py:158: UserWarning: [21:21:26] WARNING: /Users/runner/work/xgboost/xgboost/src/context.cc:196: XGBoost is not compiled with CUDA support.\n",
      "  warnings.warn(smsg, UserWarning)\n"
     ]
    },
    {
     "name": "stdout",
     "output_type": "stream",
     "text": [
      "[CV] END classifier__learning_rate=0.1, classifier__max_depth=3, classifier__n_estimators=50; total time=   8.0s\n"
     ]
    },
    {
     "name": "stderr",
     "output_type": "stream",
     "text": [
      "/Users/alexandre/miniconda3/envs/datalab_env/lib/python3.13/site-packages/xgboost/core.py:158: UserWarning: [21:21:35] WARNING: /Users/runner/work/xgboost/xgboost/src/context.cc:196: XGBoost is not compiled with CUDA support.\n",
      "  warnings.warn(smsg, UserWarning)\n"
     ]
    },
    {
     "name": "stdout",
     "output_type": "stream",
     "text": [
      "[CV] END classifier__learning_rate=0.1, classifier__max_depth=3, classifier__n_estimators=50; total time=   8.6s\n"
     ]
    },
    {
     "name": "stderr",
     "output_type": "stream",
     "text": [
      "/Users/alexandre/miniconda3/envs/datalab_env/lib/python3.13/site-packages/xgboost/core.py:158: UserWarning: [21:21:43] WARNING: /Users/runner/work/xgboost/xgboost/src/context.cc:196: XGBoost is not compiled with CUDA support.\n",
      "  warnings.warn(smsg, UserWarning)\n"
     ]
    },
    {
     "name": "stdout",
     "output_type": "stream",
     "text": [
      "[CV] END classifier__learning_rate=0.1, classifier__max_depth=3, classifier__n_estimators=50; total time=   8.2s\n"
     ]
    },
    {
     "name": "stderr",
     "output_type": "stream",
     "text": [
      "/Users/alexandre/miniconda3/envs/datalab_env/lib/python3.13/site-packages/xgboost/core.py:158: UserWarning: [21:21:51] WARNING: /Users/runner/work/xgboost/xgboost/src/context.cc:196: XGBoost is not compiled with CUDA support.\n",
      "  warnings.warn(smsg, UserWarning)\n"
     ]
    },
    {
     "name": "stdout",
     "output_type": "stream",
     "text": [
      "[CV] END classifier__learning_rate=0.1, classifier__max_depth=3, classifier__n_estimators=100; total time=   9.4s\n"
     ]
    },
    {
     "name": "stderr",
     "output_type": "stream",
     "text": [
      "/Users/alexandre/miniconda3/envs/datalab_env/lib/python3.13/site-packages/xgboost/core.py:158: UserWarning: [21:22:01] WARNING: /Users/runner/work/xgboost/xgboost/src/context.cc:196: XGBoost is not compiled with CUDA support.\n",
      "  warnings.warn(smsg, UserWarning)\n"
     ]
    },
    {
     "name": "stdout",
     "output_type": "stream",
     "text": [
      "[CV] END classifier__learning_rate=0.1, classifier__max_depth=3, classifier__n_estimators=100; total time=   9.8s\n"
     ]
    },
    {
     "name": "stderr",
     "output_type": "stream",
     "text": [
      "/Users/alexandre/miniconda3/envs/datalab_env/lib/python3.13/site-packages/xgboost/core.py:158: UserWarning: [21:22:10] WARNING: /Users/runner/work/xgboost/xgboost/src/context.cc:196: XGBoost is not compiled with CUDA support.\n",
      "  warnings.warn(smsg, UserWarning)\n"
     ]
    },
    {
     "name": "stdout",
     "output_type": "stream",
     "text": [
      "[CV] END classifier__learning_rate=0.1, classifier__max_depth=3, classifier__n_estimators=100; total time=   9.6s\n"
     ]
    },
    {
     "name": "stderr",
     "output_type": "stream",
     "text": [
      "/Users/alexandre/miniconda3/envs/datalab_env/lib/python3.13/site-packages/xgboost/core.py:158: UserWarning: [21:22:20] WARNING: /Users/runner/work/xgboost/xgboost/src/context.cc:196: XGBoost is not compiled with CUDA support.\n",
      "  warnings.warn(smsg, UserWarning)\n"
     ]
    },
    {
     "name": "stdout",
     "output_type": "stream",
     "text": [
      "[CV] END classifier__learning_rate=0.1, classifier__max_depth=3, classifier__n_estimators=100; total time=   9.6s\n"
     ]
    },
    {
     "name": "stderr",
     "output_type": "stream",
     "text": [
      "/Users/alexandre/miniconda3/envs/datalab_env/lib/python3.13/site-packages/xgboost/core.py:158: UserWarning: [21:22:30] WARNING: /Users/runner/work/xgboost/xgboost/src/context.cc:196: XGBoost is not compiled with CUDA support.\n",
      "  warnings.warn(smsg, UserWarning)\n"
     ]
    },
    {
     "name": "stdout",
     "output_type": "stream",
     "text": [
      "[CV] END classifier__learning_rate=0.1, classifier__max_depth=3, classifier__n_estimators=100; total time=   9.0s\n"
     ]
    },
    {
     "name": "stderr",
     "output_type": "stream",
     "text": [
      "/Users/alexandre/miniconda3/envs/datalab_env/lib/python3.13/site-packages/xgboost/core.py:158: UserWarning: [21:22:39] WARNING: /Users/runner/work/xgboost/xgboost/src/context.cc:196: XGBoost is not compiled with CUDA support.\n",
      "  warnings.warn(smsg, UserWarning)\n"
     ]
    },
    {
     "name": "stdout",
     "output_type": "stream",
     "text": [
      "[CV] END classifier__learning_rate=0.1, classifier__max_depth=3, classifier__n_estimators=200; total time=  12.1s\n"
     ]
    },
    {
     "name": "stderr",
     "output_type": "stream",
     "text": [
      "/Users/alexandre/miniconda3/envs/datalab_env/lib/python3.13/site-packages/xgboost/core.py:158: UserWarning: [21:22:51] WARNING: /Users/runner/work/xgboost/xgboost/src/context.cc:196: XGBoost is not compiled with CUDA support.\n",
      "  warnings.warn(smsg, UserWarning)\n"
     ]
    },
    {
     "name": "stdout",
     "output_type": "stream",
     "text": [
      "[CV] END classifier__learning_rate=0.1, classifier__max_depth=3, classifier__n_estimators=200; total time=  11.9s\n"
     ]
    },
    {
     "name": "stderr",
     "output_type": "stream",
     "text": [
      "/Users/alexandre/miniconda3/envs/datalab_env/lib/python3.13/site-packages/xgboost/core.py:158: UserWarning: [21:23:03] WARNING: /Users/runner/work/xgboost/xgboost/src/context.cc:196: XGBoost is not compiled with CUDA support.\n",
      "  warnings.warn(smsg, UserWarning)\n"
     ]
    },
    {
     "name": "stdout",
     "output_type": "stream",
     "text": [
      "[CV] END classifier__learning_rate=0.1, classifier__max_depth=3, classifier__n_estimators=200; total time=  12.2s\n"
     ]
    },
    {
     "name": "stderr",
     "output_type": "stream",
     "text": [
      "/Users/alexandre/miniconda3/envs/datalab_env/lib/python3.13/site-packages/xgboost/core.py:158: UserWarning: [21:23:15] WARNING: /Users/runner/work/xgboost/xgboost/src/context.cc:196: XGBoost is not compiled with CUDA support.\n",
      "  warnings.warn(smsg, UserWarning)\n"
     ]
    },
    {
     "name": "stdout",
     "output_type": "stream",
     "text": [
      "[CV] END classifier__learning_rate=0.1, classifier__max_depth=3, classifier__n_estimators=200; total time=  12.0s\n"
     ]
    },
    {
     "name": "stderr",
     "output_type": "stream",
     "text": [
      "/Users/alexandre/miniconda3/envs/datalab_env/lib/python3.13/site-packages/xgboost/core.py:158: UserWarning: [21:23:27] WARNING: /Users/runner/work/xgboost/xgboost/src/context.cc:196: XGBoost is not compiled with CUDA support.\n",
      "  warnings.warn(smsg, UserWarning)\n"
     ]
    },
    {
     "name": "stdout",
     "output_type": "stream",
     "text": [
      "[CV] END classifier__learning_rate=0.1, classifier__max_depth=3, classifier__n_estimators=200; total time=  11.7s\n"
     ]
    },
    {
     "name": "stderr",
     "output_type": "stream",
     "text": [
      "/Users/alexandre/miniconda3/envs/datalab_env/lib/python3.13/site-packages/xgboost/core.py:158: UserWarning: [21:23:39] WARNING: /Users/runner/work/xgboost/xgboost/src/context.cc:196: XGBoost is not compiled with CUDA support.\n",
      "  warnings.warn(smsg, UserWarning)\n"
     ]
    },
    {
     "name": "stdout",
     "output_type": "stream",
     "text": [
      "[CV] END classifier__learning_rate=0.1, classifier__max_depth=5, classifier__n_estimators=50; total time=  10.8s\n"
     ]
    },
    {
     "name": "stderr",
     "output_type": "stream",
     "text": [
      "/Users/alexandre/miniconda3/envs/datalab_env/lib/python3.13/site-packages/xgboost/core.py:158: UserWarning: [21:23:49] WARNING: /Users/runner/work/xgboost/xgboost/src/context.cc:196: XGBoost is not compiled with CUDA support.\n",
      "  warnings.warn(smsg, UserWarning)\n"
     ]
    },
    {
     "name": "stdout",
     "output_type": "stream",
     "text": [
      "[CV] END classifier__learning_rate=0.1, classifier__max_depth=5, classifier__n_estimators=50; total time=  10.2s\n"
     ]
    },
    {
     "name": "stderr",
     "output_type": "stream",
     "text": [
      "/Users/alexandre/miniconda3/envs/datalab_env/lib/python3.13/site-packages/xgboost/core.py:158: UserWarning: [21:24:00] WARNING: /Users/runner/work/xgboost/xgboost/src/context.cc:196: XGBoost is not compiled with CUDA support.\n",
      "  warnings.warn(smsg, UserWarning)\n"
     ]
    },
    {
     "name": "stdout",
     "output_type": "stream",
     "text": [
      "[CV] END classifier__learning_rate=0.1, classifier__max_depth=5, classifier__n_estimators=50; total time=  10.6s\n"
     ]
    },
    {
     "name": "stderr",
     "output_type": "stream",
     "text": [
      "/Users/alexandre/miniconda3/envs/datalab_env/lib/python3.13/site-packages/xgboost/core.py:158: UserWarning: [21:24:10] WARNING: /Users/runner/work/xgboost/xgboost/src/context.cc:196: XGBoost is not compiled with CUDA support.\n",
      "  warnings.warn(smsg, UserWarning)\n"
     ]
    },
    {
     "name": "stdout",
     "output_type": "stream",
     "text": [
      "[CV] END classifier__learning_rate=0.1, classifier__max_depth=5, classifier__n_estimators=50; total time=  10.0s\n"
     ]
    },
    {
     "name": "stderr",
     "output_type": "stream",
     "text": [
      "/Users/alexandre/miniconda3/envs/datalab_env/lib/python3.13/site-packages/xgboost/core.py:158: UserWarning: [21:24:20] WARNING: /Users/runner/work/xgboost/xgboost/src/context.cc:196: XGBoost is not compiled with CUDA support.\n",
      "  warnings.warn(smsg, UserWarning)\n"
     ]
    },
    {
     "name": "stdout",
     "output_type": "stream",
     "text": [
      "[CV] END classifier__learning_rate=0.1, classifier__max_depth=5, classifier__n_estimators=50; total time=  10.4s\n"
     ]
    },
    {
     "name": "stderr",
     "output_type": "stream",
     "text": [
      "/Users/alexandre/miniconda3/envs/datalab_env/lib/python3.13/site-packages/xgboost/core.py:158: UserWarning: [21:24:31] WARNING: /Users/runner/work/xgboost/xgboost/src/context.cc:196: XGBoost is not compiled with CUDA support.\n",
      "  warnings.warn(smsg, UserWarning)\n"
     ]
    },
    {
     "name": "stdout",
     "output_type": "stream",
     "text": [
      "[CV] END classifier__learning_rate=0.1, classifier__max_depth=5, classifier__n_estimators=100; total time=  13.2s\n"
     ]
    },
    {
     "name": "stderr",
     "output_type": "stream",
     "text": [
      "/Users/alexandre/miniconda3/envs/datalab_env/lib/python3.13/site-packages/xgboost/core.py:158: UserWarning: [21:24:44] WARNING: /Users/runner/work/xgboost/xgboost/src/context.cc:196: XGBoost is not compiled with CUDA support.\n",
      "  warnings.warn(smsg, UserWarning)\n"
     ]
    },
    {
     "name": "stdout",
     "output_type": "stream",
     "text": [
      "[CV] END classifier__learning_rate=0.1, classifier__max_depth=5, classifier__n_estimators=100; total time=  13.7s\n"
     ]
    },
    {
     "name": "stderr",
     "output_type": "stream",
     "text": [
      "/Users/alexandre/miniconda3/envs/datalab_env/lib/python3.13/site-packages/xgboost/core.py:158: UserWarning: [21:24:58] WARNING: /Users/runner/work/xgboost/xgboost/src/context.cc:196: XGBoost is not compiled with CUDA support.\n",
      "  warnings.warn(smsg, UserWarning)\n"
     ]
    },
    {
     "name": "stdout",
     "output_type": "stream",
     "text": [
      "[CV] END classifier__learning_rate=0.1, classifier__max_depth=5, classifier__n_estimators=100; total time=  13.6s\n"
     ]
    },
    {
     "name": "stderr",
     "output_type": "stream",
     "text": [
      "/Users/alexandre/miniconda3/envs/datalab_env/lib/python3.13/site-packages/xgboost/core.py:158: UserWarning: [21:25:11] WARNING: /Users/runner/work/xgboost/xgboost/src/context.cc:196: XGBoost is not compiled with CUDA support.\n",
      "  warnings.warn(smsg, UserWarning)\n"
     ]
    },
    {
     "name": "stdout",
     "output_type": "stream",
     "text": [
      "[CV] END classifier__learning_rate=0.1, classifier__max_depth=5, classifier__n_estimators=100; total time=  13.6s\n"
     ]
    },
    {
     "name": "stderr",
     "output_type": "stream",
     "text": [
      "/Users/alexandre/miniconda3/envs/datalab_env/lib/python3.13/site-packages/xgboost/core.py:158: UserWarning: [21:25:25] WARNING: /Users/runner/work/xgboost/xgboost/src/context.cc:196: XGBoost is not compiled with CUDA support.\n",
      "  warnings.warn(smsg, UserWarning)\n"
     ]
    },
    {
     "name": "stdout",
     "output_type": "stream",
     "text": [
      "[CV] END classifier__learning_rate=0.1, classifier__max_depth=5, classifier__n_estimators=100; total time=  13.9s\n"
     ]
    },
    {
     "name": "stderr",
     "output_type": "stream",
     "text": [
      "/Users/alexandre/miniconda3/envs/datalab_env/lib/python3.13/site-packages/xgboost/core.py:158: UserWarning: [21:25:39] WARNING: /Users/runner/work/xgboost/xgboost/src/context.cc:196: XGBoost is not compiled with CUDA support.\n",
      "  warnings.warn(smsg, UserWarning)\n"
     ]
    },
    {
     "name": "stdout",
     "output_type": "stream",
     "text": [
      "[CV] END classifier__learning_rate=0.1, classifier__max_depth=5, classifier__n_estimators=200; total time=  18.3s\n"
     ]
    },
    {
     "name": "stderr",
     "output_type": "stream",
     "text": [
      "/Users/alexandre/miniconda3/envs/datalab_env/lib/python3.13/site-packages/xgboost/core.py:158: UserWarning: [21:25:57] WARNING: /Users/runner/work/xgboost/xgboost/src/context.cc:196: XGBoost is not compiled with CUDA support.\n",
      "  warnings.warn(smsg, UserWarning)\n"
     ]
    },
    {
     "name": "stdout",
     "output_type": "stream",
     "text": [
      "[CV] END classifier__learning_rate=0.1, classifier__max_depth=5, classifier__n_estimators=200; total time=  18.6s\n"
     ]
    },
    {
     "name": "stderr",
     "output_type": "stream",
     "text": [
      "/Users/alexandre/miniconda3/envs/datalab_env/lib/python3.13/site-packages/xgboost/core.py:158: UserWarning: [21:26:16] WARNING: /Users/runner/work/xgboost/xgboost/src/context.cc:196: XGBoost is not compiled with CUDA support.\n",
      "  warnings.warn(smsg, UserWarning)\n"
     ]
    },
    {
     "name": "stdout",
     "output_type": "stream",
     "text": [
      "[CV] END classifier__learning_rate=0.1, classifier__max_depth=5, classifier__n_estimators=200; total time=  18.1s\n"
     ]
    },
    {
     "name": "stderr",
     "output_type": "stream",
     "text": [
      "/Users/alexandre/miniconda3/envs/datalab_env/lib/python3.13/site-packages/xgboost/core.py:158: UserWarning: [21:26:34] WARNING: /Users/runner/work/xgboost/xgboost/src/context.cc:196: XGBoost is not compiled with CUDA support.\n",
      "  warnings.warn(smsg, UserWarning)\n"
     ]
    },
    {
     "name": "stdout",
     "output_type": "stream",
     "text": [
      "[CV] END classifier__learning_rate=0.1, classifier__max_depth=5, classifier__n_estimators=200; total time=  18.3s\n"
     ]
    },
    {
     "name": "stderr",
     "output_type": "stream",
     "text": [
      "/Users/alexandre/miniconda3/envs/datalab_env/lib/python3.13/site-packages/xgboost/core.py:158: UserWarning: [21:26:53] WARNING: /Users/runner/work/xgboost/xgboost/src/context.cc:196: XGBoost is not compiled with CUDA support.\n",
      "  warnings.warn(smsg, UserWarning)\n"
     ]
    },
    {
     "name": "stdout",
     "output_type": "stream",
     "text": [
      "[CV] END classifier__learning_rate=0.1, classifier__max_depth=5, classifier__n_estimators=200; total time=  20.4s\n"
     ]
    },
    {
     "name": "stderr",
     "output_type": "stream",
     "text": [
      "/Users/alexandre/miniconda3/envs/datalab_env/lib/python3.13/site-packages/xgboost/core.py:158: UserWarning: [21:27:13] WARNING: /Users/runner/work/xgboost/xgboost/src/context.cc:196: XGBoost is not compiled with CUDA support.\n",
      "  warnings.warn(smsg, UserWarning)\n"
     ]
    },
    {
     "name": "stdout",
     "output_type": "stream",
     "text": [
      "[CV] END classifier__learning_rate=0.1, classifier__max_depth=7, classifier__n_estimators=50; total time=  16.6s\n"
     ]
    },
    {
     "name": "stderr",
     "output_type": "stream",
     "text": [
      "/Users/alexandre/miniconda3/envs/datalab_env/lib/python3.13/site-packages/xgboost/core.py:158: UserWarning: [21:27:29] WARNING: /Users/runner/work/xgboost/xgboost/src/context.cc:196: XGBoost is not compiled with CUDA support.\n",
      "  warnings.warn(smsg, UserWarning)\n"
     ]
    },
    {
     "name": "stdout",
     "output_type": "stream",
     "text": [
      "[CV] END classifier__learning_rate=0.1, classifier__max_depth=7, classifier__n_estimators=50; total time=  16.8s\n"
     ]
    },
    {
     "name": "stderr",
     "output_type": "stream",
     "text": [
      "/Users/alexandre/miniconda3/envs/datalab_env/lib/python3.13/site-packages/xgboost/core.py:158: UserWarning: [21:27:46] WARNING: /Users/runner/work/xgboost/xgboost/src/context.cc:196: XGBoost is not compiled with CUDA support.\n",
      "  warnings.warn(smsg, UserWarning)\n"
     ]
    },
    {
     "name": "stdout",
     "output_type": "stream",
     "text": [
      "[CV] END classifier__learning_rate=0.1, classifier__max_depth=7, classifier__n_estimators=50; total time=  16.5s\n"
     ]
    },
    {
     "name": "stderr",
     "output_type": "stream",
     "text": [
      "/Users/alexandre/miniconda3/envs/datalab_env/lib/python3.13/site-packages/xgboost/core.py:158: UserWarning: [21:28:03] WARNING: /Users/runner/work/xgboost/xgboost/src/context.cc:196: XGBoost is not compiled with CUDA support.\n",
      "  warnings.warn(smsg, UserWarning)\n"
     ]
    },
    {
     "name": "stdout",
     "output_type": "stream",
     "text": [
      "[CV] END classifier__learning_rate=0.1, classifier__max_depth=7, classifier__n_estimators=50; total time=  17.7s\n"
     ]
    },
    {
     "name": "stderr",
     "output_type": "stream",
     "text": [
      "/Users/alexandre/miniconda3/envs/datalab_env/lib/python3.13/site-packages/xgboost/core.py:158: UserWarning: [21:28:21] WARNING: /Users/runner/work/xgboost/xgboost/src/context.cc:196: XGBoost is not compiled with CUDA support.\n",
      "  warnings.warn(smsg, UserWarning)\n"
     ]
    },
    {
     "name": "stdout",
     "output_type": "stream",
     "text": [
      "[CV] END classifier__learning_rate=0.1, classifier__max_depth=7, classifier__n_estimators=50; total time=  19.0s\n"
     ]
    },
    {
     "name": "stderr",
     "output_type": "stream",
     "text": [
      "/Users/alexandre/miniconda3/envs/datalab_env/lib/python3.13/site-packages/xgboost/core.py:158: UserWarning: [21:28:39] WARNING: /Users/runner/work/xgboost/xgboost/src/context.cc:196: XGBoost is not compiled with CUDA support.\n",
      "  warnings.warn(smsg, UserWarning)\n"
     ]
    },
    {
     "name": "stdout",
     "output_type": "stream",
     "text": [
      "[CV] END classifier__learning_rate=0.1, classifier__max_depth=7, classifier__n_estimators=100; total time=  21.9s\n"
     ]
    },
    {
     "name": "stderr",
     "output_type": "stream",
     "text": [
      "/Users/alexandre/miniconda3/envs/datalab_env/lib/python3.13/site-packages/xgboost/core.py:158: UserWarning: [21:29:02] WARNING: /Users/runner/work/xgboost/xgboost/src/context.cc:196: XGBoost is not compiled with CUDA support.\n",
      "  warnings.warn(smsg, UserWarning)\n"
     ]
    },
    {
     "name": "stdout",
     "output_type": "stream",
     "text": [
      "[CV] END classifier__learning_rate=0.1, classifier__max_depth=7, classifier__n_estimators=100; total time=  23.2s\n"
     ]
    },
    {
     "name": "stderr",
     "output_type": "stream",
     "text": [
      "/Users/alexandre/miniconda3/envs/datalab_env/lib/python3.13/site-packages/xgboost/core.py:158: UserWarning: [21:29:25] WARNING: /Users/runner/work/xgboost/xgboost/src/context.cc:196: XGBoost is not compiled with CUDA support.\n",
      "  warnings.warn(smsg, UserWarning)\n"
     ]
    },
    {
     "name": "stdout",
     "output_type": "stream",
     "text": [
      "[CV] END classifier__learning_rate=0.1, classifier__max_depth=7, classifier__n_estimators=100; total time=  22.7s\n"
     ]
    },
    {
     "name": "stderr",
     "output_type": "stream",
     "text": [
      "/Users/alexandre/miniconda3/envs/datalab_env/lib/python3.13/site-packages/xgboost/core.py:158: UserWarning: [21:29:47] WARNING: /Users/runner/work/xgboost/xgboost/src/context.cc:196: XGBoost is not compiled with CUDA support.\n",
      "  warnings.warn(smsg, UserWarning)\n"
     ]
    },
    {
     "name": "stdout",
     "output_type": "stream",
     "text": [
      "[CV] END classifier__learning_rate=0.1, classifier__max_depth=7, classifier__n_estimators=100; total time=  22.0s\n"
     ]
    },
    {
     "name": "stderr",
     "output_type": "stream",
     "text": [
      "/Users/alexandre/miniconda3/envs/datalab_env/lib/python3.13/site-packages/xgboost/core.py:158: UserWarning: [21:30:09] WARNING: /Users/runner/work/xgboost/xgboost/src/context.cc:196: XGBoost is not compiled with CUDA support.\n",
      "  warnings.warn(smsg, UserWarning)\n"
     ]
    },
    {
     "name": "stdout",
     "output_type": "stream",
     "text": [
      "[CV] END classifier__learning_rate=0.1, classifier__max_depth=7, classifier__n_estimators=100; total time=  22.3s\n"
     ]
    },
    {
     "name": "stderr",
     "output_type": "stream",
     "text": [
      "/Users/alexandre/miniconda3/envs/datalab_env/lib/python3.13/site-packages/xgboost/core.py:158: UserWarning: [21:30:31] WARNING: /Users/runner/work/xgboost/xgboost/src/context.cc:196: XGBoost is not compiled with CUDA support.\n",
      "  warnings.warn(smsg, UserWarning)\n"
     ]
    },
    {
     "name": "stdout",
     "output_type": "stream",
     "text": [
      "[CV] END classifier__learning_rate=0.1, classifier__max_depth=7, classifier__n_estimators=200; total time=  30.2s\n"
     ]
    },
    {
     "name": "stderr",
     "output_type": "stream",
     "text": [
      "/Users/alexandre/miniconda3/envs/datalab_env/lib/python3.13/site-packages/xgboost/core.py:158: UserWarning: [21:31:02] WARNING: /Users/runner/work/xgboost/xgboost/src/context.cc:196: XGBoost is not compiled with CUDA support.\n",
      "  warnings.warn(smsg, UserWarning)\n"
     ]
    },
    {
     "name": "stdout",
     "output_type": "stream",
     "text": [
      "[CV] END classifier__learning_rate=0.1, classifier__max_depth=7, classifier__n_estimators=200; total time=  31.3s\n"
     ]
    },
    {
     "name": "stderr",
     "output_type": "stream",
     "text": [
      "/Users/alexandre/miniconda3/envs/datalab_env/lib/python3.13/site-packages/xgboost/core.py:158: UserWarning: [21:31:33] WARNING: /Users/runner/work/xgboost/xgboost/src/context.cc:196: XGBoost is not compiled with CUDA support.\n",
      "  warnings.warn(smsg, UserWarning)\n"
     ]
    },
    {
     "name": "stdout",
     "output_type": "stream",
     "text": [
      "[CV] END classifier__learning_rate=0.1, classifier__max_depth=7, classifier__n_estimators=200; total time=  29.9s\n"
     ]
    },
    {
     "name": "stderr",
     "output_type": "stream",
     "text": [
      "/Users/alexandre/miniconda3/envs/datalab_env/lib/python3.13/site-packages/xgboost/core.py:158: UserWarning: [21:32:03] WARNING: /Users/runner/work/xgboost/xgboost/src/context.cc:196: XGBoost is not compiled with CUDA support.\n",
      "  warnings.warn(smsg, UserWarning)\n"
     ]
    },
    {
     "name": "stdout",
     "output_type": "stream",
     "text": [
      "[CV] END classifier__learning_rate=0.1, classifier__max_depth=7, classifier__n_estimators=200; total time=  28.9s\n"
     ]
    },
    {
     "name": "stderr",
     "output_type": "stream",
     "text": [
      "/Users/alexandre/miniconda3/envs/datalab_env/lib/python3.13/site-packages/xgboost/core.py:158: UserWarning: [21:32:32] WARNING: /Users/runner/work/xgboost/xgboost/src/context.cc:196: XGBoost is not compiled with CUDA support.\n",
      "  warnings.warn(smsg, UserWarning)\n"
     ]
    },
    {
     "name": "stdout",
     "output_type": "stream",
     "text": [
      "[CV] END classifier__learning_rate=0.1, classifier__max_depth=7, classifier__n_estimators=200; total time=  29.3s\n"
     ]
    },
    {
     "name": "stderr",
     "output_type": "stream",
     "text": [
      "/Users/alexandre/miniconda3/envs/datalab_env/lib/python3.13/site-packages/xgboost/core.py:158: UserWarning: [21:33:01] WARNING: /Users/runner/work/xgboost/xgboost/src/context.cc:196: XGBoost is not compiled with CUDA support.\n",
      "  warnings.warn(smsg, UserWarning)\n"
     ]
    },
    {
     "name": "stdout",
     "output_type": "stream",
     "text": [
      "[CV] END classifier__learning_rate=0.3, classifier__max_depth=3, classifier__n_estimators=50; total time=   7.9s\n"
     ]
    },
    {
     "name": "stderr",
     "output_type": "stream",
     "text": [
      "/Users/alexandre/miniconda3/envs/datalab_env/lib/python3.13/site-packages/xgboost/core.py:158: UserWarning: [21:33:09] WARNING: /Users/runner/work/xgboost/xgboost/src/context.cc:196: XGBoost is not compiled with CUDA support.\n",
      "  warnings.warn(smsg, UserWarning)\n"
     ]
    },
    {
     "name": "stdout",
     "output_type": "stream",
     "text": [
      "[CV] END classifier__learning_rate=0.3, classifier__max_depth=3, classifier__n_estimators=50; total time=   7.7s\n"
     ]
    },
    {
     "name": "stderr",
     "output_type": "stream",
     "text": [
      "/Users/alexandre/miniconda3/envs/datalab_env/lib/python3.13/site-packages/xgboost/core.py:158: UserWarning: [21:33:17] WARNING: /Users/runner/work/xgboost/xgboost/src/context.cc:196: XGBoost is not compiled with CUDA support.\n",
      "  warnings.warn(smsg, UserWarning)\n"
     ]
    },
    {
     "name": "stdout",
     "output_type": "stream",
     "text": [
      "[CV] END classifier__learning_rate=0.3, classifier__max_depth=3, classifier__n_estimators=50; total time=   7.8s\n"
     ]
    },
    {
     "name": "stderr",
     "output_type": "stream",
     "text": [
      "/Users/alexandre/miniconda3/envs/datalab_env/lib/python3.13/site-packages/xgboost/core.py:158: UserWarning: [21:33:25] WARNING: /Users/runner/work/xgboost/xgboost/src/context.cc:196: XGBoost is not compiled with CUDA support.\n",
      "  warnings.warn(smsg, UserWarning)\n"
     ]
    },
    {
     "name": "stdout",
     "output_type": "stream",
     "text": [
      "[CV] END classifier__learning_rate=0.3, classifier__max_depth=3, classifier__n_estimators=50; total time=   7.9s\n"
     ]
    },
    {
     "name": "stderr",
     "output_type": "stream",
     "text": [
      "/Users/alexandre/miniconda3/envs/datalab_env/lib/python3.13/site-packages/xgboost/core.py:158: UserWarning: [21:33:32] WARNING: /Users/runner/work/xgboost/xgboost/src/context.cc:196: XGBoost is not compiled with CUDA support.\n",
      "  warnings.warn(smsg, UserWarning)\n"
     ]
    },
    {
     "name": "stdout",
     "output_type": "stream",
     "text": [
      "[CV] END classifier__learning_rate=0.3, classifier__max_depth=3, classifier__n_estimators=50; total time=   7.8s\n"
     ]
    },
    {
     "name": "stderr",
     "output_type": "stream",
     "text": [
      "/Users/alexandre/miniconda3/envs/datalab_env/lib/python3.13/site-packages/xgboost/core.py:158: UserWarning: [21:33:40] WARNING: /Users/runner/work/xgboost/xgboost/src/context.cc:196: XGBoost is not compiled with CUDA support.\n",
      "  warnings.warn(smsg, UserWarning)\n"
     ]
    },
    {
     "name": "stdout",
     "output_type": "stream",
     "text": [
      "[CV] END classifier__learning_rate=0.3, classifier__max_depth=3, classifier__n_estimators=100; total time=   9.2s\n"
     ]
    },
    {
     "name": "stderr",
     "output_type": "stream",
     "text": [
      "/Users/alexandre/miniconda3/envs/datalab_env/lib/python3.13/site-packages/xgboost/core.py:158: UserWarning: [21:33:49] WARNING: /Users/runner/work/xgboost/xgboost/src/context.cc:196: XGBoost is not compiled with CUDA support.\n",
      "  warnings.warn(smsg, UserWarning)\n"
     ]
    },
    {
     "name": "stdout",
     "output_type": "stream",
     "text": [
      "[CV] END classifier__learning_rate=0.3, classifier__max_depth=3, classifier__n_estimators=100; total time=   8.8s\n"
     ]
    },
    {
     "name": "stderr",
     "output_type": "stream",
     "text": [
      "/Users/alexandre/miniconda3/envs/datalab_env/lib/python3.13/site-packages/xgboost/core.py:158: UserWarning: [21:33:58] WARNING: /Users/runner/work/xgboost/xgboost/src/context.cc:196: XGBoost is not compiled with CUDA support.\n",
      "  warnings.warn(smsg, UserWarning)\n"
     ]
    },
    {
     "name": "stdout",
     "output_type": "stream",
     "text": [
      "[CV] END classifier__learning_rate=0.3, classifier__max_depth=3, classifier__n_estimators=100; total time=   9.2s\n"
     ]
    },
    {
     "name": "stderr",
     "output_type": "stream",
     "text": [
      "/Users/alexandre/miniconda3/envs/datalab_env/lib/python3.13/site-packages/xgboost/core.py:158: UserWarning: [21:34:07] WARNING: /Users/runner/work/xgboost/xgboost/src/context.cc:196: XGBoost is not compiled with CUDA support.\n",
      "  warnings.warn(smsg, UserWarning)\n"
     ]
    },
    {
     "name": "stdout",
     "output_type": "stream",
     "text": [
      "[CV] END classifier__learning_rate=0.3, classifier__max_depth=3, classifier__n_estimators=100; total time=   9.0s\n"
     ]
    },
    {
     "name": "stderr",
     "output_type": "stream",
     "text": [
      "/Users/alexandre/miniconda3/envs/datalab_env/lib/python3.13/site-packages/xgboost/core.py:158: UserWarning: [21:34:17] WARNING: /Users/runner/work/xgboost/xgboost/src/context.cc:196: XGBoost is not compiled with CUDA support.\n",
      "  warnings.warn(smsg, UserWarning)\n"
     ]
    },
    {
     "name": "stdout",
     "output_type": "stream",
     "text": [
      "[CV] END classifier__learning_rate=0.3, classifier__max_depth=3, classifier__n_estimators=100; total time=   8.7s\n"
     ]
    },
    {
     "name": "stderr",
     "output_type": "stream",
     "text": [
      "/Users/alexandre/miniconda3/envs/datalab_env/lib/python3.13/site-packages/xgboost/core.py:158: UserWarning: [21:34:25] WARNING: /Users/runner/work/xgboost/xgboost/src/context.cc:196: XGBoost is not compiled with CUDA support.\n",
      "  warnings.warn(smsg, UserWarning)\n"
     ]
    },
    {
     "name": "stdout",
     "output_type": "stream",
     "text": [
      "[CV] END classifier__learning_rate=0.3, classifier__max_depth=3, classifier__n_estimators=200; total time=  11.7s\n"
     ]
    },
    {
     "name": "stderr",
     "output_type": "stream",
     "text": [
      "/Users/alexandre/miniconda3/envs/datalab_env/lib/python3.13/site-packages/xgboost/core.py:158: UserWarning: [21:34:37] WARNING: /Users/runner/work/xgboost/xgboost/src/context.cc:196: XGBoost is not compiled with CUDA support.\n",
      "  warnings.warn(smsg, UserWarning)\n"
     ]
    },
    {
     "name": "stdout",
     "output_type": "stream",
     "text": [
      "[CV] END classifier__learning_rate=0.3, classifier__max_depth=3, classifier__n_estimators=200; total time=  11.9s\n"
     ]
    },
    {
     "name": "stderr",
     "output_type": "stream",
     "text": [
      "/Users/alexandre/miniconda3/envs/datalab_env/lib/python3.13/site-packages/xgboost/core.py:158: UserWarning: [21:34:49] WARNING: /Users/runner/work/xgboost/xgboost/src/context.cc:196: XGBoost is not compiled with CUDA support.\n",
      "  warnings.warn(smsg, UserWarning)\n"
     ]
    },
    {
     "name": "stdout",
     "output_type": "stream",
     "text": [
      "[CV] END classifier__learning_rate=0.3, classifier__max_depth=3, classifier__n_estimators=200; total time=  11.9s\n"
     ]
    },
    {
     "name": "stderr",
     "output_type": "stream",
     "text": [
      "/Users/alexandre/miniconda3/envs/datalab_env/lib/python3.13/site-packages/xgboost/core.py:158: UserWarning: [21:35:01] WARNING: /Users/runner/work/xgboost/xgboost/src/context.cc:196: XGBoost is not compiled with CUDA support.\n",
      "  warnings.warn(smsg, UserWarning)\n"
     ]
    },
    {
     "name": "stdout",
     "output_type": "stream",
     "text": [
      "[CV] END classifier__learning_rate=0.3, classifier__max_depth=3, classifier__n_estimators=200; total time=  11.5s\n"
     ]
    },
    {
     "name": "stderr",
     "output_type": "stream",
     "text": [
      "/Users/alexandre/miniconda3/envs/datalab_env/lib/python3.13/site-packages/xgboost/core.py:158: UserWarning: [21:35:13] WARNING: /Users/runner/work/xgboost/xgboost/src/context.cc:196: XGBoost is not compiled with CUDA support.\n",
      "  warnings.warn(smsg, UserWarning)\n"
     ]
    },
    {
     "name": "stdout",
     "output_type": "stream",
     "text": [
      "[CV] END classifier__learning_rate=0.3, classifier__max_depth=3, classifier__n_estimators=200; total time=  12.0s\n"
     ]
    },
    {
     "name": "stderr",
     "output_type": "stream",
     "text": [
      "/Users/alexandre/miniconda3/envs/datalab_env/lib/python3.13/site-packages/xgboost/core.py:158: UserWarning: [21:35:25] WARNING: /Users/runner/work/xgboost/xgboost/src/context.cc:196: XGBoost is not compiled with CUDA support.\n",
      "  warnings.warn(smsg, UserWarning)\n"
     ]
    },
    {
     "name": "stdout",
     "output_type": "stream",
     "text": [
      "[CV] END classifier__learning_rate=0.3, classifier__max_depth=5, classifier__n_estimators=50; total time=   9.7s\n"
     ]
    },
    {
     "name": "stderr",
     "output_type": "stream",
     "text": [
      "/Users/alexandre/miniconda3/envs/datalab_env/lib/python3.13/site-packages/xgboost/core.py:158: UserWarning: [21:35:34] WARNING: /Users/runner/work/xgboost/xgboost/src/context.cc:196: XGBoost is not compiled with CUDA support.\n",
      "  warnings.warn(smsg, UserWarning)\n"
     ]
    },
    {
     "name": "stdout",
     "output_type": "stream",
     "text": [
      "[CV] END classifier__learning_rate=0.3, classifier__max_depth=5, classifier__n_estimators=50; total time=   9.5s\n"
     ]
    },
    {
     "name": "stderr",
     "output_type": "stream",
     "text": [
      "/Users/alexandre/miniconda3/envs/datalab_env/lib/python3.13/site-packages/xgboost/core.py:158: UserWarning: [21:35:44] WARNING: /Users/runner/work/xgboost/xgboost/src/context.cc:196: XGBoost is not compiled with CUDA support.\n",
      "  warnings.warn(smsg, UserWarning)\n"
     ]
    },
    {
     "name": "stdout",
     "output_type": "stream",
     "text": [
      "[CV] END classifier__learning_rate=0.3, classifier__max_depth=5, classifier__n_estimators=50; total time=   9.6s\n"
     ]
    },
    {
     "name": "stderr",
     "output_type": "stream",
     "text": [
      "/Users/alexandre/miniconda3/envs/datalab_env/lib/python3.13/site-packages/xgboost/core.py:158: UserWarning: [21:35:53] WARNING: /Users/runner/work/xgboost/xgboost/src/context.cc:196: XGBoost is not compiled with CUDA support.\n",
      "  warnings.warn(smsg, UserWarning)\n"
     ]
    },
    {
     "name": "stdout",
     "output_type": "stream",
     "text": [
      "[CV] END classifier__learning_rate=0.3, classifier__max_depth=5, classifier__n_estimators=50; total time=   9.4s\n"
     ]
    },
    {
     "name": "stderr",
     "output_type": "stream",
     "text": [
      "/Users/alexandre/miniconda3/envs/datalab_env/lib/python3.13/site-packages/xgboost/core.py:158: UserWarning: [21:36:03] WARNING: /Users/runner/work/xgboost/xgboost/src/context.cc:196: XGBoost is not compiled with CUDA support.\n",
      "  warnings.warn(smsg, UserWarning)\n"
     ]
    },
    {
     "name": "stdout",
     "output_type": "stream",
     "text": [
      "[CV] END classifier__learning_rate=0.3, classifier__max_depth=5, classifier__n_estimators=50; total time=   9.7s\n"
     ]
    },
    {
     "name": "stderr",
     "output_type": "stream",
     "text": [
      "/Users/alexandre/miniconda3/envs/datalab_env/lib/python3.13/site-packages/xgboost/core.py:158: UserWarning: [21:36:12] WARNING: /Users/runner/work/xgboost/xgboost/src/context.cc:196: XGBoost is not compiled with CUDA support.\n",
      "  warnings.warn(smsg, UserWarning)\n"
     ]
    },
    {
     "name": "stdout",
     "output_type": "stream",
     "text": [
      "[CV] END classifier__learning_rate=0.3, classifier__max_depth=5, classifier__n_estimators=100; total time=  11.7s\n"
     ]
    },
    {
     "name": "stderr",
     "output_type": "stream",
     "text": [
      "/Users/alexandre/miniconda3/envs/datalab_env/lib/python3.13/site-packages/xgboost/core.py:158: UserWarning: [21:36:24] WARNING: /Users/runner/work/xgboost/xgboost/src/context.cc:196: XGBoost is not compiled with CUDA support.\n",
      "  warnings.warn(smsg, UserWarning)\n"
     ]
    },
    {
     "name": "stdout",
     "output_type": "stream",
     "text": [
      "[CV] END classifier__learning_rate=0.3, classifier__max_depth=5, classifier__n_estimators=100; total time=  12.1s\n"
     ]
    },
    {
     "name": "stderr",
     "output_type": "stream",
     "text": [
      "/Users/alexandre/miniconda3/envs/datalab_env/lib/python3.13/site-packages/xgboost/core.py:158: UserWarning: [21:36:36] WARNING: /Users/runner/work/xgboost/xgboost/src/context.cc:196: XGBoost is not compiled with CUDA support.\n",
      "  warnings.warn(smsg, UserWarning)\n"
     ]
    },
    {
     "name": "stdout",
     "output_type": "stream",
     "text": [
      "[CV] END classifier__learning_rate=0.3, classifier__max_depth=5, classifier__n_estimators=100; total time=  12.3s\n"
     ]
    },
    {
     "name": "stderr",
     "output_type": "stream",
     "text": [
      "/Users/alexandre/miniconda3/envs/datalab_env/lib/python3.13/site-packages/xgboost/core.py:158: UserWarning: [21:36:49] WARNING: /Users/runner/work/xgboost/xgboost/src/context.cc:196: XGBoost is not compiled with CUDA support.\n",
      "  warnings.warn(smsg, UserWarning)\n"
     ]
    },
    {
     "name": "stdout",
     "output_type": "stream",
     "text": [
      "[CV] END classifier__learning_rate=0.3, classifier__max_depth=5, classifier__n_estimators=100; total time=  12.1s\n"
     ]
    },
    {
     "name": "stderr",
     "output_type": "stream",
     "text": [
      "/Users/alexandre/miniconda3/envs/datalab_env/lib/python3.13/site-packages/xgboost/core.py:158: UserWarning: [21:37:01] WARNING: /Users/runner/work/xgboost/xgboost/src/context.cc:196: XGBoost is not compiled with CUDA support.\n",
      "  warnings.warn(smsg, UserWarning)\n"
     ]
    },
    {
     "name": "stdout",
     "output_type": "stream",
     "text": [
      "[CV] END classifier__learning_rate=0.3, classifier__max_depth=5, classifier__n_estimators=100; total time=  12.4s\n"
     ]
    },
    {
     "name": "stderr",
     "output_type": "stream",
     "text": [
      "/Users/alexandre/miniconda3/envs/datalab_env/lib/python3.13/site-packages/xgboost/core.py:158: UserWarning: [21:37:13] WARNING: /Users/runner/work/xgboost/xgboost/src/context.cc:196: XGBoost is not compiled with CUDA support.\n",
      "  warnings.warn(smsg, UserWarning)\n"
     ]
    },
    {
     "name": "stdout",
     "output_type": "stream",
     "text": [
      "[CV] END classifier__learning_rate=0.3, classifier__max_depth=5, classifier__n_estimators=200; total time=  17.2s\n"
     ]
    },
    {
     "name": "stderr",
     "output_type": "stream",
     "text": [
      "/Users/alexandre/miniconda3/envs/datalab_env/lib/python3.13/site-packages/xgboost/core.py:158: UserWarning: [21:37:31] WARNING: /Users/runner/work/xgboost/xgboost/src/context.cc:196: XGBoost is not compiled with CUDA support.\n",
      "  warnings.warn(smsg, UserWarning)\n"
     ]
    },
    {
     "name": "stdout",
     "output_type": "stream",
     "text": [
      "[CV] END classifier__learning_rate=0.3, classifier__max_depth=5, classifier__n_estimators=200; total time=  17.9s\n"
     ]
    },
    {
     "name": "stderr",
     "output_type": "stream",
     "text": [
      "/Users/alexandre/miniconda3/envs/datalab_env/lib/python3.13/site-packages/xgboost/core.py:158: UserWarning: [21:37:48] WARNING: /Users/runner/work/xgboost/xgboost/src/context.cc:196: XGBoost is not compiled with CUDA support.\n",
      "  warnings.warn(smsg, UserWarning)\n"
     ]
    },
    {
     "name": "stdout",
     "output_type": "stream",
     "text": [
      "[CV] END classifier__learning_rate=0.3, classifier__max_depth=5, classifier__n_estimators=200; total time=  17.5s\n"
     ]
    },
    {
     "name": "stderr",
     "output_type": "stream",
     "text": [
      "/Users/alexandre/miniconda3/envs/datalab_env/lib/python3.13/site-packages/xgboost/core.py:158: UserWarning: [21:38:06] WARNING: /Users/runner/work/xgboost/xgboost/src/context.cc:196: XGBoost is not compiled with CUDA support.\n",
      "  warnings.warn(smsg, UserWarning)\n"
     ]
    },
    {
     "name": "stdout",
     "output_type": "stream",
     "text": [
      "[CV] END classifier__learning_rate=0.3, classifier__max_depth=5, classifier__n_estimators=200; total time=  17.4s\n"
     ]
    },
    {
     "name": "stderr",
     "output_type": "stream",
     "text": [
      "/Users/alexandre/miniconda3/envs/datalab_env/lib/python3.13/site-packages/xgboost/core.py:158: UserWarning: [21:38:24] WARNING: /Users/runner/work/xgboost/xgboost/src/context.cc:196: XGBoost is not compiled with CUDA support.\n",
      "  warnings.warn(smsg, UserWarning)\n"
     ]
    },
    {
     "name": "stdout",
     "output_type": "stream",
     "text": [
      "[CV] END classifier__learning_rate=0.3, classifier__max_depth=5, classifier__n_estimators=200; total time=  17.6s\n"
     ]
    },
    {
     "name": "stderr",
     "output_type": "stream",
     "text": [
      "/Users/alexandre/miniconda3/envs/datalab_env/lib/python3.13/site-packages/xgboost/core.py:158: UserWarning: [21:38:41] WARNING: /Users/runner/work/xgboost/xgboost/src/context.cc:196: XGBoost is not compiled with CUDA support.\n",
      "  warnings.warn(smsg, UserWarning)\n"
     ]
    },
    {
     "name": "stdout",
     "output_type": "stream",
     "text": [
      "[CV] END classifier__learning_rate=0.3, classifier__max_depth=7, classifier__n_estimators=50; total time=  13.7s\n"
     ]
    },
    {
     "name": "stderr",
     "output_type": "stream",
     "text": [
      "/Users/alexandre/miniconda3/envs/datalab_env/lib/python3.13/site-packages/xgboost/core.py:158: UserWarning: [21:38:55] WARNING: /Users/runner/work/xgboost/xgboost/src/context.cc:196: XGBoost is not compiled with CUDA support.\n",
      "  warnings.warn(smsg, UserWarning)\n"
     ]
    },
    {
     "name": "stdout",
     "output_type": "stream",
     "text": [
      "[CV] END classifier__learning_rate=0.3, classifier__max_depth=7, classifier__n_estimators=50; total time=  12.9s\n"
     ]
    },
    {
     "name": "stderr",
     "output_type": "stream",
     "text": [
      "/Users/alexandre/miniconda3/envs/datalab_env/lib/python3.13/site-packages/xgboost/core.py:158: UserWarning: [21:39:08] WARNING: /Users/runner/work/xgboost/xgboost/src/context.cc:196: XGBoost is not compiled with CUDA support.\n",
      "  warnings.warn(smsg, UserWarning)\n"
     ]
    },
    {
     "name": "stdout",
     "output_type": "stream",
     "text": [
      "[CV] END classifier__learning_rate=0.3, classifier__max_depth=7, classifier__n_estimators=50; total time=  12.9s\n"
     ]
    },
    {
     "name": "stderr",
     "output_type": "stream",
     "text": [
      "/Users/alexandre/miniconda3/envs/datalab_env/lib/python3.13/site-packages/xgboost/core.py:158: UserWarning: [21:39:21] WARNING: /Users/runner/work/xgboost/xgboost/src/context.cc:196: XGBoost is not compiled with CUDA support.\n",
      "  warnings.warn(smsg, UserWarning)\n"
     ]
    },
    {
     "name": "stdout",
     "output_type": "stream",
     "text": [
      "[CV] END classifier__learning_rate=0.3, classifier__max_depth=7, classifier__n_estimators=50; total time=  12.7s\n"
     ]
    },
    {
     "name": "stderr",
     "output_type": "stream",
     "text": [
      "/Users/alexandre/miniconda3/envs/datalab_env/lib/python3.13/site-packages/xgboost/core.py:158: UserWarning: [21:39:34] WARNING: /Users/runner/work/xgboost/xgboost/src/context.cc:196: XGBoost is not compiled with CUDA support.\n",
      "  warnings.warn(smsg, UserWarning)\n"
     ]
    },
    {
     "name": "stdout",
     "output_type": "stream",
     "text": [
      "[CV] END classifier__learning_rate=0.3, classifier__max_depth=7, classifier__n_estimators=50; total time=  13.1s\n"
     ]
    },
    {
     "name": "stderr",
     "output_type": "stream",
     "text": [
      "/Users/alexandre/miniconda3/envs/datalab_env/lib/python3.13/site-packages/xgboost/core.py:158: UserWarning: [21:39:47] WARNING: /Users/runner/work/xgboost/xgboost/src/context.cc:196: XGBoost is not compiled with CUDA support.\n",
      "  warnings.warn(smsg, UserWarning)\n"
     ]
    },
    {
     "name": "stdout",
     "output_type": "stream",
     "text": [
      "[CV] END classifier__learning_rate=0.3, classifier__max_depth=7, classifier__n_estimators=100; total time=  16.8s\n"
     ]
    },
    {
     "name": "stderr",
     "output_type": "stream",
     "text": [
      "/Users/alexandre/miniconda3/envs/datalab_env/lib/python3.13/site-packages/xgboost/core.py:158: UserWarning: [21:40:04] WARNING: /Users/runner/work/xgboost/xgboost/src/context.cc:196: XGBoost is not compiled with CUDA support.\n",
      "  warnings.warn(smsg, UserWarning)\n"
     ]
    },
    {
     "name": "stdout",
     "output_type": "stream",
     "text": [
      "[CV] END classifier__learning_rate=0.3, classifier__max_depth=7, classifier__n_estimators=100; total time=  16.5s\n"
     ]
    },
    {
     "name": "stderr",
     "output_type": "stream",
     "text": [
      "/Users/alexandre/miniconda3/envs/datalab_env/lib/python3.13/site-packages/xgboost/core.py:158: UserWarning: [21:40:20] WARNING: /Users/runner/work/xgboost/xgboost/src/context.cc:196: XGBoost is not compiled with CUDA support.\n",
      "  warnings.warn(smsg, UserWarning)\n"
     ]
    },
    {
     "name": "stdout",
     "output_type": "stream",
     "text": [
      "[CV] END classifier__learning_rate=0.3, classifier__max_depth=7, classifier__n_estimators=100; total time=  17.5s\n"
     ]
    },
    {
     "name": "stderr",
     "output_type": "stream",
     "text": [
      "/Users/alexandre/miniconda3/envs/datalab_env/lib/python3.13/site-packages/xgboost/core.py:158: UserWarning: [21:40:37] WARNING: /Users/runner/work/xgboost/xgboost/src/context.cc:196: XGBoost is not compiled with CUDA support.\n",
      "  warnings.warn(smsg, UserWarning)\n"
     ]
    },
    {
     "name": "stdout",
     "output_type": "stream",
     "text": [
      "[CV] END classifier__learning_rate=0.3, classifier__max_depth=7, classifier__n_estimators=100; total time=  16.5s\n"
     ]
    },
    {
     "name": "stderr",
     "output_type": "stream",
     "text": [
      "/Users/alexandre/miniconda3/envs/datalab_env/lib/python3.13/site-packages/xgboost/core.py:158: UserWarning: [21:40:54] WARNING: /Users/runner/work/xgboost/xgboost/src/context.cc:196: XGBoost is not compiled with CUDA support.\n",
      "  warnings.warn(smsg, UserWarning)\n"
     ]
    },
    {
     "name": "stdout",
     "output_type": "stream",
     "text": [
      "[CV] END classifier__learning_rate=0.3, classifier__max_depth=7, classifier__n_estimators=100; total time=  17.0s\n"
     ]
    },
    {
     "name": "stderr",
     "output_type": "stream",
     "text": [
      "/Users/alexandre/miniconda3/envs/datalab_env/lib/python3.13/site-packages/xgboost/core.py:158: UserWarning: [21:41:11] WARNING: /Users/runner/work/xgboost/xgboost/src/context.cc:196: XGBoost is not compiled with CUDA support.\n",
      "  warnings.warn(smsg, UserWarning)\n"
     ]
    },
    {
     "name": "stdout",
     "output_type": "stream",
     "text": [
      "[CV] END classifier__learning_rate=0.3, classifier__max_depth=7, classifier__n_estimators=200; total time=  25.2s\n"
     ]
    },
    {
     "name": "stderr",
     "output_type": "stream",
     "text": [
      "/Users/alexandre/miniconda3/envs/datalab_env/lib/python3.13/site-packages/xgboost/core.py:158: UserWarning: [21:41:37] WARNING: /Users/runner/work/xgboost/xgboost/src/context.cc:196: XGBoost is not compiled with CUDA support.\n",
      "  warnings.warn(smsg, UserWarning)\n"
     ]
    },
    {
     "name": "stdout",
     "output_type": "stream",
     "text": [
      "[CV] END classifier__learning_rate=0.3, classifier__max_depth=7, classifier__n_estimators=200; total time=  26.0s\n"
     ]
    },
    {
     "name": "stderr",
     "output_type": "stream",
     "text": [
      "/Users/alexandre/miniconda3/envs/datalab_env/lib/python3.13/site-packages/xgboost/core.py:158: UserWarning: [21:42:03] WARNING: /Users/runner/work/xgboost/xgboost/src/context.cc:196: XGBoost is not compiled with CUDA support.\n",
      "  warnings.warn(smsg, UserWarning)\n"
     ]
    },
    {
     "name": "stdout",
     "output_type": "stream",
     "text": [
      "[CV] END classifier__learning_rate=0.3, classifier__max_depth=7, classifier__n_estimators=200; total time=  24.9s\n"
     ]
    },
    {
     "name": "stderr",
     "output_type": "stream",
     "text": [
      "/Users/alexandre/miniconda3/envs/datalab_env/lib/python3.13/site-packages/xgboost/core.py:158: UserWarning: [21:42:28] WARNING: /Users/runner/work/xgboost/xgboost/src/context.cc:196: XGBoost is not compiled with CUDA support.\n",
      "  warnings.warn(smsg, UserWarning)\n"
     ]
    },
    {
     "name": "stdout",
     "output_type": "stream",
     "text": [
      "[CV] END classifier__learning_rate=0.3, classifier__max_depth=7, classifier__n_estimators=200; total time=  25.9s\n"
     ]
    },
    {
     "name": "stderr",
     "output_type": "stream",
     "text": [
      "/Users/alexandre/miniconda3/envs/datalab_env/lib/python3.13/site-packages/xgboost/core.py:158: UserWarning: [21:42:53] WARNING: /Users/runner/work/xgboost/xgboost/src/context.cc:196: XGBoost is not compiled with CUDA support.\n",
      "  warnings.warn(smsg, UserWarning)\n"
     ]
    },
    {
     "name": "stdout",
     "output_type": "stream",
     "text": [
      "[CV] END classifier__learning_rate=0.3, classifier__max_depth=7, classifier__n_estimators=200; total time=  25.7s\n"
     ]
    },
    {
     "name": "stderr",
     "output_type": "stream",
     "text": [
      "/Users/alexandre/miniconda3/envs/datalab_env/lib/python3.13/site-packages/xgboost/core.py:158: UserWarning: [21:43:19] WARNING: /Users/runner/work/xgboost/xgboost/src/context.cc:196: XGBoost is not compiled with CUDA support.\n",
      "  warnings.warn(smsg, UserWarning)\n"
     ]
    },
    {
     "name": "stdout",
     "output_type": "stream",
     "text": [
      "Meilleurs paramètres : {'classifier__learning_rate': 0.3, 'classifier__max_depth': 7, 'classifier__n_estimators': 200}\n",
      "Meilleur score : 0.9980678175785862\n"
     ]
    }
   ],
   "source": [
    "from sklearn.model_selection import GridSearchCV\n",
    "from xgboost import XGBClassifier\n",
    "\n",
    "pipeline = Pipeline([\n",
    "    (\"preprocessing\", preprocessor),\n",
    "    (\"classifier\", XGBClassifier(objective='binary:logistic', device = \"cuda\"))\n",
    "])\n",
    "\n",
    "param_grid = {\n",
    "    \"classifier__n_estimators\": [50, 100, 200],\n",
    "    \"classifier__max_depth\": [3, 5, 7],\n",
    "    \"classifier__learning_rate\": [0.01, 0.1, 0.3],\n",
    "}\n",
    "\n",
    "grid_search = GridSearchCV(\n",
    "    pipeline, \n",
    "    param_grid, \n",
    "    cv=5, \n",
    "    scoring=\"accuracy\", \n",
    "    verbose=2, \n",
    "    # n_jobs=-1\n",
    ")\n",
    "\n",
    "grid_search.fit(X_train, y_train)\n",
    "\n",
    "print(\"Meilleurs paramètres :\", grid_search.best_params_)\n",
    "print(\"Meilleur score :\", grid_search.best_score_)\n"
   ]
  },
  {
   "cell_type": "code",
   "execution_count": 16,
   "metadata": {},
   "outputs": [
    {
     "name": "stdout",
     "output_type": "stream",
     "text": [
      "Accuracy: 0.9983\n",
      "f1_score: 0.7490\n",
      "              precision    recall  f1-score   support\n",
      "\n",
      "           0       1.00      1.00      1.00    110715\n",
      "           1       0.87      0.66      0.75       429\n",
      "\n",
      "    accuracy                           1.00    111144\n",
      "   macro avg       0.93      0.83      0.87    111144\n",
      "weighted avg       1.00      1.00      1.00    111144\n",
      "\n"
     ]
    }
   ],
   "source": [
    "from sklearn.metrics import f1_score\n",
    "\n",
    "# Prédictions avec le meilleur modèle\n",
    "y_pred = grid_search.best_estimator_.predict(X_test)\n",
    "\n",
    "# Score d'accuracy\n",
    "accuracy = accuracy_score(y_test, y_pred)\n",
    "f1 = f1_score(y_test, y_pred)\n",
    "print(f\"Accuracy: {accuracy:.4f}\")\n",
    "print(f\"f1_score: {f1:.4f}\")\n",
    "\n",
    "# Rapport détaillé\n",
    "print(classification_report(y_test, y_pred))"
   ]
  },
  {
   "cell_type": "code",
   "execution_count": 17,
   "metadata": {},
   "outputs": [
    {
     "name": "stderr",
     "output_type": "stream",
     "text": [
      "/var/folders/6j/sv8jppw10xn_17k56lbbjxj40000gn/T/ipykernel_2671/2604821951.py:14: FutureWarning: \n",
      "\n",
      "Passing `palette` without assigning `hue` is deprecated and will be removed in v0.14.0. Assign the `y` variable to `hue` and set `legend=False` for the same effect.\n",
      "\n",
      "  sns.barplot(x=importances[:10], y=importances.index[:10], palette=\"viridis\")\n"
     ]
    },
    {
     "data": {
      "image/png": "[encoded data removed]",
      "text/plain": [
       "<Figure size 1000x600 with 1 Axes>"
      ]
     },
     "metadata": {},
     "output_type": "display_data"
    }
   ],
   "source": [
    "# Afficher sous forme de graphique\n",
    "import matplotlib.pyplot as plt\n",
    "import seaborn as sns\n",
    "\n",
    "# Récupérer les noms des features après transformation\n",
    "feature_names = numerical_columns.tolist() + \\\n",
    "                grid_search.best_estimator_.named_steps[\"preprocessing\"].named_transformers_[\"cat\"].get_feature_names_out(categorical_columns).tolist()\n",
    "\n",
    "# Extraire l'importance des features\n",
    "importances = pd.Series(grid_search.best_estimator_.named_steps[\"classifier\"].feature_importances_, index=feature_names).sort_values(ascending=False)\n",
    "\n",
    "\n",
    "plt.figure(figsize=(10,6))\n",
    "sns.barplot(x=importances[:10], y=importances.index[:10], palette=\"viridis\")\n",
    "plt.title(\"Top 10 des Features Importantes\")\n",
    "plt.xlabel(\"Importance\")\n",
    "plt.ylabel(\"Feature\")\n",
    "plt.show()"
   ]
  },
  {
   "cell_type": "code",
   "execution_count": null,
   "metadata": {},
   "outputs": [],
   "source": []
  }
 ],
 "metadata": {
  "kernelspec": {
   "display_name": "datalab_env",
   "language": "python",
   "name": "python3"
  },
  "language_info": {
   "codemirror_mode": {
    "name": "ipython",
    "version": 3
   },
   "file_extension": ".py",
   "mimetype": "text/x-python",
   "name": "python",
   "nbconvert_exporter": "python",
   "pygments_lexer": "ipython3",
   "version": "3.12.5"
  }
 },
 "nbformat": 4,
 "nbformat_minor": 2
}
